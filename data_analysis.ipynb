{
 "cells": [
  {
   "cell_type": "code",
   "execution_count": 46,
   "metadata": {},
   "outputs": [
    {
     "name": "stdout",
     "output_type": "stream",
     "text": [
      "Requirement already satisfied: cmdstanpy in /usr/local/lib/python3.9/site-packages (1.0.1)\n",
      "Requirement already satisfied: pandas in /usr/local/lib/python3.9/site-packages (from cmdstanpy) (1.4.2)\n",
      "Requirement already satisfied: numpy>=1.21 in /usr/local/lib/python3.9/site-packages (from cmdstanpy) (1.22.3)\n",
      "Requirement already satisfied: tqdm in /usr/local/lib/python3.9/site-packages (from cmdstanpy) (4.63.1)\n",
      "Requirement already satisfied: ujson in /usr/local/lib/python3.9/site-packages (from cmdstanpy) (5.1.0)\n",
      "Requirement already satisfied: python-dateutil>=2.8.1 in /usr/local/lib/python3.9/site-packages (from pandas->cmdstanpy) (2.8.2)\n",
      "Requirement already satisfied: pytz>=2020.1 in /usr/local/lib/python3.9/site-packages (from pandas->cmdstanpy) (2022.1)\n",
      "Requirement already satisfied: six>=1.5 in /usr/local/lib/python3.9/site-packages (from python-dateutil>=2.8.1->pandas->cmdstanpy) (1.16.0)\n",
      "\u001b[33mWARNING: Running pip as the 'root' user can result in broken permissions and conflicting behaviour with the system package manager. It is recommended to use a virtual environment instead: https://pip.pypa.io/warnings/venv\u001b[0m\n",
      "\u001b[33mWARNING: You are using pip version 21.2.4; however, version 23.1.2 is available.\n",
      "You should consider upgrading via the '/usr/local/bin/python -m pip install --upgrade pip' command.\u001b[0m\n"
     ]
    }
   ],
   "source": [
    "!pip install cmdstanpy\n"
   ]
  },
  {
   "cell_type": "code",
   "execution_count": 47,
   "metadata": {},
   "outputs": [],
   "source": [
    "import numpy as np\n",
    "import pandas as pd\n",
    "import seaborn as sns\n",
    "import matplotlib.pyplot as plt\n",
    "import scipy\n",
    "from cmdstanpy import CmdStanModel"
   ]
  },
  {
   "cell_type": "code",
   "execution_count": 48,
   "metadata": {},
   "outputs": [
    {
     "data": {
      "text/html": [
       "<div>\n",
       "<style scoped>\n",
       "    .dataframe tbody tr th:only-of-type {\n",
       "        vertical-align: middle;\n",
       "    }\n",
       "\n",
       "    .dataframe tbody tr th {\n",
       "        vertical-align: top;\n",
       "    }\n",
       "\n",
       "    .dataframe thead th {\n",
       "        text-align: right;\n",
       "    }\n",
       "</style>\n",
       "<table border=\"1\" class=\"dataframe\">\n",
       "  <thead>\n",
       "    <tr style=\"text-align: right;\">\n",
       "      <th></th>\n",
       "      <th>Unnamed: 0</th>\n",
       "      <th>kid_id</th>\n",
       "      <th>mum_id</th>\n",
       "      <th>dad_id</th>\n",
       "      <th>value_numeric</th>\n",
       "      <th>first_place</th>\n",
       "      <th>dad_value_numeric</th>\n",
       "      <th>dad_first_place</th>\n",
       "      <th>dad_second_place</th>\n",
       "      <th>dad_third_place</th>\n",
       "      <th>dad_num_of_starts</th>\n",
       "    </tr>\n",
       "  </thead>\n",
       "  <tbody>\n",
       "    <tr>\n",
       "      <th>0</th>\n",
       "      <td>0</td>\n",
       "      <td>1</td>\n",
       "      <td>D1</td>\n",
       "      <td>S2</td>\n",
       "      <td>132570.0</td>\n",
       "      <td>8</td>\n",
       "      <td>156410.0</td>\n",
       "      <td>9.0</td>\n",
       "      <td>1.0</td>\n",
       "      <td>0.0</td>\n",
       "      <td>10.0</td>\n",
       "    </tr>\n",
       "    <tr>\n",
       "      <th>1</th>\n",
       "      <td>2</td>\n",
       "      <td>3</td>\n",
       "      <td>D1</td>\n",
       "      <td>S3</td>\n",
       "      <td>631605.0</td>\n",
       "      <td>11</td>\n",
       "      <td>1749869.0</td>\n",
       "      <td>43.0</td>\n",
       "      <td>8.0</td>\n",
       "      <td>5.0</td>\n",
       "      <td>66.0</td>\n",
       "    </tr>\n",
       "    <tr>\n",
       "      <th>2</th>\n",
       "      <td>3</td>\n",
       "      <td>4</td>\n",
       "      <td>D1</td>\n",
       "      <td>S4</td>\n",
       "      <td>8963.0</td>\n",
       "      <td>1</td>\n",
       "      <td>580806.0</td>\n",
       "      <td>14.0</td>\n",
       "      <td>2.0</td>\n",
       "      <td>2.0</td>\n",
       "      <td>18.0</td>\n",
       "    </tr>\n",
       "    <tr>\n",
       "      <th>3</th>\n",
       "      <td>4</td>\n",
       "      <td>5</td>\n",
       "      <td>D1</td>\n",
       "      <td>S4</td>\n",
       "      <td>4799.0</td>\n",
       "      <td>1</td>\n",
       "      <td>580806.0</td>\n",
       "      <td>14.0</td>\n",
       "      <td>2.0</td>\n",
       "      <td>2.0</td>\n",
       "      <td>18.0</td>\n",
       "    </tr>\n",
       "    <tr>\n",
       "      <th>4</th>\n",
       "      <td>7</td>\n",
       "      <td>58</td>\n",
       "      <td>D9</td>\n",
       "      <td>S5</td>\n",
       "      <td>209211.0</td>\n",
       "      <td>14</td>\n",
       "      <td>1176781.0</td>\n",
       "      <td>21.0</td>\n",
       "      <td>7.0</td>\n",
       "      <td>3.0</td>\n",
       "      <td>32.0</td>\n",
       "    </tr>\n",
       "  </tbody>\n",
       "</table>\n",
       "</div>"
      ],
      "text/plain": [
       "   Unnamed: 0  kid_id mum_id dad_id  value_numeric  first_place  \\\n",
       "0           0       1     D1     S2       132570.0            8   \n",
       "1           2       3     D1     S3       631605.0           11   \n",
       "2           3       4     D1     S4         8963.0            1   \n",
       "3           4       5     D1     S4         4799.0            1   \n",
       "4           7      58     D9     S5       209211.0           14   \n",
       "\n",
       "   dad_value_numeric  dad_first_place  dad_second_place  dad_third_place  \\\n",
       "0           156410.0              9.0               1.0              0.0   \n",
       "1          1749869.0             43.0               8.0              5.0   \n",
       "2           580806.0             14.0               2.0              2.0   \n",
       "3           580806.0             14.0               2.0              2.0   \n",
       "4          1176781.0             21.0               7.0              3.0   \n",
       "\n",
       "   dad_num_of_starts  \n",
       "0               10.0  \n",
       "1               66.0  \n",
       "2               18.0  \n",
       "3               18.0  \n",
       "4               32.0  "
      ]
     },
     "execution_count": 48,
     "metadata": {},
     "output_type": "execute_result"
    }
   ],
   "source": [
    "# imports\n",
    "path_to_prep_mum = 'data/data_prepared/mums_prep.csv'\n",
    "path_to_prep_dad = 'data/data_prepared/dads_prep.csv'\n",
    "df_dads = pd.read_csv(path_to_prep_dad)\n",
    "df_dads['dad_value_numeric_rescale'] = df_dads.dad_value_numeric /10**6\n",
    "\n",
    "\n",
    "path_to_prepared_data = 'data/data_prepared/only_stalions_prepared.csv'\n",
    "df = pd.read_csv(path_to_prepared_data)\n",
    "df.head()"
   ]
  },
  {
   "cell_type": "code",
   "execution_count": 49,
   "metadata": {},
   "outputs": [
    {
     "name": "stdout",
     "output_type": "stream",
     "text": [
      "<class 'pandas.core.frame.DataFrame'>\n",
      "RangeIndex: 40 entries, 0 to 39\n",
      "Data columns (total 11 columns):\n",
      " #   Column             Non-Null Count  Dtype  \n",
      "---  ------             --------------  -----  \n",
      " 0   Unnamed: 0         40 non-null     int64  \n",
      " 1   kid_id             40 non-null     int64  \n",
      " 2   mum_id             40 non-null     object \n",
      " 3   dad_id             40 non-null     object \n",
      " 4   value_numeric      40 non-null     float64\n",
      " 5   first_place        40 non-null     int64  \n",
      " 6   dad_value_numeric  40 non-null     float64\n",
      " 7   dad_first_place    40 non-null     float64\n",
      " 8   dad_second_place   40 non-null     float64\n",
      " 9   dad_third_place    40 non-null     float64\n",
      " 10  dad_num_of_starts  40 non-null     float64\n",
      "dtypes: float64(6), int64(3), object(2)\n",
      "memory usage: 3.6+ KB\n"
     ]
    }
   ],
   "source": [
    "df.info()"
   ]
  },
  {
   "cell_type": "code",
   "execution_count": 50,
   "metadata": {},
   "outputs": [
    {
     "data": {
      "text/html": [
       "<div>\n",
       "<style scoped>\n",
       "    .dataframe tbody tr th:only-of-type {\n",
       "        vertical-align: middle;\n",
       "    }\n",
       "\n",
       "    .dataframe tbody tr th {\n",
       "        vertical-align: top;\n",
       "    }\n",
       "\n",
       "    .dataframe thead th {\n",
       "        text-align: right;\n",
       "    }\n",
       "</style>\n",
       "<table border=\"1\" class=\"dataframe\">\n",
       "  <thead>\n",
       "    <tr style=\"text-align: right;\">\n",
       "      <th></th>\n",
       "      <th>Unnamed: 0</th>\n",
       "      <th>kid_id</th>\n",
       "      <th>mum_id</th>\n",
       "      <th>dad_id</th>\n",
       "      <th>value_numeric</th>\n",
       "      <th>first_place</th>\n",
       "      <th>dad_value_numeric</th>\n",
       "      <th>dad_first_place</th>\n",
       "      <th>dad_second_place</th>\n",
       "      <th>dad_third_place</th>\n",
       "      <th>dad_num_of_starts</th>\n",
       "    </tr>\n",
       "  </thead>\n",
       "  <tbody>\n",
       "    <tr>\n",
       "      <th>0</th>\n",
       "      <td>0</td>\n",
       "      <td>1</td>\n",
       "      <td>D1</td>\n",
       "      <td>S2</td>\n",
       "      <td>0.097268</td>\n",
       "      <td>0.5000</td>\n",
       "      <td>0.089384</td>\n",
       "      <td>0.209302</td>\n",
       "      <td>0.111111</td>\n",
       "      <td>0.0</td>\n",
       "      <td>0.151515</td>\n",
       "    </tr>\n",
       "    <tr>\n",
       "      <th>1</th>\n",
       "      <td>2</td>\n",
       "      <td>3</td>\n",
       "      <td>D1</td>\n",
       "      <td>S3</td>\n",
       "      <td>0.469653</td>\n",
       "      <td>0.6875</td>\n",
       "      <td>1.000000</td>\n",
       "      <td>1.000000</td>\n",
       "      <td>0.888889</td>\n",
       "      <td>1.0</td>\n",
       "      <td>1.000000</td>\n",
       "    </tr>\n",
       "    <tr>\n",
       "      <th>2</th>\n",
       "      <td>3</td>\n",
       "      <td>4</td>\n",
       "      <td>D1</td>\n",
       "      <td>S4</td>\n",
       "      <td>0.005032</td>\n",
       "      <td>0.0625</td>\n",
       "      <td>0.331914</td>\n",
       "      <td>0.325581</td>\n",
       "      <td>0.222222</td>\n",
       "      <td>0.4</td>\n",
       "      <td>0.272727</td>\n",
       "    </tr>\n",
       "    <tr>\n",
       "      <th>3</th>\n",
       "      <td>4</td>\n",
       "      <td>5</td>\n",
       "      <td>D1</td>\n",
       "      <td>S4</td>\n",
       "      <td>0.001924</td>\n",
       "      <td>0.0625</td>\n",
       "      <td>0.331914</td>\n",
       "      <td>0.325581</td>\n",
       "      <td>0.222222</td>\n",
       "      <td>0.4</td>\n",
       "      <td>0.272727</td>\n",
       "    </tr>\n",
       "    <tr>\n",
       "      <th>4</th>\n",
       "      <td>7</td>\n",
       "      <td>58</td>\n",
       "      <td>D9</td>\n",
       "      <td>S5</td>\n",
       "      <td>0.154459</td>\n",
       "      <td>0.8750</td>\n",
       "      <td>0.672497</td>\n",
       "      <td>0.488372</td>\n",
       "      <td>0.777778</td>\n",
       "      <td>0.6</td>\n",
       "      <td>0.484848</td>\n",
       "    </tr>\n",
       "  </tbody>\n",
       "</table>\n",
       "</div>"
      ],
      "text/plain": [
       "   Unnamed: 0  kid_id mum_id dad_id  value_numeric  first_place  \\\n",
       "0           0       1     D1     S2       0.097268       0.5000   \n",
       "1           2       3     D1     S3       0.469653       0.6875   \n",
       "2           3       4     D1     S4       0.005032       0.0625   \n",
       "3           4       5     D1     S4       0.001924       0.0625   \n",
       "4           7      58     D9     S5       0.154459       0.8750   \n",
       "\n",
       "   dad_value_numeric  dad_first_place  dad_second_place  dad_third_place  \\\n",
       "0           0.089384         0.209302          0.111111              0.0   \n",
       "1           1.000000         1.000000          0.888889              1.0   \n",
       "2           0.331914         0.325581          0.222222              0.4   \n",
       "3           0.331914         0.325581          0.222222              0.4   \n",
       "4           0.672497         0.488372          0.777778              0.6   \n",
       "\n",
       "   dad_num_of_starts  \n",
       "0           0.151515  \n",
       "1           1.000000  \n",
       "2           0.272727  \n",
       "3           0.272727  \n",
       "4           0.484848  "
      ]
     },
     "execution_count": 50,
     "metadata": {},
     "output_type": "execute_result"
    }
   ],
   "source": [
    "# rescaling values\n",
    "df_copy = df.copy()\n",
    "# for column in ['value_numeric', 'dad_value_numeric']:\n",
    "#     new_col = column + '_rescale'\n",
    "#     df_copy[new_col] = df[column]/10**6\n",
    "\n",
    "columns_to_rescale = ['first_place', 'dad_first_place', 'dad_second_place', 'dad_third_place', 'value_numeric', 'dad_value_numeric', 'dad_num_of_starts']\n",
    "df_copy[columns_to_rescale] -= df[columns_to_rescale].min()\n",
    "df_copy[columns_to_rescale] /= df[columns_to_rescale].max()\n",
    "df_copy.head()"
   ]
  },
  {
   "cell_type": "code",
   "execution_count": null,
   "metadata": {},
   "outputs": [],
   "source": []
  },
  {
   "attachments": {},
   "cell_type": "markdown",
   "metadata": {},
   "source": [
    "# histogram of data we want to predict"
   ]
  },
  {
   "cell_type": "code",
   "execution_count": 51,
   "metadata": {},
   "outputs": [
    {
     "data": {
      "image/png": "[encoded data removed]",
      "text/plain": [
       "<Figure size 720x360 with 1 Axes>"
      ]
     },
     "metadata": {
      "needs_background": "light"
     },
     "output_type": "display_data"
    },
    {
     "name": "stdout",
     "output_type": "stream",
     "text": [
      "0.19465777732673586\n",
      "0.2612924559240941\n"
     ]
    }
   ],
   "source": [
    "# analysis of value: what we want to to predict\n",
    "fig, axs = plt.subplots(1,1, figsize=(10,5))\n",
    "graph = sns.histplot(data=df_copy, x='value_numeric', bins=25, ax=axs, label='Observed',stat='density')\n",
    "graph.axvline(df_copy.value_numeric.mean(), color='red', label='Mean')\n",
    "graph.legend()\n",
    "plt.show()\n",
    "print(df_copy.value_numeric.mean())\n",
    "print(df_copy.value_numeric.std())"
   ]
  },
  {
   "cell_type": "markdown",
   "metadata": {},
   "source": [
    "Calculting values for later basic ppc stan model"
   ]
  },
  {
   "cell_type": "code",
   "execution_count": 52,
   "metadata": {},
   "outputs": [
    {
     "name": "stdout",
     "output_type": "stream",
     "text": [
      "(-2.1516459783694737, 1.0150209141563047)\n"
     ]
    }
   ],
   "source": [
    "mu_basic = log_maker(df_copy.value_numeric.mean(),df_copy.value_numeric.std())\n",
    "print(mu_basic)"
   ]
  },
  {
   "attachments": {},
   "cell_type": "markdown",
   "metadata": {},
   "source": [
    "# histograms of data we want to predict from\n"
   ]
  },
  {
   "cell_type": "code",
   "execution_count": 53,
   "metadata": {},
   "outputs": [
    {
     "data": {
      "image/png": "[encoded data removed]",
      "text/plain": [
       "<Figure size 432x288 with 1 Axes>"
      ]
     },
     "metadata": {
      "needs_background": "light"
     },
     "output_type": "display_data"
    }
   ],
   "source": [
    "# histograms of data we want to predict from\n",
    "graph = sns.histplot(data=df_dads, x='dad_value_numeric', label='Observed', stat='density')\n",
    "graph.axvline(df_dads.dad_value_numeric.mean(), color='red', label='Mean')\n",
    "graph.legend()\n",
    "plt.show()"
   ]
  },
  {
   "cell_type": "code",
   "execution_count": 54,
   "metadata": {},
   "outputs": [
    {
     "data": {
      "image/png": "[encoded data removed]",
      "text/plain": [
       "<Figure size 1296x360 with 3 Axes>"
      ]
     },
     "metadata": {
      "needs_background": "light"
     },
     "output_type": "display_data"
    }
   ],
   "source": [
    "# places of dad\n",
    "fig, axs = plt.subplots(1,3, figsize=(18,5))\n",
    "graph = sns.histplot(data=df_dads, x='dad_first_place', label='Observed 1st place', ax=axs[0], stat='density')\n",
    "graph.axvline(df_dads.dad_first_place.mean(), color='red', label='Mean')\n",
    "graph.legend()\n",
    "\n",
    "graph = sns.histplot(data=df_dads, x='dad_second_place', label='Observed 2nd place', ax=axs[1], stat='density')\n",
    "graph.axvline(df_dads.dad_second_place.mean(), label='Mean', color='red')\n",
    "graph.legend()\n",
    "\n",
    "graph = sns.histplot(data=df_dads, x='dad_third_place', label='Observed 3rd place', ax=axs[2], stat='density')\n",
    "graph.axvline(df_dads.dad_third_place.mean(), label='Mean', color='red')\n",
    "graph.legend()\n",
    "plt.show()"
   ]
  },
  {
   "cell_type": "code",
   "execution_count": 55,
   "metadata": {},
   "outputs": [
    {
     "data": {
      "image/png": "[encoded data removed]",
      "text/plain": [
       "<Figure size 720x360 with 1 Axes>"
      ]
     },
     "metadata": {
      "needs_background": "light"
     },
     "output_type": "display_data"
    }
   ],
   "source": [
    "# nums of starts\n",
    "fig, axs = plt.subplots(1,1, figsize=(10,5))\n",
    "graph = sns.histplot(data=df_dads, x='dad_num_of_starts', label='Observed dad starts', ax=axs, bins=10, stat='density')\n",
    "graph.axvline(df_dads.dad_first_place.mean(), color='red', label='Mean')\n",
    "graph.legend()\n",
    "plt.show()\n"
   ]
  },
  {
   "attachments": {},
   "cell_type": "markdown",
   "metadata": {},
   "source": [
    "Assumed prior distributions:\n",
    "- `dad_num_of_starts` : lognormal\n",
    "- `dad_value_numeric_rescale` : exponential\n",
    "- `dad_first_place` : lognormal\n",
    "- `dad_second_place` : exponential\n",
    "- `dad_third_place` : expnoential"
   ]
  },
  {
   "cell_type": "code",
   "execution_count": 56,
   "metadata": {},
   "outputs": [
    {
     "name": "stdout",
     "output_type": "stream",
     "text": [
      "{'mu_dad_num_of_starts': -1.481740170128063, 'sigma_dad_num_of_starts': 0.7122777747804101, 'mu_dad_first_place': -1.4063011487708954, 'sigma_dad_first_place': 0.5909855553824085, 'lambda_dad_value_numeric_rescale': 2.370540413791375, 'lambda_dad_second_place': 3.5999999999999996, 'lambda_dad_third_place': 6.102564102564102}\n"
     ]
    }
   ],
   "source": [
    "def log_maker(mu,sigma):\n",
    "    log_mu = np.log((mu**2)/np.sqrt(mu**2 + sigma**2))    \n",
    "    log_sigma = np.sqrt(np.log(1+(sigma**2 )/(mu**2)))\n",
    "    return log_mu,log_sigma\n",
    "\n",
    "# calculating needed parameters for prior distributions\n",
    "# to use in stan models in a bit\n",
    "\n",
    "# rescaling df_dads before calculations\n",
    "columns_to_rescale = ['dad_first_place', 'dad_second_place', 'dad_third_place', 'dad_value_numeric', 'dad_num_of_starts']\n",
    "df_dads_copy = df_dads.copy()\n",
    "df_dads_copy[columns_to_rescale] -= df_dads_copy[columns_to_rescale].min()\n",
    "df_dads_copy[columns_to_rescale] /= df_dads_copy[columns_to_rescale].max()\n",
    "\n",
    "# dad_num_of_starts\n",
    "mu_dad_num_of_starts, sigma_dad_num_of_starts = log_maker(df_dads_copy.dad_num_of_starts.mean(),df_dads_copy.dad_num_of_starts.std())\n",
    "# mu_dad_num_of_starts = df_dads.dad_num_of_starts.mean()\n",
    "# sigma_dad_num_of_starts = df_dads.dad_num_of_starts.std()\n",
    "\n",
    "# dad_value_numeric_rescale\n",
    "lambda_dad_value_numeric_rescale = 1/df_dads_copy.dad_value_numeric_rescale.mean()\n",
    "\n",
    "# dad_first_place\n",
    "mu_dad_first_place, sigma_dad_first_place = log_maker(df_dads_copy.dad_first_place.mean(),df_dads_copy.dad_first_place.std())\n",
    "# mu_dad_first_place = df_dads.dad_first_place.mean()\n",
    "# sigma_dad_first_place = df_dads.dad_first_place.std()\n",
    "\n",
    "# dad_second_place\n",
    "lambda_dad_second_place = 1/df_dads_copy.dad_second_place.mean()\n",
    "\n",
    "# dad_third_place\n",
    "lambda_dad_third_place = 1/df_dads_copy.dad_third_place.mean()\n",
    "\n",
    "data = {\n",
    "        'mu_dad_num_of_starts': mu_dad_num_of_starts,\n",
    "        'sigma_dad_num_of_starts': sigma_dad_num_of_starts,\n",
    "        'mu_dad_first_place': mu_dad_first_place,\n",
    "        \"sigma_dad_first_place\": sigma_dad_first_place,\n",
    "        \"lambda_dad_value_numeric_rescale\": lambda_dad_value_numeric_rescale,\n",
    "        \"lambda_dad_second_place\": lambda_dad_second_place,\n",
    "        \"lambda_dad_third_place\": lambda_dad_third_place,        \n",
    "}\n",
    "\n",
    "print(data)\n"
   ]
  },
  {
   "attachments": {
    "image.png": {
     "image/png": "[encoded data removed]"
    }
   },
   "cell_type": "markdown",
   "metadata": {},
   "source": [
    "![image.png](attachment:image.png)"
   ]
  },
  {
   "cell_type": "code",
   "execution_count": 57,
   "metadata": {},
   "outputs": [],
   "source": [
    "def log_maker(mu,sigma):\n",
    "    log_mu = np.log((mu**2)/np.sqrt(mu**2 + sigma**2))    \n",
    "    log_sigma = np.sqrt(np.log(1+(sigma**2 )/(mu**2)))\n",
    "    return log_mu,log_sigma"
   ]
  },
  {
   "cell_type": "code",
   "execution_count": 58,
   "metadata": {},
   "outputs": [
    {
     "name": "stdout",
     "output_type": "stream",
     "text": [
      "data {\n",
      "    real mu_dad_num_of_starts;\n",
      "    real sigma_dad_num_of_starts;\n",
      "    real mu_dad_first_place;\n",
      "    real sigma_dad_first_place;\n",
      "    real lambda_dad_value_numeric_rescale;\n",
      "    real lambda_dad_second_place;\n",
      "    real lambda_dad_third_place;\n",
      "}\n",
      "\n",
      "generated quantities {\n",
      "    real<lower=0> first_place = lognormal_rng(mu_dad_first_place, sigma_dad_first_place); \n",
      "    real<lower=0> num_of_start= lognormal_rng(mu_dad_num_of_starts, sigma_dad_num_of_starts);\n",
      "    real<lower=0> value_numeric= exponential_rng(lambda_dad_value_numeric_rescale);\n",
      "    real<lower=0> second_place = exponential_rng(lambda_dad_second_place);\n",
      "    real<lower=0> third_place = exponential_rng(lambda_dad_third_place);\n",
      "    \n",
      "    real kid_value = exponential_rng(1/num_of_start);\n",
      "}\n",
      "\n",
      "// data {\n",
      "//     real mu_dad_num_of_starts;\n",
      "//     real sigma_dad_num_of_starts;\n",
      "//     real mu_dad_first_place;\n",
      "//     real sigma_dad_first_place;\n",
      "//     real lambda_dad_value_numeric_rescale;\n",
      "//     real lambda_dad_second_place;\n",
      "//     real lambda_dad_third_place;\n",
      "// }\n",
      "\n",
      "// generated quantities {\n",
      "//     real<lower=0> first_place = fmin(100, lognormal_rng(mu_dad_first_place, sigma_dad_first_place)); \n",
      "//     real<lower=0> num_of_start = fmin(100, lognormal_rng(mu_dad_num_of_starts, sigma_dad_num_of_starts));\n",
      "//     real<lower=0> value_numeric = fmin(100, exponential_rng(lambda_dad_value_numeric_rescale));\n",
      "//     real<lower=0> second_place = fmin(100, exponential_rng(lambda_dad_second_place));\n",
      "//     real<lower=0> third_place = fmin(100, exponential_rng(lambda_dad_third_place));\n",
      "    \n",
      "//     real life_expectancy = exponential_rng(1 / num_of_start);\n",
      "// }\n"
     ]
    }
   ],
   "source": [
    "with open('models/distribution_check.stan') as file:\n",
    "    print(file.read())\n",
    "    file.close()"
   ]
  },
  {
   "cell_type": "code",
   "execution_count": 59,
   "metadata": {},
   "outputs": [
    {
     "name": "stderr",
     "output_type": "stream",
     "text": [
      "INFO:cmdstanpy:found newer exe file, not recompiling\n"
     ]
    }
   ],
   "source": [
    "m_distribution_check=CmdStanModel(stan_file='models/distribution_check.stan')"
   ]
  },
  {
   "cell_type": "code",
   "execution_count": 60,
   "metadata": {},
   "outputs": [
    {
     "name": "stderr",
     "output_type": "stream",
     "text": [
      "INFO:cmdstanpy:CmdStan start processing\n",
      "chain 1 |\u001b[33m          \u001b[0m| 00:00 Status\n",
      "\u001b[A\n",
      "\n",
      "chain 1 |\u001b[34m██████████\u001b[0m| 00:00 Sampling completed                      \n",
      "chain 2 |\u001b[34m██████████\u001b[0m| 00:00 Sampling completed\n",
      "\n",
      "chain 3 |\u001b[34m██████████\u001b[0m| 00:00 Sampling completed\n",
      "\n",
      "\n",
      "chain 4 |\u001b[34m██████████\u001b[0m| 00:00 Sampling completed"
     ]
    },
    {
     "name": "stdout",
     "output_type": "stream",
     "text": [
      "                                                                                                                                                                                                                                                                                                                                "
     ]
    },
    {
     "name": "stderr",
     "output_type": "stream",
     "text": [
      "\n",
      "INFO:cmdstanpy:CmdStan done processing.\n"
     ]
    },
    {
     "name": "stdout",
     "output_type": "stream",
     "text": [
      "\n"
     ]
    }
   ],
   "source": [
    "data = {\n",
    "        'mu_dad_num_of_starts': mu_dad_num_of_starts,\n",
    "        'sigma_dad_num_of_starts': sigma_dad_num_of_starts,\n",
    "        'mu_dad_first_place': mu_dad_first_place,\n",
    "        \n",
    "        \"sigma_dad_first_place\": sigma_dad_first_place,\n",
    "        \"lambda_dad_value_numeric_rescale\": lambda_dad_value_numeric_rescale,\n",
    "        \"lambda_dad_second_place\": lambda_dad_second_place,\n",
    "        \"lambda_dad_third_place\": lambda_dad_third_place,\n",
    "        \n",
    "}\n",
    "\n",
    "\n",
    "sim1_distribution_check=m_distribution_check.sample(data=data, seed=26062023)"
   ]
  },
  {
   "cell_type": "code",
   "execution_count": 61,
   "metadata": {},
   "outputs": [
    {
     "data": {
      "text/html": [
       "<div>\n",
       "<style scoped>\n",
       "    .dataframe tbody tr th:only-of-type {\n",
       "        vertical-align: middle;\n",
       "    }\n",
       "\n",
       "    .dataframe tbody tr th {\n",
       "        vertical-align: top;\n",
       "    }\n",
       "\n",
       "    .dataframe thead th {\n",
       "        text-align: right;\n",
       "    }\n",
       "</style>\n",
       "<table border=\"1\" class=\"dataframe\">\n",
       "  <thead>\n",
       "    <tr style=\"text-align: right;\">\n",
       "      <th></th>\n",
       "      <th>lp__</th>\n",
       "      <th>accept_stat__</th>\n",
       "      <th>first_place</th>\n",
       "      <th>num_of_start</th>\n",
       "      <th>value_numeric</th>\n",
       "      <th>second_place</th>\n",
       "      <th>third_place</th>\n",
       "      <th>kid_value</th>\n",
       "    </tr>\n",
       "  </thead>\n",
       "  <tbody>\n",
       "    <tr>\n",
       "      <th>0</th>\n",
       "      <td>0.0</td>\n",
       "      <td>0.0</td>\n",
       "      <td>0.248393</td>\n",
       "      <td>0.114438</td>\n",
       "      <td>0.098246</td>\n",
       "      <td>0.365381</td>\n",
       "      <td>0.144113</td>\n",
       "      <td>0.065300</td>\n",
       "    </tr>\n",
       "    <tr>\n",
       "      <th>1</th>\n",
       "      <td>0.0</td>\n",
       "      <td>0.0</td>\n",
       "      <td>0.243103</td>\n",
       "      <td>0.077203</td>\n",
       "      <td>0.522891</td>\n",
       "      <td>0.433563</td>\n",
       "      <td>0.340484</td>\n",
       "      <td>0.075279</td>\n",
       "    </tr>\n",
       "    <tr>\n",
       "      <th>2</th>\n",
       "      <td>0.0</td>\n",
       "      <td>0.0</td>\n",
       "      <td>0.251015</td>\n",
       "      <td>0.058017</td>\n",
       "      <td>0.216147</td>\n",
       "      <td>0.646471</td>\n",
       "      <td>0.412611</td>\n",
       "      <td>0.010580</td>\n",
       "    </tr>\n",
       "    <tr>\n",
       "      <th>3</th>\n",
       "      <td>0.0</td>\n",
       "      <td>0.0</td>\n",
       "      <td>0.121003</td>\n",
       "      <td>0.186828</td>\n",
       "      <td>0.616947</td>\n",
       "      <td>0.201995</td>\n",
       "      <td>0.286595</td>\n",
       "      <td>0.113712</td>\n",
       "    </tr>\n",
       "    <tr>\n",
       "      <th>4</th>\n",
       "      <td>0.0</td>\n",
       "      <td>0.0</td>\n",
       "      <td>0.137864</td>\n",
       "      <td>0.685426</td>\n",
       "      <td>0.175233</td>\n",
       "      <td>0.055482</td>\n",
       "      <td>0.031021</td>\n",
       "      <td>1.649290</td>\n",
       "    </tr>\n",
       "  </tbody>\n",
       "</table>\n",
       "</div>"
      ],
      "text/plain": [
       "   lp__  accept_stat__  first_place  num_of_start  value_numeric  \\\n",
       "0   0.0            0.0     0.248393      0.114438       0.098246   \n",
       "1   0.0            0.0     0.243103      0.077203       0.522891   \n",
       "2   0.0            0.0     0.251015      0.058017       0.216147   \n",
       "3   0.0            0.0     0.121003      0.186828       0.616947   \n",
       "4   0.0            0.0     0.137864      0.685426       0.175233   \n",
       "\n",
       "   second_place  third_place  kid_value  \n",
       "0      0.365381     0.144113   0.065300  \n",
       "1      0.433563     0.340484   0.075279  \n",
       "2      0.646471     0.412611   0.010580  \n",
       "3      0.201995     0.286595   0.113712  \n",
       "4      0.055482     0.031021   1.649290  "
      ]
     },
     "execution_count": 61,
     "metadata": {},
     "output_type": "execute_result"
    }
   ],
   "source": [
    "ppc_distribution_chceck = sim1_distribution_check.draws_pd()\n",
    "ppc_distribution_chceck.head()\n"
   ]
  },
  {
   "attachments": {
    "image.png": {
     "image/png": "[encoded data removed]"
    }
   },
   "cell_type": "markdown",
   "metadata": {},
   "source": [
    "![image.png](attachment:image.png)"
   ]
  },
  {
   "attachments": {},
   "cell_type": "markdown",
   "metadata": {},
   "source": []
  },
  {
   "cell_type": "code",
   "execution_count": 62,
   "metadata": {},
   "outputs": [
    {
     "data": {
      "image/png": "[encoded data removed]",
      "text/plain": [
       "<Figure size 1800x360 with 5 Axes>"
      ]
     },
     "metadata": {
      "needs_background": "light"
     },
     "output_type": "display_data"
    }
   ],
   "source": [
    "fig, axs = plt.subplots(1,5, figsize=(25,5))\n",
    "graph = sns.histplot(data=ppc_distribution_chceck[ppc_distribution_chceck['first_place']<100], x='first_place', label='Observed starts', ax=axs[0],bins=20,stat='density')\n",
    "\n",
    "# graph.axvline(df_dads.dad_first_place.mean(), color='red', label='Mean')\n",
    "\n",
    "graph = sns.histplot(data=ppc_distribution_chceck[ppc_distribution_chceck['num_of_start']<100], x='num_of_start', label='Observed starts', ax=axs[1],bins=20,stat='density')\n",
    "graph = sns.histplot(data=ppc_distribution_chceck[ppc_distribution_chceck['value_numeric']<100], x='value_numeric', label='value_numeric', ax=axs[2],bins=20,stat='density')\n",
    "graph = sns.histplot(data=ppc_distribution_chceck[ppc_distribution_chceck['second_place']<100], x='second_place', label='2nd', ax=axs[3],bins=20,stat='density')\n",
    "graph = sns.histplot(data=ppc_distribution_chceck[ppc_distribution_chceck['third_place']<100], x='third_place', label='3rd', ax=axs[4],bins=20,stat='density')\n",
    "\n",
    "graph.legend()\n",
    "plt.show()"
   ]
  },
  {
   "cell_type": "code",
   "execution_count": 63,
   "metadata": {},
   "outputs": [
    {
     "data": {
      "image/png": "[encoded data removed]",
      "text/plain": [
       "<Figure size 432x288 with 1 Axes>"
      ]
     },
     "metadata": {
      "needs_background": "light"
     },
     "output_type": "display_data"
    }
   ],
   "source": [
    "\n",
    "graph = sns.histplot(data=ppc_distribution_chceck, x='kid_value', label='Kid_value' ,bins=20 ,stat='density')"
   ]
  },
  {
   "cell_type": "markdown",
   "metadata": {},
   "source": [
    "# Model 1 describtion \n",
    "1. wybralismy exponetial distr(opis) jako model pierwszy jako pasujący do naszego przypadku\n",
    "2. Taki rozklad pasuje dlatego ze wiekszosc koni jest sprzedawanych po niższej cenie, jako ze sprzedaje sie je na aukcji nie ma gornego limitu \n",
    "3. spośród wszystkich zmiennych poprzez eksplorację danych zawężono zbiór danych wejściowych do 5 zmiennych:\n",
    "    - `dad_num_of_starts` - opisy\n",
    "    - `dad_value_numeric_rescale`\n",
    "    - `dad_first_place`\n",
    "    - `dad_second_place`\n",
    "    - `dad_third_place`\n",
    "\n",
    "wzorki \n",
    "$$ output_{value} \\sim Exponetial(\\lambda) $$\n",
    "\n",
    "$$ \\lambda = predictor_i \\cdot \\beta + \\alpha_0$$\n",
    "\n",
    "Where: \n",
    "\n",
    "- delta cos tam - \n",
    "- lambda cos tam - \n",
    "- beta - \n",
    "\n"
   ]
  },
  {
   "cell_type": "markdown",
   "metadata": {},
   "source": [
    "# Basic PPC check - Model 1"
   ]
  },
  {
   "cell_type": "code",
   "execution_count": 64,
   "metadata": {},
   "outputs": [
    {
     "name": "stderr",
     "output_type": "stream",
     "text": [
      "INFO:cmdstanpy:found newer exe file, not recompiling\n"
     ]
    }
   ],
   "source": [
    "model_basic=CmdStanModel(stan_file='models/model_basic.stan')"
   ]
  },
  {
   "cell_type": "code",
   "execution_count": 65,
   "metadata": {},
   "outputs": [
    {
     "name": "stderr",
     "output_type": "stream",
     "text": [
      "INFO:cmdstanpy:CmdStan start processing\n",
      "chain 1 |\u001b[34m██████████\u001b[0m| 00:00 Sampling completed"
     ]
    },
    {
     "name": "stdout",
     "output_type": "stream",
     "text": [
      "                                                                                "
     ]
    },
    {
     "name": "stderr",
     "output_type": "stream",
     "text": [
      "\n",
      "INFO:cmdstanpy:CmdStan done processing.\n"
     ]
    },
    {
     "name": "stdout",
     "output_type": "stream",
     "text": [
      "\n"
     ]
    }
   ],
   "source": [
    "R = 1000\n",
    "sim_model_basic=model_basic.sample(iter_sampling=R,\n",
    "                     iter_warmup=50,\n",
    "                     chains=1,\n",
    "                     fixed_param=True,\n",
    "                     refresh=R)"
   ]
  },
  {
   "cell_type": "code",
   "execution_count": 66,
   "metadata": {},
   "outputs": [
    {
     "data": {
      "text/html": [
       "<div>\n",
       "<style scoped>\n",
       "    .dataframe tbody tr th:only-of-type {\n",
       "        vertical-align: middle;\n",
       "    }\n",
       "\n",
       "    .dataframe tbody tr th {\n",
       "        vertical-align: top;\n",
       "    }\n",
       "\n",
       "    .dataframe thead th {\n",
       "        text-align: right;\n",
       "    }\n",
       "</style>\n",
       "<table border=\"1\" class=\"dataframe\">\n",
       "  <thead>\n",
       "    <tr style=\"text-align: right;\">\n",
       "      <th></th>\n",
       "      <th>lp__</th>\n",
       "      <th>accept_stat__</th>\n",
       "      <th>mu</th>\n",
       "      <th>kid_value</th>\n",
       "    </tr>\n",
       "  </thead>\n",
       "  <tbody>\n",
       "    <tr>\n",
       "      <th>0</th>\n",
       "      <td>0.0</td>\n",
       "      <td>0.0</td>\n",
       "      <td>0.428833</td>\n",
       "      <td>0.007439</td>\n",
       "    </tr>\n",
       "    <tr>\n",
       "      <th>1</th>\n",
       "      <td>0.0</td>\n",
       "      <td>0.0</td>\n",
       "      <td>0.120892</td>\n",
       "      <td>0.510589</td>\n",
       "    </tr>\n",
       "    <tr>\n",
       "      <th>2</th>\n",
       "      <td>0.0</td>\n",
       "      <td>0.0</td>\n",
       "      <td>0.187689</td>\n",
       "      <td>0.016068</td>\n",
       "    </tr>\n",
       "    <tr>\n",
       "      <th>3</th>\n",
       "      <td>0.0</td>\n",
       "      <td>0.0</td>\n",
       "      <td>0.533114</td>\n",
       "      <td>0.098406</td>\n",
       "    </tr>\n",
       "    <tr>\n",
       "      <th>4</th>\n",
       "      <td>0.0</td>\n",
       "      <td>0.0</td>\n",
       "      <td>0.020158</td>\n",
       "      <td>0.003602</td>\n",
       "    </tr>\n",
       "  </tbody>\n",
       "</table>\n",
       "</div>"
      ],
      "text/plain": [
       "   lp__  accept_stat__        mu  kid_value\n",
       "0   0.0            0.0  0.428833   0.007439\n",
       "1   0.0            0.0  0.120892   0.510589\n",
       "2   0.0            0.0  0.187689   0.016068\n",
       "3   0.0            0.0  0.533114   0.098406\n",
       "4   0.0            0.0  0.020158   0.003602"
      ]
     },
     "execution_count": 66,
     "metadata": {},
     "output_type": "execute_result"
    }
   ],
   "source": [
    "basic_model_df = sim_model_basic.draws_pd()\n",
    "basic_model_df.head()"
   ]
  },
  {
   "cell_type": "code",
   "execution_count": 67,
   "metadata": {},
   "outputs": [
    {
     "data": {
      "text/plain": [
       "[(0.0, 1.0)]"
      ]
     },
     "execution_count": 67,
     "metadata": {},
     "output_type": "execute_result"
    },
    {
     "data": {
      "image/png": "[encoded data removed]",
      "text/plain": [
       "<Figure size 1296x360 with 1 Axes>"
      ]
     },
     "metadata": {
      "needs_background": "light"
     },
     "output_type": "display_data"
    }
   ],
   "source": [
    "fig,axs= plt.subplots(1,1, figsize=(18,5))\n",
    "graph = sns.histplot(data=basic_model_df, x='kid_value',ax=axs, label='Kid_value' ,stat='density')\n",
    "graph.axvline(basic_model_df.kid_value.mean(), color='red', label='Mean_generated')\n",
    "graph = sns.histplot(data=df_copy, x='value_numeric',ax=axs, color='green', label='value_numeric' ,bins=20 ,stat='density')\n",
    "graph.axvline(df_copy.value_numeric.mean(), color='yellow', label='Mean_observed')\n",
    "graph.legend()\n",
    "graph.set(xlim=(0,1))"
   ]
  },
  {
   "cell_type": "markdown",
   "metadata": {},
   "source": [
    "The very basic model ma sens xD\n",
    "mozna go rozwinąć \n",
    "popraw potem Kamil\n"
   ]
  },
  {
   "cell_type": "markdown",
   "metadata": {},
   "source": [
    "# Prior Predictie check Model 1"
   ]
  },
  {
   "cell_type": "markdown",
   "metadata": {},
   "source": [
    "here we add our predictiors to the model"
   ]
  },
  {
   "cell_type": "markdown",
   "metadata": {},
   "source": [
    "dad value 0.2\n",
    "ilosc startow jca 0.4\n",
    "1st 2nd 3rd 0.3"
   ]
  },
  {
   "cell_type": "code",
   "execution_count": 68,
   "metadata": {},
   "outputs": [
    {
     "name": "stderr",
     "output_type": "stream",
     "text": [
      "INFO:cmdstanpy:found newer exe file, not recompiling\n"
     ]
    }
   ],
   "source": [
    "ppc_model_1=CmdStanModel(stan_file='models/model_ppc.stan')"
   ]
  },
  {
   "cell_type": "code",
   "execution_count": 69,
   "metadata": {},
   "outputs": [
    {
     "data": {
      "text/html": [
       "<div>\n",
       "<style scoped>\n",
       "    .dataframe tbody tr th:only-of-type {\n",
       "        vertical-align: middle;\n",
       "    }\n",
       "\n",
       "    .dataframe tbody tr th {\n",
       "        vertical-align: top;\n",
       "    }\n",
       "\n",
       "    .dataframe thead th {\n",
       "        text-align: right;\n",
       "    }\n",
       "</style>\n",
       "<table border=\"1\" class=\"dataframe\">\n",
       "  <thead>\n",
       "    <tr style=\"text-align: right;\">\n",
       "      <th></th>\n",
       "      <th>Unnamed: 0</th>\n",
       "      <th>kid_id</th>\n",
       "      <th>mum_id</th>\n",
       "      <th>dad_id</th>\n",
       "      <th>value_numeric</th>\n",
       "      <th>first_place</th>\n",
       "      <th>dad_value_numeric</th>\n",
       "      <th>dad_first_place</th>\n",
       "      <th>dad_second_place</th>\n",
       "      <th>dad_third_place</th>\n",
       "      <th>dad_num_of_starts</th>\n",
       "    </tr>\n",
       "  </thead>\n",
       "  <tbody>\n",
       "    <tr>\n",
       "      <th>0</th>\n",
       "      <td>0</td>\n",
       "      <td>1</td>\n",
       "      <td>D1</td>\n",
       "      <td>S2</td>\n",
       "      <td>0.097268</td>\n",
       "      <td>0.5000</td>\n",
       "      <td>0.089384</td>\n",
       "      <td>0.209302</td>\n",
       "      <td>0.111111</td>\n",
       "      <td>0.0</td>\n",
       "      <td>0.151515</td>\n",
       "    </tr>\n",
       "    <tr>\n",
       "      <th>1</th>\n",
       "      <td>2</td>\n",
       "      <td>3</td>\n",
       "      <td>D1</td>\n",
       "      <td>S3</td>\n",
       "      <td>0.469653</td>\n",
       "      <td>0.6875</td>\n",
       "      <td>1.000000</td>\n",
       "      <td>1.000000</td>\n",
       "      <td>0.888889</td>\n",
       "      <td>1.0</td>\n",
       "      <td>1.000000</td>\n",
       "    </tr>\n",
       "    <tr>\n",
       "      <th>2</th>\n",
       "      <td>3</td>\n",
       "      <td>4</td>\n",
       "      <td>D1</td>\n",
       "      <td>S4</td>\n",
       "      <td>0.005032</td>\n",
       "      <td>0.0625</td>\n",
       "      <td>0.331914</td>\n",
       "      <td>0.325581</td>\n",
       "      <td>0.222222</td>\n",
       "      <td>0.4</td>\n",
       "      <td>0.272727</td>\n",
       "    </tr>\n",
       "    <tr>\n",
       "      <th>3</th>\n",
       "      <td>4</td>\n",
       "      <td>5</td>\n",
       "      <td>D1</td>\n",
       "      <td>S4</td>\n",
       "      <td>0.001924</td>\n",
       "      <td>0.0625</td>\n",
       "      <td>0.331914</td>\n",
       "      <td>0.325581</td>\n",
       "      <td>0.222222</td>\n",
       "      <td>0.4</td>\n",
       "      <td>0.272727</td>\n",
       "    </tr>\n",
       "    <tr>\n",
       "      <th>4</th>\n",
       "      <td>7</td>\n",
       "      <td>58</td>\n",
       "      <td>D9</td>\n",
       "      <td>S5</td>\n",
       "      <td>0.154459</td>\n",
       "      <td>0.8750</td>\n",
       "      <td>0.672497</td>\n",
       "      <td>0.488372</td>\n",
       "      <td>0.777778</td>\n",
       "      <td>0.6</td>\n",
       "      <td>0.484848</td>\n",
       "    </tr>\n",
       "  </tbody>\n",
       "</table>\n",
       "</div>"
      ],
      "text/plain": [
       "   Unnamed: 0  kid_id mum_id dad_id  value_numeric  first_place  \\\n",
       "0           0       1     D1     S2       0.097268       0.5000   \n",
       "1           2       3     D1     S3       0.469653       0.6875   \n",
       "2           3       4     D1     S4       0.005032       0.0625   \n",
       "3           4       5     D1     S4       0.001924       0.0625   \n",
       "4           7      58     D9     S5       0.154459       0.8750   \n",
       "\n",
       "   dad_value_numeric  dad_first_place  dad_second_place  dad_third_place  \\\n",
       "0           0.089384         0.209302          0.111111              0.0   \n",
       "1           1.000000         1.000000          0.888889              1.0   \n",
       "2           0.331914         0.325581          0.222222              0.4   \n",
       "3           0.331914         0.325581          0.222222              0.4   \n",
       "4           0.672497         0.488372          0.777778              0.6   \n",
       "\n",
       "   dad_num_of_starts  \n",
       "0           0.151515  \n",
       "1           1.000000  \n",
       "2           0.272727  \n",
       "3           0.272727  \n",
       "4           0.484848  "
      ]
     },
     "execution_count": 69,
     "metadata": {},
     "output_type": "execute_result"
    }
   ],
   "source": [
    "df_copy.head()"
   ]
  },
  {
   "cell_type": "code",
   "execution_count": 70,
   "metadata": {},
   "outputs": [
    {
     "name": "stderr",
     "output_type": "stream",
     "text": [
      "INFO:cmdstanpy:CmdStan start processing\n",
      "chain 1 |\u001b[34m██████████\u001b[0m| 00:00 Sampling completed                      "
     ]
    },
    {
     "name": "stdout",
     "output_type": "stream",
     "text": [
      "                                                                                "
     ]
    },
    {
     "name": "stderr",
     "output_type": "stream",
     "text": [
      "\n",
      "INFO:cmdstanpy:CmdStan done processing.\n"
     ]
    },
    {
     "name": "stdout",
     "output_type": "stream",
     "text": [
      "\n"
     ]
    }
   ],
   "source": [
    "data = { 'N': len(df_copy),\n",
    "        'dad_value_numeric': df_copy[\"dad_value_numeric\"].values,\n",
    "        'dad_num_of_starts': df_copy.dad_num_of_starts.values,\n",
    "        'dad_first_place': df_copy.dad_first_place.values,\n",
    "        'dad_second_place': df_copy.dad_second_place.values,\n",
    "        'dad_third_place': df_copy.dad_third_place.values}\n",
    "\n",
    "R=1000\n",
    "\n",
    "sim1_ppc = ppc_model_1.sample(data=data,\n",
    "                            iter_sampling=R,\n",
    "                            iter_warmup=50,\n",
    "                            chains=1,\n",
    "                            fixed_param=True,\n",
    "                            seed=69420, \n",
    "                            refresh=R)"
   ]
  },
  {
   "cell_type": "code",
   "execution_count": 71,
   "metadata": {},
   "outputs": [
    {
     "data": {
      "text/html": [
       "<div>\n",
       "<style scoped>\n",
       "    .dataframe tbody tr th:only-of-type {\n",
       "        vertical-align: middle;\n",
       "    }\n",
       "\n",
       "    .dataframe tbody tr th {\n",
       "        vertical-align: top;\n",
       "    }\n",
       "\n",
       "    .dataframe thead th {\n",
       "        text-align: right;\n",
       "    }\n",
       "</style>\n",
       "<table border=\"1\" class=\"dataframe\">\n",
       "  <thead>\n",
       "    <tr style=\"text-align: right;\">\n",
       "      <th></th>\n",
       "      <th>lp__</th>\n",
       "      <th>accept_stat__</th>\n",
       "      <th>a0</th>\n",
       "      <th>a1</th>\n",
       "      <th>value_coeff</th>\n",
       "      <th>num_of_starts_coeff</th>\n",
       "      <th>first_place_coeff</th>\n",
       "      <th>second_place_coeff</th>\n",
       "      <th>third_place_coeff</th>\n",
       "      <th>mu[1]</th>\n",
       "      <th>...</th>\n",
       "      <th>kid_value[31]</th>\n",
       "      <th>kid_value[32]</th>\n",
       "      <th>kid_value[33]</th>\n",
       "      <th>kid_value[34]</th>\n",
       "      <th>kid_value[35]</th>\n",
       "      <th>kid_value[36]</th>\n",
       "      <th>kid_value[37]</th>\n",
       "      <th>kid_value[38]</th>\n",
       "      <th>kid_value[39]</th>\n",
       "      <th>kid_value[40]</th>\n",
       "    </tr>\n",
       "  </thead>\n",
       "  <tbody>\n",
       "    <tr>\n",
       "      <th>0</th>\n",
       "      <td>0.0</td>\n",
       "      <td>0.0</td>\n",
       "      <td>0.0</td>\n",
       "      <td>0.0</td>\n",
       "      <td>0.0</td>\n",
       "      <td>0.0</td>\n",
       "      <td>0.0</td>\n",
       "      <td>0.0</td>\n",
       "      <td>0.0</td>\n",
       "      <td>0.0</td>\n",
       "      <td>...</td>\n",
       "      <td>0.0</td>\n",
       "      <td>0.0</td>\n",
       "      <td>0.0</td>\n",
       "      <td>0.0</td>\n",
       "      <td>0.0</td>\n",
       "      <td>0.0</td>\n",
       "      <td>0.0</td>\n",
       "      <td>0.0</td>\n",
       "      <td>0.0</td>\n",
       "      <td>0.0</td>\n",
       "    </tr>\n",
       "    <tr>\n",
       "      <th>1</th>\n",
       "      <td>0.0</td>\n",
       "      <td>0.0</td>\n",
       "      <td>0.0</td>\n",
       "      <td>0.0</td>\n",
       "      <td>0.0</td>\n",
       "      <td>0.0</td>\n",
       "      <td>0.0</td>\n",
       "      <td>0.0</td>\n",
       "      <td>0.0</td>\n",
       "      <td>0.0</td>\n",
       "      <td>...</td>\n",
       "      <td>0.0</td>\n",
       "      <td>0.0</td>\n",
       "      <td>0.0</td>\n",
       "      <td>0.0</td>\n",
       "      <td>0.0</td>\n",
       "      <td>0.0</td>\n",
       "      <td>0.0</td>\n",
       "      <td>0.0</td>\n",
       "      <td>0.0</td>\n",
       "      <td>0.0</td>\n",
       "    </tr>\n",
       "    <tr>\n",
       "      <th>2</th>\n",
       "      <td>0.0</td>\n",
       "      <td>0.0</td>\n",
       "      <td>0.0</td>\n",
       "      <td>0.0</td>\n",
       "      <td>0.0</td>\n",
       "      <td>0.0</td>\n",
       "      <td>0.0</td>\n",
       "      <td>0.0</td>\n",
       "      <td>0.0</td>\n",
       "      <td>0.0</td>\n",
       "      <td>...</td>\n",
       "      <td>0.0</td>\n",
       "      <td>0.0</td>\n",
       "      <td>0.0</td>\n",
       "      <td>0.0</td>\n",
       "      <td>0.0</td>\n",
       "      <td>0.0</td>\n",
       "      <td>0.0</td>\n",
       "      <td>0.0</td>\n",
       "      <td>0.0</td>\n",
       "      <td>0.0</td>\n",
       "    </tr>\n",
       "    <tr>\n",
       "      <th>3</th>\n",
       "      <td>0.0</td>\n",
       "      <td>0.0</td>\n",
       "      <td>0.0</td>\n",
       "      <td>0.0</td>\n",
       "      <td>0.0</td>\n",
       "      <td>0.0</td>\n",
       "      <td>0.0</td>\n",
       "      <td>0.0</td>\n",
       "      <td>0.0</td>\n",
       "      <td>0.0</td>\n",
       "      <td>...</td>\n",
       "      <td>0.0</td>\n",
       "      <td>0.0</td>\n",
       "      <td>0.0</td>\n",
       "      <td>0.0</td>\n",
       "      <td>0.0</td>\n",
       "      <td>0.0</td>\n",
       "      <td>0.0</td>\n",
       "      <td>0.0</td>\n",
       "      <td>0.0</td>\n",
       "      <td>0.0</td>\n",
       "    </tr>\n",
       "    <tr>\n",
       "      <th>4</th>\n",
       "      <td>0.0</td>\n",
       "      <td>0.0</td>\n",
       "      <td>0.0</td>\n",
       "      <td>0.0</td>\n",
       "      <td>0.0</td>\n",
       "      <td>0.0</td>\n",
       "      <td>0.0</td>\n",
       "      <td>0.0</td>\n",
       "      <td>0.0</td>\n",
       "      <td>0.0</td>\n",
       "      <td>...</td>\n",
       "      <td>0.0</td>\n",
       "      <td>0.0</td>\n",
       "      <td>0.0</td>\n",
       "      <td>0.0</td>\n",
       "      <td>0.0</td>\n",
       "      <td>0.0</td>\n",
       "      <td>0.0</td>\n",
       "      <td>0.0</td>\n",
       "      <td>0.0</td>\n",
       "      <td>0.0</td>\n",
       "    </tr>\n",
       "  </tbody>\n",
       "</table>\n",
       "<p>5 rows × 89 columns</p>\n",
       "</div>"
      ],
      "text/plain": [
       "   lp__  accept_stat__   a0   a1  value_coeff  num_of_starts_coeff  \\\n",
       "0   0.0            0.0  0.0  0.0          0.0                  0.0   \n",
       "1   0.0            0.0  0.0  0.0          0.0                  0.0   \n",
       "2   0.0            0.0  0.0  0.0          0.0                  0.0   \n",
       "3   0.0            0.0  0.0  0.0          0.0                  0.0   \n",
       "4   0.0            0.0  0.0  0.0          0.0                  0.0   \n",
       "\n",
       "   first_place_coeff  second_place_coeff  third_place_coeff  mu[1]  ...  \\\n",
       "0                0.0                 0.0                0.0    0.0  ...   \n",
       "1                0.0                 0.0                0.0    0.0  ...   \n",
       "2                0.0                 0.0                0.0    0.0  ...   \n",
       "3                0.0                 0.0                0.0    0.0  ...   \n",
       "4                0.0                 0.0                0.0    0.0  ...   \n",
       "\n",
       "   kid_value[31]  kid_value[32]  kid_value[33]  kid_value[34]  kid_value[35]  \\\n",
       "0            0.0            0.0            0.0            0.0            0.0   \n",
       "1            0.0            0.0            0.0            0.0            0.0   \n",
       "2            0.0            0.0            0.0            0.0            0.0   \n",
       "3            0.0            0.0            0.0            0.0            0.0   \n",
       "4            0.0            0.0            0.0            0.0            0.0   \n",
       "\n",
       "   kid_value[36]  kid_value[37]  kid_value[38]  kid_value[39]  kid_value[40]  \n",
       "0            0.0            0.0            0.0            0.0            0.0  \n",
       "1            0.0            0.0            0.0            0.0            0.0  \n",
       "2            0.0            0.0            0.0            0.0            0.0  \n",
       "3            0.0            0.0            0.0            0.0            0.0  \n",
       "4            0.0            0.0            0.0            0.0            0.0  \n",
       "\n",
       "[5 rows x 89 columns]"
      ]
     },
     "execution_count": 71,
     "metadata": {},
     "output_type": "execute_result"
    }
   ],
   "source": [
    "ppc_df1 = sim1_ppc.draws_pd()\n",
    "ppc_df1.head()"
   ]
  },
  {
   "cell_type": "code",
   "execution_count": null,
   "metadata": {},
   "outputs": [],
   "source": []
  },
  {
   "cell_type": "code",
   "execution_count": 72,
   "metadata": {},
   "outputs": [],
   "source": [
    "ppc_df1['mean_kid_value'] = ppc_df1.loc[:, \"kid_value[1]\":f\"kid_value[{len(df_copy)}]\"].mean(axis=1)\n",
    "ppc_df1['mean_mu'] = ppc_df1.loc[:, \"mu[1]\":f\"mu[{len(df_copy)}]\"].mean(axis=1)"
   ]
  },
  {
   "cell_type": "code",
   "execution_count": 73,
   "metadata": {},
   "outputs": [
    {
     "data": {
      "image/png": "[encoded data removed]",
      "text/plain": [
       "<Figure size 720x360 with 2 Axes>"
      ]
     },
     "metadata": {
      "needs_background": "light"
     },
     "output_type": "display_data"
    }
   ],
   "source": [
    "fig, axs = plt.subplots(1,2, figsize=(10,5))\n",
    "fig.suptitle(\"Histogram of mu and simulated mean offspring value\")\n",
    "sns.histplot(data=ppc_df1, x=\"mean_mu\", bins=20, stat=\"density\",ax=axs[0])\n",
    "\n",
    "graph= sns.histplot(data=ppc_df1, x=\"mean_kid_value\", bins=20, stat=\"density\",ax=axs[1])\n",
    "\n",
    "graph.axvline(ppc_df1.mean_kid_value.mean(), color='red', label='Mean_observed')\n",
    "# graph.axvline(ppc_df1.mean_mu.mean(), color='yellow', label='Mean_observed')\n",
    "plt.tight_layout()\n",
    "plt.show()"
   ]
  },
  {
   "cell_type": "code",
   "execution_count": 74,
   "metadata": {},
   "outputs": [
    {
     "data": {
      "text/plain": [
       "[(0.0, 1.0)]"
      ]
     },
     "execution_count": 74,
     "metadata": {},
     "output_type": "execute_result"
    },
    {
     "data": {
      "image/png": "[encoded data removed]",
      "text/plain": [
       "<Figure size 1296x360 with 1 Axes>"
      ]
     },
     "metadata": {
      "needs_background": "light"
     },
     "output_type": "display_data"
    }
   ],
   "source": [
    "fig,axs= plt.subplots(1,1, figsize=(18,5))\n",
    "graph = sns.histplot(data=ppc_df1, x='mean_kid_value',ax=axs, label='Kid_value' ,stat='density')\n",
    "graph.axvline(ppc_df1.mean_kid_value.mean(), color='red', label='Mean_generated')\n",
    "graph = sns.histplot(data=df_copy, x='value_numeric',ax=axs, color='green', label='value_numeric' ,bins=20 ,stat='density')\n",
    "graph.axvline(df_copy.value_numeric.mean(), color='yellow', label='Mean_observed')\n",
    "graph.legend()\n",
    "graph.set(xlim=(0,1))"
   ]
  },
  {
   "cell_type": "code",
   "execution_count": 75,
   "metadata": {},
   "outputs": [
    {
     "data": {
      "text/plain": [
       "(-4.951743776268064, 0.8325546111576977)"
      ]
     },
     "execution_count": 75,
     "metadata": {},
     "output_type": "execute_result"
    }
   ],
   "source": [
    "log_maker(0.01,0.01)"
   ]
  },
  {
   "cell_type": "markdown",
   "metadata": {},
   "source": [
    "# Posterior Check - MODEL 1 "
   ]
  },
  {
   "cell_type": "code",
   "execution_count": 76,
   "metadata": {},
   "outputs": [],
   "source": [
    "import arviz as az\n"
   ]
  },
  {
   "cell_type": "code",
   "execution_count": 92,
   "metadata": {},
   "outputs": [
    {
     "name": "stderr",
     "output_type": "stream",
     "text": [
      "INFO:cmdstanpy:compiling stan file /home/racehorse_bayes/models/model_ppc_ver2.stan to exe file /home/racehorse_bayes/models/model_ppc_ver2\n"
     ]
    },
    {
     "name": "stderr",
     "output_type": "stream",
     "text": [
      "INFO:cmdstanpy:compiled model executable: /home/racehorse_bayes/models/model_ppc_ver2\n",
      "WARNING:cmdstanpy:Stan compiler has produced 2 warnings:\n",
      "WARNING:cmdstanpy:\n",
      "--- Translating Stan model to C++ code ---\n",
      "bin/stanc  --o=/home/racehorse_bayes/models/model_ppc_ver2.hpp /home/racehorse_bayes/models/model_ppc_ver2.stan\n",
      "Warning in '/home/racehorse_bayes/models/model_ppc_ver2.stan', line 3, column 4: Declaration\n",
      "    of arrays by placing brackets after a variable name is deprecated and\n",
      "    will be removed in Stan 2.32.0. Instead use the array keyword before the\n",
      "    type. This can be changed automatically using the auto-format flag to\n",
      "    stanc\n",
      "Warning in '/home/racehorse_bayes/models/model_ppc_ver2.stan', line 24, column 4: Declaration\n",
      "    of arrays by placing brackets after a variable name is deprecated and\n",
      "    will be removed in Stan 2.32.0. Instead use the array keyword before the\n",
      "    type. This can be changed automatically using the auto-format flag to\n",
      "    stanc\n",
      "\n",
      "--- Compiling, linking C++ code ---\n",
      "g++ -std=c++1y -pthread -D_REENTRANT -Wno-sign-compare -Wno-ignored-attributes      -I stan/lib/stan_math/lib/tbb_2020.3/include    -O3 -I src -I stan/src -I lib/rapidjson_1.1.0/ -I lib/CLI11-1.9.1/ -I stan/lib/stan_math/ -I stan/lib/stan_math/lib/eigen_3.3.9 -I stan/lib/stan_math/lib/boost_1.75.0 -I stan/lib/stan_math/lib/sundials_6.0.0/include -I stan/lib/stan_math/lib/sundials_6.0.0/src/sundials    -DBOOST_DISABLE_ASSERTS          -c -Wno-ignored-attributes   -x c++ -o /home/racehorse_bayes/models/model_ppc_ver2.o /home/racehorse_bayes/models/model_ppc_ver2.hpp\n",
      "g++ -std=c++1y -pthread -D_REENTRANT -Wno-sign-compare -Wno-ignored-attributes      -I stan/lib/stan_math/lib/tbb_2020.3/include    -O3 -I src -I stan/src -I lib/rapidjson_1.1.0/ -I lib/CLI11-1.9.1/ -I stan/lib/stan_math/ -I stan/lib/stan_math/lib/eigen_3.3.9 -I stan/lib/stan_math/lib/boost_1.75.0 -I stan/lib/stan_math/lib/sundials_6.0.0/include -I stan/lib/stan_math/lib/sundials_6.0.0/src/sundials    -DBOOST_DISABLE_ASSERTS                -Wl,-L,\"/opt/cmdstan-2.29.0/stan/lib/stan_math/lib/tbb\" -Wl,-rpath,\"/opt/cmdstan-2.29.0/stan/lib/stan_math/lib/tbb\"      /home/racehorse_bayes/models/model_ppc_ver2.o src/cmdstan/main.o        -Wl,-L,\"/opt/cmdstan-2.29.0/stan/lib/stan_math/lib/tbb\" -Wl,-rpath,\"/opt/cmdstan-2.29.0/stan/lib/stan_math/lib/tbb\"   stan/lib/stan_math/lib/sundials_6.0.0/lib/libsundials_nvecserial.a stan/lib/stan_math/lib/sundials_6.0.0/lib/libsundials_cvodes.a stan/lib/stan_math/lib/sundials_6.0.0/lib/libsundials_idas.a stan/lib/stan_math/lib/sundials_6.0.0/lib/libsundials_kinsol.a  stan/lib/stan_math/lib/tbb/libtbb.so.2 -o /home/racehorse_bayes/models/model_ppc_ver2\n",
      "rm -f /home/racehorse_bayes/models/model_ppc_ver2.o\n",
      "\n"
     ]
    }
   ],
   "source": [
    "fit_model_1=CmdStanModel(stan_file='models/model_ppc_ver2.stan')"
   ]
  },
  {
   "cell_type": "code",
   "execution_count": 95,
   "metadata": {},
   "outputs": [
    {
     "name": "stderr",
     "output_type": "stream",
     "text": [
      "INFO:cmdstanpy:CmdStan start processing\n",
      "chain 1 |\u001b[33m          \u001b[0m| 00:00 Status\n",
      "\u001b[A\n",
      "\n",
      "\u001b[A\u001b[A\n",
      "\u001b[A\n",
      "\n",
      "chain 1 |\u001b[33m▍         \u001b[0m| 00:00 Status"
     ]
    },
    {
     "name": "stderr",
     "output_type": "stream",
     "text": [
      "\n",
      "\u001b[A\n",
      "\n",
      "chain 1 |\u001b[33m███▏      \u001b[0m| 00:00 Iteration:  500 / 2000 [ 25%]  (Warmup)\n",
      "\u001b[A\n",
      "\n",
      "chain 1 |\u001b[34m█████▉    \u001b[0m| 00:00 Iteration: 1001 / 2000 [ 50%]  (Sampling)\n",
      "\u001b[A\n",
      "\n",
      "chain 1 |\u001b[34m███████▋  \u001b[0m| 00:00 Iteration: 1400 / 2000 [ 70%]  (Sampling)\n",
      "\u001b[A\n",
      "\n",
      "chain 1 |\u001b[34m██████████\u001b[0m| 00:01 Sampling completed                       \n",
      "chain 2 |\u001b[34m██████████\u001b[0m| 00:01 Sampling completed                       \n",
      "chain 3 |\u001b[34m██████████\u001b[0m| 00:01 Sampling completed                       \n",
      "chain 4 |\u001b[34m██████████\u001b[0m| 00:01 Sampling completed                       "
     ]
    },
    {
     "name": "stdout",
     "output_type": "stream",
     "text": [
      "                                                                                "
     ]
    },
    {
     "name": "stderr",
     "output_type": "stream",
     "text": [
      "\n"
     ]
    },
    {
     "name": "stdout",
     "output_type": "stream",
     "text": [
      "                                                                                                                                                                                                                                                "
     ]
    },
    {
     "name": "stderr",
     "output_type": "stream",
     "text": [
      "INFO:cmdstanpy:CmdStan done processing.\n"
     ]
    },
    {
     "name": "stdout",
     "output_type": "stream",
     "text": [
      "\n"
     ]
    }
   ],
   "source": [
    "data = { 'N': len(df_copy),\n",
    "        'dad_value_numeric': df.dad_value_numeric,\n",
    "        'dad_num_of_starts': df_copy.dad_num_of_starts,\n",
    "        'dad_first_place': df_copy.dad_first_place,\n",
    "        'dad_second_place': df_copy.dad_second_place,\n",
    "        'dad_third_place': df_copy.dad_third_place\n",
    "         }\n",
    "\n",
    "fit1=fit_model_1.sample(data=data, seed=26062023)\n",
    "\n"
   ]
  },
  {
   "cell_type": "code",
   "execution_count": 96,
   "metadata": {},
   "outputs": [
    {
     "data": {
      "text/html": [
       "<div>\n",
       "<style scoped>\n",
       "    .dataframe tbody tr th:only-of-type {\n",
       "        vertical-align: middle;\n",
       "    }\n",
       "\n",
       "    .dataframe tbody tr th {\n",
       "        vertical-align: top;\n",
       "    }\n",
       "\n",
       "    .dataframe thead th {\n",
       "        text-align: right;\n",
       "    }\n",
       "</style>\n",
       "<table border=\"1\" class=\"dataframe\">\n",
       "  <thead>\n",
       "    <tr style=\"text-align: right;\">\n",
       "      <th></th>\n",
       "      <th>mean</th>\n",
       "      <th>sd</th>\n",
       "      <th>hdi_3%</th>\n",
       "      <th>hdi_97%</th>\n",
       "    </tr>\n",
       "  </thead>\n",
       "  <tbody>\n",
       "    <tr>\n",
       "      <th>a0[0]</th>\n",
       "      <td>0.01</td>\n",
       "      <td>0.01</td>\n",
       "      <td>0.00</td>\n",
       "      <td>0.03</td>\n",
       "    </tr>\n",
       "    <tr>\n",
       "      <th>a0[1]</th>\n",
       "      <td>0.01</td>\n",
       "      <td>0.01</td>\n",
       "      <td>0.00</td>\n",
       "      <td>0.03</td>\n",
       "    </tr>\n",
       "    <tr>\n",
       "      <th>a0[2]</th>\n",
       "      <td>0.01</td>\n",
       "      <td>0.01</td>\n",
       "      <td>0.00</td>\n",
       "      <td>0.03</td>\n",
       "    </tr>\n",
       "    <tr>\n",
       "      <th>a0[3]</th>\n",
       "      <td>0.01</td>\n",
       "      <td>0.01</td>\n",
       "      <td>0.00</td>\n",
       "      <td>0.03</td>\n",
       "    </tr>\n",
       "    <tr>\n",
       "      <th>a0[4]</th>\n",
       "      <td>0.01</td>\n",
       "      <td>0.01</td>\n",
       "      <td>0.00</td>\n",
       "      <td>0.03</td>\n",
       "    </tr>\n",
       "    <tr>\n",
       "      <th>...</th>\n",
       "      <td>...</td>\n",
       "      <td>...</td>\n",
       "      <td>...</td>\n",
       "      <td>...</td>\n",
       "    </tr>\n",
       "    <tr>\n",
       "      <th>mu[35]</th>\n",
       "      <td>64432.33</td>\n",
       "      <td>64087.70</td>\n",
       "      <td>11.88</td>\n",
       "      <td>187076.00</td>\n",
       "    </tr>\n",
       "    <tr>\n",
       "      <th>mu[36]</th>\n",
       "      <td>218376.22</td>\n",
       "      <td>217208.18</td>\n",
       "      <td>40.25</td>\n",
       "      <td>634046.00</td>\n",
       "    </tr>\n",
       "    <tr>\n",
       "      <th>mu[37]</th>\n",
       "      <td>613953.17</td>\n",
       "      <td>610669.31</td>\n",
       "      <td>113.17</td>\n",
       "      <td>1782590.00</td>\n",
       "    </tr>\n",
       "    <tr>\n",
       "      <th>mu[38]</th>\n",
       "      <td>114307.09</td>\n",
       "      <td>113695.70</td>\n",
       "      <td>21.07</td>\n",
       "      <td>331886.00</td>\n",
       "    </tr>\n",
       "    <tr>\n",
       "      <th>mu[39]</th>\n",
       "      <td>114307.09</td>\n",
       "      <td>113695.70</td>\n",
       "      <td>21.07</td>\n",
       "      <td>331886.00</td>\n",
       "    </tr>\n",
       "  </tbody>\n",
       "</table>\n",
       "<p>125 rows × 4 columns</p>\n",
       "</div>"
      ],
      "text/plain": [
       "             mean         sd  hdi_3%     hdi_97%\n",
       "a0[0]        0.01       0.01    0.00        0.03\n",
       "a0[1]        0.01       0.01    0.00        0.03\n",
       "a0[2]        0.01       0.01    0.00        0.03\n",
       "a0[3]        0.01       0.01    0.00        0.03\n",
       "a0[4]        0.01       0.01    0.00        0.03\n",
       "...           ...        ...     ...         ...\n",
       "mu[35]   64432.33   64087.70   11.88   187076.00\n",
       "mu[36]  218376.22  217208.18   40.25   634046.00\n",
       "mu[37]  613953.17  610669.31  113.17  1782590.00\n",
       "mu[38]  114307.09  113695.70   21.07   331886.00\n",
       "mu[39]  114307.09  113695.70   21.07   331886.00\n",
       "\n",
       "[125 rows x 4 columns]"
      ]
     },
     "execution_count": 96,
     "metadata": {},
     "output_type": "execute_result"
    }
   ],
   "source": [
    "az.summary(fit1, var_names=['a0', 'a1', 'value_coeff', 'num_of_starts_coeff', 'first_place_coeff', 'second_place_coeff','third_place_coeff', 'mu'], round_to=2, kind='stats')"
   ]
  },
  {
   "cell_type": "code",
   "execution_count": 97,
   "metadata": {},
   "outputs": [
    {
     "data": {
      "text/html": [
       "<div>\n",
       "<style scoped>\n",
       "    .dataframe tbody tr th:only-of-type {\n",
       "        vertical-align: middle;\n",
       "    }\n",
       "\n",
       "    .dataframe tbody tr th {\n",
       "        vertical-align: top;\n",
       "    }\n",
       "\n",
       "    .dataframe thead th {\n",
       "        text-align: right;\n",
       "    }\n",
       "</style>\n",
       "<table border=\"1\" class=\"dataframe\">\n",
       "  <thead>\n",
       "    <tr style=\"text-align: right;\">\n",
       "      <th></th>\n",
       "      <th>lp__</th>\n",
       "      <th>accept_stat__</th>\n",
       "      <th>stepsize__</th>\n",
       "      <th>treedepth__</th>\n",
       "      <th>n_leapfrog__</th>\n",
       "      <th>divergent__</th>\n",
       "      <th>energy__</th>\n",
       "      <th>a0[1]</th>\n",
       "      <th>a0[2]</th>\n",
       "      <th>a0[3]</th>\n",
       "      <th>...</th>\n",
       "      <th>kid_value_pred[31]</th>\n",
       "      <th>kid_value_pred[32]</th>\n",
       "      <th>kid_value_pred[33]</th>\n",
       "      <th>kid_value_pred[34]</th>\n",
       "      <th>kid_value_pred[35]</th>\n",
       "      <th>kid_value_pred[36]</th>\n",
       "      <th>kid_value_pred[37]</th>\n",
       "      <th>kid_value_pred[38]</th>\n",
       "      <th>kid_value_pred[39]</th>\n",
       "      <th>kid_value_pred[40]</th>\n",
       "    </tr>\n",
       "  </thead>\n",
       "  <tbody>\n",
       "    <tr>\n",
       "      <th>0</th>\n",
       "      <td>-141.864</td>\n",
       "      <td>0.781945</td>\n",
       "      <td>0.391829</td>\n",
       "      <td>4.0</td>\n",
       "      <td>15.0</td>\n",
       "      <td>0.0</td>\n",
       "      <td>183.191</td>\n",
       "      <td>0.002582</td>\n",
       "      <td>0.016442</td>\n",
       "      <td>0.002452</td>\n",
       "      <td>...</td>\n",
       "      <td>0.0</td>\n",
       "      <td>0.0</td>\n",
       "      <td>0.0</td>\n",
       "      <td>0.0</td>\n",
       "      <td>0.0</td>\n",
       "      <td>0.0</td>\n",
       "      <td>0.0</td>\n",
       "      <td>0.0</td>\n",
       "      <td>0.0</td>\n",
       "      <td>0.0</td>\n",
       "    </tr>\n",
       "    <tr>\n",
       "      <th>1</th>\n",
       "      <td>-129.926</td>\n",
       "      <td>0.995102</td>\n",
       "      <td>0.391829</td>\n",
       "      <td>4.0</td>\n",
       "      <td>15.0</td>\n",
       "      <td>0.0</td>\n",
       "      <td>175.090</td>\n",
       "      <td>0.040283</td>\n",
       "      <td>0.002709</td>\n",
       "      <td>0.013721</td>\n",
       "      <td>...</td>\n",
       "      <td>0.0</td>\n",
       "      <td>0.0</td>\n",
       "      <td>0.0</td>\n",
       "      <td>0.0</td>\n",
       "      <td>0.0</td>\n",
       "      <td>0.0</td>\n",
       "      <td>0.0</td>\n",
       "      <td>0.0</td>\n",
       "      <td>0.0</td>\n",
       "      <td>0.0</td>\n",
       "    </tr>\n",
       "    <tr>\n",
       "      <th>2</th>\n",
       "      <td>-123.069</td>\n",
       "      <td>0.993723</td>\n",
       "      <td>0.391829</td>\n",
       "      <td>4.0</td>\n",
       "      <td>15.0</td>\n",
       "      <td>0.0</td>\n",
       "      <td>169.465</td>\n",
       "      <td>0.008114</td>\n",
       "      <td>0.016535</td>\n",
       "      <td>0.036308</td>\n",
       "      <td>...</td>\n",
       "      <td>0.0</td>\n",
       "      <td>0.0</td>\n",
       "      <td>0.0</td>\n",
       "      <td>0.0</td>\n",
       "      <td>0.0</td>\n",
       "      <td>0.0</td>\n",
       "      <td>0.0</td>\n",
       "      <td>0.0</td>\n",
       "      <td>0.0</td>\n",
       "      <td>0.0</td>\n",
       "    </tr>\n",
       "    <tr>\n",
       "      <th>3</th>\n",
       "      <td>-129.080</td>\n",
       "      <td>0.894017</td>\n",
       "      <td>0.391829</td>\n",
       "      <td>4.0</td>\n",
       "      <td>15.0</td>\n",
       "      <td>0.0</td>\n",
       "      <td>164.204</td>\n",
       "      <td>0.007664</td>\n",
       "      <td>0.002723</td>\n",
       "      <td>0.002242</td>\n",
       "      <td>...</td>\n",
       "      <td>0.0</td>\n",
       "      <td>0.0</td>\n",
       "      <td>0.0</td>\n",
       "      <td>0.0</td>\n",
       "      <td>0.0</td>\n",
       "      <td>0.0</td>\n",
       "      <td>0.0</td>\n",
       "      <td>0.0</td>\n",
       "      <td>0.0</td>\n",
       "      <td>0.0</td>\n",
       "    </tr>\n",
       "    <tr>\n",
       "      <th>4</th>\n",
       "      <td>-126.991</td>\n",
       "      <td>0.943305</td>\n",
       "      <td>0.391829</td>\n",
       "      <td>4.0</td>\n",
       "      <td>15.0</td>\n",
       "      <td>0.0</td>\n",
       "      <td>173.642</td>\n",
       "      <td>0.009412</td>\n",
       "      <td>0.018599</td>\n",
       "      <td>0.022434</td>\n",
       "      <td>...</td>\n",
       "      <td>0.0</td>\n",
       "      <td>0.0</td>\n",
       "      <td>0.0</td>\n",
       "      <td>0.0</td>\n",
       "      <td>0.0</td>\n",
       "      <td>0.0</td>\n",
       "      <td>0.0</td>\n",
       "      <td>0.0</td>\n",
       "      <td>0.0</td>\n",
       "      <td>0.0</td>\n",
       "    </tr>\n",
       "  </tbody>\n",
       "</table>\n",
       "<p>5 rows × 172 columns</p>\n",
       "</div>"
      ],
      "text/plain": [
       "      lp__  accept_stat__  stepsize__  treedepth__  n_leapfrog__  divergent__  \\\n",
       "0 -141.864       0.781945    0.391829          4.0          15.0          0.0   \n",
       "1 -129.926       0.995102    0.391829          4.0          15.0          0.0   \n",
       "2 -123.069       0.993723    0.391829          4.0          15.0          0.0   \n",
       "3 -129.080       0.894017    0.391829          4.0          15.0          0.0   \n",
       "4 -126.991       0.943305    0.391829          4.0          15.0          0.0   \n",
       "\n",
       "   energy__     a0[1]     a0[2]     a0[3]  ...  kid_value_pred[31]  \\\n",
       "0   183.191  0.002582  0.016442  0.002452  ...                 0.0   \n",
       "1   175.090  0.040283  0.002709  0.013721  ...                 0.0   \n",
       "2   169.465  0.008114  0.016535  0.036308  ...                 0.0   \n",
       "3   164.204  0.007664  0.002723  0.002242  ...                 0.0   \n",
       "4   173.642  0.009412  0.018599  0.022434  ...                 0.0   \n",
       "\n",
       "   kid_value_pred[32]  kid_value_pred[33]  kid_value_pred[34]  \\\n",
       "0                 0.0                 0.0                 0.0   \n",
       "1                 0.0                 0.0                 0.0   \n",
       "2                 0.0                 0.0                 0.0   \n",
       "3                 0.0                 0.0                 0.0   \n",
       "4                 0.0                 0.0                 0.0   \n",
       "\n",
       "   kid_value_pred[35]  kid_value_pred[36]  kid_value_pred[37]  \\\n",
       "0                 0.0                 0.0                 0.0   \n",
       "1                 0.0                 0.0                 0.0   \n",
       "2                 0.0                 0.0                 0.0   \n",
       "3                 0.0                 0.0                 0.0   \n",
       "4                 0.0                 0.0                 0.0   \n",
       "\n",
       "   kid_value_pred[38]  kid_value_pred[39]  kid_value_pred[40]  \n",
       "0                 0.0                 0.0                 0.0  \n",
       "1                 0.0                 0.0                 0.0  \n",
       "2                 0.0                 0.0                 0.0  \n",
       "3                 0.0                 0.0                 0.0  \n",
       "4                 0.0                 0.0                 0.0  \n",
       "\n",
       "[5 rows x 172 columns]"
      ]
     },
     "execution_count": 97,
     "metadata": {},
     "output_type": "execute_result"
    }
   ],
   "source": [
    "predicted_df = fit1.draws_pd()\n",
    "predicted_df.head()"
   ]
  },
  {
   "cell_type": "code",
   "execution_count": 90,
   "metadata": {},
   "outputs": [],
   "source": [
    "predicted_df['mean_kid_value_pred'] =predicted_df.loc[:, \"kid_value_pred[1]\":f\"kid_value_pred[{len(df_copy)}]\"].mean(axis=1)\n",
    "predicted_df['mean_mu'] = predicted_df.loc[:, \"mu[1]\":f\"mu[{len(df_copy)}]\"].mean(axis=1)"
   ]
  },
  {
   "cell_type": "code",
   "execution_count": 91,
   "metadata": {},
   "outputs": [
    {
     "data": {
      "text/plain": [
       "[(0.0, 1.0)]"
      ]
     },
     "execution_count": 91,
     "metadata": {},
     "output_type": "execute_result"
    },
    {
     "data": {
      "image/png": "[encoded data removed]",
      "text/plain": [
       "<Figure size 1296x360 with 1 Axes>"
      ]
     },
     "metadata": {
      "needs_background": "light"
     },
     "output_type": "display_data"
    }
   ],
   "source": [
    "fig,axs= plt.subplots(1,1, figsize=(18,5))\n",
    "graph = sns.histplot(data=predicted_df, x='mean_kid_value_pred',ax=axs, label='kid_value_pred',bins=20,stat='density')\n",
    "graph.axvline(predicted_df.mean_kid_value_pred.mean(), color='red', label='Mean_predicted')\n",
    "graph = sns.histplot(data=df_copy, x='value_numeric',ax=axs, color='green', label='value_numeric' ,bins=20 ,stat='density')\n",
    "graph.axvline(df_copy.value_numeric.mean(), color='yellow', label='Mean_observed')\n",
    "graph.legend()\n",
    "graph.set(xlim=(0,1))"
   ]
  }
 ],
 "metadata": {
  "kernelspec": {
   "display_name": "michalmotyl",
   "language": "python",
   "name": "python3"
  },
  "language_info": {
   "codemirror_mode": {
    "name": "ipython",
    "version": 3
   },
   "file_extension": ".py",
   "mimetype": "text/x-python",
   "name": "python",
   "nbconvert_exporter": "python",
   "pygments_lexer": "ipython3",
   "version": "3.9.11"
  },
  "orig_nbformat": 4
 },
 "nbformat": 4,
 "nbformat_minor": 2
}
