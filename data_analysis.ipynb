{
 "cells": [
  {
   "cell_type": "code",
   "execution_count": 2,
   "metadata": {},
   "outputs": [],
   "source": [
    "import numpy as np\n",
    "import pandas as pd\n",
    "import seaborn as sns\n",
    "import matplotlib.pyplot as plt\n",
    "import scipy"
   ]
  },
  {
   "cell_type": "code",
   "execution_count": 3,
   "metadata": {},
   "outputs": [
    {
     "data": {
      "text/html": [
       "<div>\n",
       "<style scoped>\n",
       "    .dataframe tbody tr th:only-of-type {\n",
       "        vertical-align: middle;\n",
       "    }\n",
       "\n",
       "    .dataframe tbody tr th {\n",
       "        vertical-align: top;\n",
       "    }\n",
       "\n",
       "    .dataframe thead th {\n",
       "        text-align: right;\n",
       "    }\n",
       "</style>\n",
       "<table border=\"1\" class=\"dataframe\">\n",
       "  <thead>\n",
       "    <tr style=\"text-align: right;\">\n",
       "      <th></th>\n",
       "      <th>Unnamed: 0</th>\n",
       "      <th>kid_id</th>\n",
       "      <th>mum_id</th>\n",
       "      <th>dad_id</th>\n",
       "      <th>value_numeric</th>\n",
       "      <th>first_place</th>\n",
       "      <th>dad_value_numeric</th>\n",
       "      <th>dad_first_place</th>\n",
       "      <th>dad_second_place</th>\n",
       "      <th>dad_third_place</th>\n",
       "      <th>dad_num_of_starts</th>\n",
       "    </tr>\n",
       "  </thead>\n",
       "  <tbody>\n",
       "    <tr>\n",
       "      <th>0</th>\n",
       "      <td>0</td>\n",
       "      <td>1</td>\n",
       "      <td>D1</td>\n",
       "      <td>S2</td>\n",
       "      <td>132570.0</td>\n",
       "      <td>8</td>\n",
       "      <td>156410.0</td>\n",
       "      <td>9.0</td>\n",
       "      <td>1.0</td>\n",
       "      <td>0.0</td>\n",
       "      <td>10.0</td>\n",
       "    </tr>\n",
       "    <tr>\n",
       "      <th>1</th>\n",
       "      <td>2</td>\n",
       "      <td>3</td>\n",
       "      <td>D1</td>\n",
       "      <td>S3</td>\n",
       "      <td>631605.0</td>\n",
       "      <td>11</td>\n",
       "      <td>1749869.0</td>\n",
       "      <td>43.0</td>\n",
       "      <td>8.0</td>\n",
       "      <td>5.0</td>\n",
       "      <td>66.0</td>\n",
       "    </tr>\n",
       "    <tr>\n",
       "      <th>2</th>\n",
       "      <td>3</td>\n",
       "      <td>4</td>\n",
       "      <td>D1</td>\n",
       "      <td>S4</td>\n",
       "      <td>8963.0</td>\n",
       "      <td>1</td>\n",
       "      <td>580806.0</td>\n",
       "      <td>14.0</td>\n",
       "      <td>2.0</td>\n",
       "      <td>2.0</td>\n",
       "      <td>18.0</td>\n",
       "    </tr>\n",
       "    <tr>\n",
       "      <th>3</th>\n",
       "      <td>4</td>\n",
       "      <td>5</td>\n",
       "      <td>D1</td>\n",
       "      <td>S4</td>\n",
       "      <td>4799.0</td>\n",
       "      <td>1</td>\n",
       "      <td>580806.0</td>\n",
       "      <td>14.0</td>\n",
       "      <td>2.0</td>\n",
       "      <td>2.0</td>\n",
       "      <td>18.0</td>\n",
       "    </tr>\n",
       "    <tr>\n",
       "      <th>4</th>\n",
       "      <td>7</td>\n",
       "      <td>58</td>\n",
       "      <td>D9</td>\n",
       "      <td>S5</td>\n",
       "      <td>209211.0</td>\n",
       "      <td>14</td>\n",
       "      <td>1176781.0</td>\n",
       "      <td>21.0</td>\n",
       "      <td>7.0</td>\n",
       "      <td>3.0</td>\n",
       "      <td>32.0</td>\n",
       "    </tr>\n",
       "  </tbody>\n",
       "</table>\n",
       "</div>"
      ],
      "text/plain": [
       "   Unnamed: 0  kid_id mum_id dad_id  value_numeric  first_place  \\\n",
       "0           0       1     D1     S2       132570.0            8   \n",
       "1           2       3     D1     S3       631605.0           11   \n",
       "2           3       4     D1     S4         8963.0            1   \n",
       "3           4       5     D1     S4         4799.0            1   \n",
       "4           7      58     D9     S5       209211.0           14   \n",
       "\n",
       "   dad_value_numeric  dad_first_place  dad_second_place  dad_third_place  \\\n",
       "0           156410.0              9.0               1.0              0.0   \n",
       "1          1749869.0             43.0               8.0              5.0   \n",
       "2           580806.0             14.0               2.0              2.0   \n",
       "3           580806.0             14.0               2.0              2.0   \n",
       "4          1176781.0             21.0               7.0              3.0   \n",
       "\n",
       "   dad_num_of_starts  \n",
       "0               10.0  \n",
       "1               66.0  \n",
       "2               18.0  \n",
       "3               18.0  \n",
       "4               32.0  "
      ]
     },
     "execution_count": 3,
     "metadata": {},
     "output_type": "execute_result"
    }
   ],
   "source": [
    "# imports\n",
    "path_to_prep_mum = 'data/data_prepared/mums_prep.csv'\n",
    "path_to_prep_dad = 'data/data_prepared/dads_prep.csv'\n",
    "df_dads = pd.read_csv(path_to_prep_dad)\n",
    "df_dads['dad_value_numeric_rescale'] = df_dads.dad_value_numeric /10**6\n",
    "\n",
    "\n",
    "path_to_prepared_data = 'data/data_prepared/only_stalions_prepared.csv'\n",
    "df = pd.read_csv(path_to_prepared_data)\n",
    "df.head()"
   ]
  },
  {
   "cell_type": "code",
   "execution_count": 4,
   "metadata": {},
   "outputs": [
    {
     "name": "stdout",
     "output_type": "stream",
     "text": [
      "<class 'pandas.core.frame.DataFrame'>\n",
      "RangeIndex: 40 entries, 0 to 39\n",
      "Data columns (total 11 columns):\n",
      " #   Column             Non-Null Count  Dtype  \n",
      "---  ------             --------------  -----  \n",
      " 0   Unnamed: 0         40 non-null     int64  \n",
      " 1   kid_id             40 non-null     int64  \n",
      " 2   mum_id             40 non-null     object \n",
      " 3   dad_id             40 non-null     object \n",
      " 4   value_numeric      40 non-null     float64\n",
      " 5   first_place        40 non-null     int64  \n",
      " 6   dad_value_numeric  40 non-null     float64\n",
      " 7   dad_first_place    40 non-null     float64\n",
      " 8   dad_second_place   40 non-null     float64\n",
      " 9   dad_third_place    40 non-null     float64\n",
      " 10  dad_num_of_starts  40 non-null     float64\n",
      "dtypes: float64(6), int64(3), object(2)\n",
      "memory usage: 3.6+ KB\n"
     ]
    }
   ],
   "source": [
    "df.info()"
   ]
  },
  {
   "cell_type": "code",
   "execution_count": 5,
   "metadata": {},
   "outputs": [
    {
     "data": {
      "text/html": [
       "<div>\n",
       "<style scoped>\n",
       "    .dataframe tbody tr th:only-of-type {\n",
       "        vertical-align: middle;\n",
       "    }\n",
       "\n",
       "    .dataframe tbody tr th {\n",
       "        vertical-align: top;\n",
       "    }\n",
       "\n",
       "    .dataframe thead th {\n",
       "        text-align: right;\n",
       "    }\n",
       "</style>\n",
       "<table border=\"1\" class=\"dataframe\">\n",
       "  <thead>\n",
       "    <tr style=\"text-align: right;\">\n",
       "      <th></th>\n",
       "      <th>Unnamed: 0</th>\n",
       "      <th>kid_id</th>\n",
       "      <th>mum_id</th>\n",
       "      <th>dad_id</th>\n",
       "      <th>value_numeric</th>\n",
       "      <th>first_place</th>\n",
       "      <th>dad_value_numeric</th>\n",
       "      <th>dad_first_place</th>\n",
       "      <th>dad_second_place</th>\n",
       "      <th>dad_third_place</th>\n",
       "      <th>dad_num_of_starts</th>\n",
       "      <th>value_numeric_rescale</th>\n",
       "      <th>dad_value_numeric_rescale</th>\n",
       "    </tr>\n",
       "  </thead>\n",
       "  <tbody>\n",
       "    <tr>\n",
       "      <th>0</th>\n",
       "      <td>0</td>\n",
       "      <td>1</td>\n",
       "      <td>D1</td>\n",
       "      <td>S2</td>\n",
       "      <td>132570.0</td>\n",
       "      <td>8</td>\n",
       "      <td>156410.0</td>\n",
       "      <td>9.0</td>\n",
       "      <td>1.0</td>\n",
       "      <td>0.0</td>\n",
       "      <td>10.0</td>\n",
       "      <td>0.132570</td>\n",
       "      <td>0.156410</td>\n",
       "    </tr>\n",
       "    <tr>\n",
       "      <th>1</th>\n",
       "      <td>2</td>\n",
       "      <td>3</td>\n",
       "      <td>D1</td>\n",
       "      <td>S3</td>\n",
       "      <td>631605.0</td>\n",
       "      <td>11</td>\n",
       "      <td>1749869.0</td>\n",
       "      <td>43.0</td>\n",
       "      <td>8.0</td>\n",
       "      <td>5.0</td>\n",
       "      <td>66.0</td>\n",
       "      <td>0.631605</td>\n",
       "      <td>1.749869</td>\n",
       "    </tr>\n",
       "    <tr>\n",
       "      <th>2</th>\n",
       "      <td>3</td>\n",
       "      <td>4</td>\n",
       "      <td>D1</td>\n",
       "      <td>S4</td>\n",
       "      <td>8963.0</td>\n",
       "      <td>1</td>\n",
       "      <td>580806.0</td>\n",
       "      <td>14.0</td>\n",
       "      <td>2.0</td>\n",
       "      <td>2.0</td>\n",
       "      <td>18.0</td>\n",
       "      <td>0.008963</td>\n",
       "      <td>0.580806</td>\n",
       "    </tr>\n",
       "    <tr>\n",
       "      <th>3</th>\n",
       "      <td>4</td>\n",
       "      <td>5</td>\n",
       "      <td>D1</td>\n",
       "      <td>S4</td>\n",
       "      <td>4799.0</td>\n",
       "      <td>1</td>\n",
       "      <td>580806.0</td>\n",
       "      <td>14.0</td>\n",
       "      <td>2.0</td>\n",
       "      <td>2.0</td>\n",
       "      <td>18.0</td>\n",
       "      <td>0.004799</td>\n",
       "      <td>0.580806</td>\n",
       "    </tr>\n",
       "    <tr>\n",
       "      <th>4</th>\n",
       "      <td>7</td>\n",
       "      <td>58</td>\n",
       "      <td>D9</td>\n",
       "      <td>S5</td>\n",
       "      <td>209211.0</td>\n",
       "      <td>14</td>\n",
       "      <td>1176781.0</td>\n",
       "      <td>21.0</td>\n",
       "      <td>7.0</td>\n",
       "      <td>3.0</td>\n",
       "      <td>32.0</td>\n",
       "      <td>0.209211</td>\n",
       "      <td>1.176781</td>\n",
       "    </tr>\n",
       "  </tbody>\n",
       "</table>\n",
       "</div>"
      ],
      "text/plain": [
       "   Unnamed: 0  kid_id mum_id dad_id  value_numeric  first_place  \\\n",
       "0           0       1     D1     S2       132570.0            8   \n",
       "1           2       3     D1     S3       631605.0           11   \n",
       "2           3       4     D1     S4         8963.0            1   \n",
       "3           4       5     D1     S4         4799.0            1   \n",
       "4           7      58     D9     S5       209211.0           14   \n",
       "\n",
       "   dad_value_numeric  dad_first_place  dad_second_place  dad_third_place  \\\n",
       "0           156410.0              9.0               1.0              0.0   \n",
       "1          1749869.0             43.0               8.0              5.0   \n",
       "2           580806.0             14.0               2.0              2.0   \n",
       "3           580806.0             14.0               2.0              2.0   \n",
       "4          1176781.0             21.0               7.0              3.0   \n",
       "\n",
       "   dad_num_of_starts  value_numeric_rescale  dad_value_numeric_rescale  \n",
       "0               10.0               0.132570                   0.156410  \n",
       "1               66.0               0.631605                   1.749869  \n",
       "2               18.0               0.008963                   0.580806  \n",
       "3               18.0               0.004799                   0.580806  \n",
       "4               32.0               0.209211                   1.176781  "
      ]
     },
     "execution_count": 5,
     "metadata": {},
     "output_type": "execute_result"
    }
   ],
   "source": [
    "# rescaling values\n",
    "for column in ['value_numeric', 'dad_value_numeric']:\n",
    "    new_col = column + '_rescale'\n",
    "    df[new_col] = df[column]/10**6\n",
    "df.head()"
   ]
  },
  {
   "attachments": {},
   "cell_type": "markdown",
   "metadata": {},
   "source": [
    "# histogram of data we want to predict"
   ]
  },
  {
   "cell_type": "code",
   "execution_count": 6,
   "metadata": {},
   "outputs": [
    {
     "data": {
      "image/png": "[encoded data removed]",
      "text/plain": [
       "<Figure size 720x360 with 1 Axes>"
      ]
     },
     "metadata": {
      "needs_background": "light"
     },
     "output_type": "display_data"
    }
   ],
   "source": [
    "# analysis of value: what we want to to predict\n",
    "fig, axs = plt.subplots(1,1, figsize=(10,5))\n",
    "graph = sns.histplot(data=df, x='value_numeric_rescale', bins=15, ax=axs, label='Observed', stat='density')\n",
    "graph.axvline(df.value_numeric_rescale.mean(), color='red', label='Mean')\n",
    "graph.legend()\n",
    "plt.show()"
   ]
  },
  {
   "attachments": {},
   "cell_type": "markdown",
   "metadata": {},
   "source": [
    "# histograms of data we want to predict from\n"
   ]
  },
  {
   "cell_type": "code",
   "execution_count": 7,
   "metadata": {},
   "outputs": [
    {
     "data": {
      "image/png": "[encoded data removed]",
      "text/plain": [
       "<Figure size 432x288 with 1 Axes>"
      ]
     },
     "metadata": {
      "needs_background": "light"
     },
     "output_type": "display_data"
    }
   ],
   "source": [
    "# histograms of data we want to predict from\n",
    "graph = sns.histplot(data=df_dads, x='dad_value_numeric_rescale', label='Observed', stat='density')\n",
    "graph.axvline(df_dads.dad_value_numeric_rescale.mean(), color='red', label='Mean')\n",
    "graph.legend()\n",
    "plt.show()"
   ]
  },
  {
   "cell_type": "code",
   "execution_count": 8,
   "metadata": {},
   "outputs": [
    {
     "data": {
      "image/png": "[encoded data removed]",
      "text/plain": [
       "<Figure size 1296x360 with 3 Axes>"
      ]
     },
     "metadata": {
      "needs_background": "light"
     },
     "output_type": "display_data"
    }
   ],
   "source": [
    "# places of dad\n",
    "fig, axs = plt.subplots(1,3, figsize=(18,5))\n",
    "graph = sns.histplot(data=df_dads, x='dad_first_place', label='Observed 1st place', ax=axs[0], stat='density')\n",
    "graph.axvline(df_dads.dad_first_place.mean(), color='red', label='Mean')\n",
    "graph.legend()\n",
    "\n",
    "graph = sns.histplot(data=df_dads, x='dad_second_place', label='Observed 2nd place', ax=axs[1], stat='density')\n",
    "graph.axvline(df_dads.dad_second_place.mean(), label='Mean', color='red')\n",
    "graph.legend()\n",
    "\n",
    "graph = sns.histplot(data=df_dads, x='dad_third_place', label='Observed 3rd place', ax=axs[2], stat='density')\n",
    "graph.axvline(df_dads.dad_third_place.mean(), label='Mean', color='red')\n",
    "graph.legend()\n",
    "plt.show()"
   ]
  },
  {
   "cell_type": "code",
   "execution_count": 9,
   "metadata": {},
   "outputs": [
    {
     "data": {
      "image/png": "[encoded data removed]",
      "text/plain": [
       "<Figure size 720x360 with 1 Axes>"
      ]
     },
     "metadata": {
      "needs_background": "light"
     },
     "output_type": "display_data"
    }
   ],
   "source": [
    "# nums of starts\n",
    "fig, axs = plt.subplots(1,1, figsize=(10,5))\n",
    "graph = sns.histplot(data=df_dads, x='dad_num_of_starts', label='Observed dad starts', ax=axs, bins=10, stat='density')\n",
    "graph.axvline(df_dads.dad_first_place.mean(), color='red', label='Mean')\n",
    "graph.legend()\n",
    "plt.show()\n"
   ]
  },
  {
   "attachments": {},
   "cell_type": "markdown",
   "metadata": {},
   "source": [
    "Assumed prior distributions:\n",
    "- `dad_num_of_starts` : lognormal\n",
    "- `dad_value_numeric_rescale` : exponential\n",
    "- `dad_first_place` : lognormal\n",
    "- `dad_second_place` : exponential\n",
    "- `dad_third_place` : expnoential"
   ]
  },
  {
   "cell_type": "code",
   "execution_count": 13,
   "metadata": {},
   "outputs": [],
   "source": [
    "# calculating needed parameters for prior distributions\n",
    "# to use in stan models in a bit\n",
    "\n",
    "# dad_num_of_starts\n",
    "mu_dad_num_of_starts = df_dads.dad_num_of_starts.mean()\n",
    "sigma_dad_num_of_starts = df_dads.dad_num_of_starts.std()\n",
    "\n",
    "# dad_value_numeric_rescale\n",
    "lambda_dad_value_numeric_rescale = 1/df_dads.dad_value_numeric_rescale.mean()\n",
    "\n",
    "# dad_first_place\n",
    "mu_dad_first_place = df_dads.dad_first_place.mean()\n",
    "sigma_dad_first_place = df_dads.dad_first_place.std()\n",
    "\n",
    "# dad_second_place\n",
    "lambda_dad_second_place = 1/df_dads.dad_second_place.mean()\n",
    "\n",
    "# dad_third_place\n",
    "lambda_dad_third_place = 1/df_dads.dad_third_place.mean()\n",
    "\n"
   ]
  },
  {
   "cell_type": "code",
   "execution_count": null,
   "metadata": {},
   "outputs": [],
   "source": []
  }
 ],
 "metadata": {
  "kernelspec": {
   "display_name": "michalmotyl",
   "language": "python",
   "name": "python3"
  },
  "language_info": {
   "codemirror_mode": {
    "name": "ipython",
    "version": 3
   },
   "file_extension": ".py",
   "mimetype": "text/x-python",
   "name": "python",
   "nbconvert_exporter": "python",
   "pygments_lexer": "ipython3",
   "version": "3.8.8"
  },
  "orig_nbformat": 4
 },
 "nbformat": 4,
 "nbformat_minor": 2
}
