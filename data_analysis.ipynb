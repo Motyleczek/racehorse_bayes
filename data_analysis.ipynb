{
 "cells": [
  {
   "cell_type": "code",
   "execution_count": 10,
   "metadata": {},
   "outputs": [
    {
     "name": "stderr",
     "output_type": "stream",
     "text": [
      "/usr/local/lib/python3.9/site-packages/tqdm/auto.py:22: TqdmWarning: IProgress not found. Please update jupyter and ipywidgets. See https://ipywidgets.readthedocs.io/en/stable/user_install.html\n",
      "  from .autonotebook import tqdm as notebook_tqdm\n"
     ]
    }
   ],
   "source": [
    "import numpy as np\n",
    "import pandas as pd\n",
    "import seaborn as sns\n",
    "import matplotlib.pyplot as plt\n",
    "import scipy\n",
    "from cmdstanpy import CmdStanModel"
   ]
  },
  {
   "cell_type": "code",
   "execution_count": 2,
   "metadata": {},
   "outputs": [
    {
     "data": {
      "text/html": [
       "<div>\n",
       "<style scoped>\n",
       "    .dataframe tbody tr th:only-of-type {\n",
       "        vertical-align: middle;\n",
       "    }\n",
       "\n",
       "    .dataframe tbody tr th {\n",
       "        vertical-align: top;\n",
       "    }\n",
       "\n",
       "    .dataframe thead th {\n",
       "        text-align: right;\n",
       "    }\n",
       "</style>\n",
       "<table border=\"1\" class=\"dataframe\">\n",
       "  <thead>\n",
       "    <tr style=\"text-align: right;\">\n",
       "      <th></th>\n",
       "      <th>Unnamed: 0</th>\n",
       "      <th>kid_id</th>\n",
       "      <th>mum_id</th>\n",
       "      <th>dad_id</th>\n",
       "      <th>value_numeric</th>\n",
       "      <th>first_place</th>\n",
       "      <th>dad_value_numeric</th>\n",
       "      <th>dad_first_place</th>\n",
       "      <th>dad_second_place</th>\n",
       "      <th>dad_third_place</th>\n",
       "      <th>dad_num_of_starts</th>\n",
       "    </tr>\n",
       "  </thead>\n",
       "  <tbody>\n",
       "    <tr>\n",
       "      <th>0</th>\n",
       "      <td>0</td>\n",
       "      <td>1</td>\n",
       "      <td>D1</td>\n",
       "      <td>S2</td>\n",
       "      <td>132570.0</td>\n",
       "      <td>8</td>\n",
       "      <td>156410.0</td>\n",
       "      <td>9.0</td>\n",
       "      <td>1.0</td>\n",
       "      <td>0.0</td>\n",
       "      <td>10.0</td>\n",
       "    </tr>\n",
       "    <tr>\n",
       "      <th>1</th>\n",
       "      <td>2</td>\n",
       "      <td>3</td>\n",
       "      <td>D1</td>\n",
       "      <td>S3</td>\n",
       "      <td>631605.0</td>\n",
       "      <td>11</td>\n",
       "      <td>1749869.0</td>\n",
       "      <td>43.0</td>\n",
       "      <td>8.0</td>\n",
       "      <td>5.0</td>\n",
       "      <td>66.0</td>\n",
       "    </tr>\n",
       "    <tr>\n",
       "      <th>2</th>\n",
       "      <td>3</td>\n",
       "      <td>4</td>\n",
       "      <td>D1</td>\n",
       "      <td>S4</td>\n",
       "      <td>8963.0</td>\n",
       "      <td>1</td>\n",
       "      <td>580806.0</td>\n",
       "      <td>14.0</td>\n",
       "      <td>2.0</td>\n",
       "      <td>2.0</td>\n",
       "      <td>18.0</td>\n",
       "    </tr>\n",
       "    <tr>\n",
       "      <th>3</th>\n",
       "      <td>4</td>\n",
       "      <td>5</td>\n",
       "      <td>D1</td>\n",
       "      <td>S4</td>\n",
       "      <td>4799.0</td>\n",
       "      <td>1</td>\n",
       "      <td>580806.0</td>\n",
       "      <td>14.0</td>\n",
       "      <td>2.0</td>\n",
       "      <td>2.0</td>\n",
       "      <td>18.0</td>\n",
       "    </tr>\n",
       "    <tr>\n",
       "      <th>4</th>\n",
       "      <td>7</td>\n",
       "      <td>58</td>\n",
       "      <td>D9</td>\n",
       "      <td>S5</td>\n",
       "      <td>209211.0</td>\n",
       "      <td>14</td>\n",
       "      <td>1176781.0</td>\n",
       "      <td>21.0</td>\n",
       "      <td>7.0</td>\n",
       "      <td>3.0</td>\n",
       "      <td>32.0</td>\n",
       "    </tr>\n",
       "  </tbody>\n",
       "</table>\n",
       "</div>"
      ],
      "text/plain": [
       "   Unnamed: 0  kid_id mum_id dad_id  value_numeric  first_place  \\\n",
       "0           0       1     D1     S2       132570.0            8   \n",
       "1           2       3     D1     S3       631605.0           11   \n",
       "2           3       4     D1     S4         8963.0            1   \n",
       "3           4       5     D1     S4         4799.0            1   \n",
       "4           7      58     D9     S5       209211.0           14   \n",
       "\n",
       "   dad_value_numeric  dad_first_place  dad_second_place  dad_third_place  \\\n",
       "0           156410.0              9.0               1.0              0.0   \n",
       "1          1749869.0             43.0               8.0              5.0   \n",
       "2           580806.0             14.0               2.0              2.0   \n",
       "3           580806.0             14.0               2.0              2.0   \n",
       "4          1176781.0             21.0               7.0              3.0   \n",
       "\n",
       "   dad_num_of_starts  \n",
       "0               10.0  \n",
       "1               66.0  \n",
       "2               18.0  \n",
       "3               18.0  \n",
       "4               32.0  "
      ]
     },
     "execution_count": 2,
     "metadata": {},
     "output_type": "execute_result"
    }
   ],
   "source": [
    "# imports\n",
    "path_to_prep_mum = 'data/data_prepared/mums_prep.csv'\n",
    "path_to_prep_dad = 'data/data_prepared/dads_prep.csv'\n",
    "df_dads = pd.read_csv(path_to_prep_dad)\n",
    "df_dads['dad_value_numeric_rescale'] = df_dads.dad_value_numeric /10**6\n",
    "\n",
    "\n",
    "path_to_prepared_data = 'data/data_prepared/only_stalions_prepared.csv'\n",
    "df = pd.read_csv(path_to_prepared_data)\n",
    "df.head()"
   ]
  },
  {
   "cell_type": "code",
   "execution_count": 3,
   "metadata": {},
   "outputs": [
    {
     "name": "stdout",
     "output_type": "stream",
     "text": [
      "<class 'pandas.core.frame.DataFrame'>\n",
      "RangeIndex: 40 entries, 0 to 39\n",
      "Data columns (total 11 columns):\n",
      " #   Column             Non-Null Count  Dtype  \n",
      "---  ------             --------------  -----  \n",
      " 0   Unnamed: 0         40 non-null     int64  \n",
      " 1   kid_id             40 non-null     int64  \n",
      " 2   mum_id             40 non-null     object \n",
      " 3   dad_id             40 non-null     object \n",
      " 4   value_numeric      40 non-null     float64\n",
      " 5   first_place        40 non-null     int64  \n",
      " 6   dad_value_numeric  40 non-null     float64\n",
      " 7   dad_first_place    40 non-null     float64\n",
      " 8   dad_second_place   40 non-null     float64\n",
      " 9   dad_third_place    40 non-null     float64\n",
      " 10  dad_num_of_starts  40 non-null     float64\n",
      "dtypes: float64(6), int64(3), object(2)\n",
      "memory usage: 3.6+ KB\n"
     ]
    }
   ],
   "source": [
    "df.info()"
   ]
  },
  {
   "cell_type": "code",
   "execution_count": 4,
   "metadata": {},
   "outputs": [
    {
     "data": {
      "text/html": [
       "<div>\n",
       "<style scoped>\n",
       "    .dataframe tbody tr th:only-of-type {\n",
       "        vertical-align: middle;\n",
       "    }\n",
       "\n",
       "    .dataframe tbody tr th {\n",
       "        vertical-align: top;\n",
       "    }\n",
       "\n",
       "    .dataframe thead th {\n",
       "        text-align: right;\n",
       "    }\n",
       "</style>\n",
       "<table border=\"1\" class=\"dataframe\">\n",
       "  <thead>\n",
       "    <tr style=\"text-align: right;\">\n",
       "      <th></th>\n",
       "      <th>Unnamed: 0</th>\n",
       "      <th>kid_id</th>\n",
       "      <th>mum_id</th>\n",
       "      <th>dad_id</th>\n",
       "      <th>value_numeric</th>\n",
       "      <th>first_place</th>\n",
       "      <th>dad_value_numeric</th>\n",
       "      <th>dad_first_place</th>\n",
       "      <th>dad_second_place</th>\n",
       "      <th>dad_third_place</th>\n",
       "      <th>dad_num_of_starts</th>\n",
       "      <th>value_numeric_rescale</th>\n",
       "      <th>dad_value_numeric_rescale</th>\n",
       "    </tr>\n",
       "  </thead>\n",
       "  <tbody>\n",
       "    <tr>\n",
       "      <th>0</th>\n",
       "      <td>0</td>\n",
       "      <td>1</td>\n",
       "      <td>D1</td>\n",
       "      <td>S2</td>\n",
       "      <td>132570.0</td>\n",
       "      <td>8</td>\n",
       "      <td>156410.0</td>\n",
       "      <td>9.0</td>\n",
       "      <td>1.0</td>\n",
       "      <td>0.0</td>\n",
       "      <td>10.0</td>\n",
       "      <td>0.132570</td>\n",
       "      <td>0.156410</td>\n",
       "    </tr>\n",
       "    <tr>\n",
       "      <th>1</th>\n",
       "      <td>2</td>\n",
       "      <td>3</td>\n",
       "      <td>D1</td>\n",
       "      <td>S3</td>\n",
       "      <td>631605.0</td>\n",
       "      <td>11</td>\n",
       "      <td>1749869.0</td>\n",
       "      <td>43.0</td>\n",
       "      <td>8.0</td>\n",
       "      <td>5.0</td>\n",
       "      <td>66.0</td>\n",
       "      <td>0.631605</td>\n",
       "      <td>1.749869</td>\n",
       "    </tr>\n",
       "    <tr>\n",
       "      <th>2</th>\n",
       "      <td>3</td>\n",
       "      <td>4</td>\n",
       "      <td>D1</td>\n",
       "      <td>S4</td>\n",
       "      <td>8963.0</td>\n",
       "      <td>1</td>\n",
       "      <td>580806.0</td>\n",
       "      <td>14.0</td>\n",
       "      <td>2.0</td>\n",
       "      <td>2.0</td>\n",
       "      <td>18.0</td>\n",
       "      <td>0.008963</td>\n",
       "      <td>0.580806</td>\n",
       "    </tr>\n",
       "    <tr>\n",
       "      <th>3</th>\n",
       "      <td>4</td>\n",
       "      <td>5</td>\n",
       "      <td>D1</td>\n",
       "      <td>S4</td>\n",
       "      <td>4799.0</td>\n",
       "      <td>1</td>\n",
       "      <td>580806.0</td>\n",
       "      <td>14.0</td>\n",
       "      <td>2.0</td>\n",
       "      <td>2.0</td>\n",
       "      <td>18.0</td>\n",
       "      <td>0.004799</td>\n",
       "      <td>0.580806</td>\n",
       "    </tr>\n",
       "    <tr>\n",
       "      <th>4</th>\n",
       "      <td>7</td>\n",
       "      <td>58</td>\n",
       "      <td>D9</td>\n",
       "      <td>S5</td>\n",
       "      <td>209211.0</td>\n",
       "      <td>14</td>\n",
       "      <td>1176781.0</td>\n",
       "      <td>21.0</td>\n",
       "      <td>7.0</td>\n",
       "      <td>3.0</td>\n",
       "      <td>32.0</td>\n",
       "      <td>0.209211</td>\n",
       "      <td>1.176781</td>\n",
       "    </tr>\n",
       "  </tbody>\n",
       "</table>\n",
       "</div>"
      ],
      "text/plain": [
       "   Unnamed: 0  kid_id mum_id dad_id  value_numeric  first_place  \\\n",
       "0           0       1     D1     S2       132570.0            8   \n",
       "1           2       3     D1     S3       631605.0           11   \n",
       "2           3       4     D1     S4         8963.0            1   \n",
       "3           4       5     D1     S4         4799.0            1   \n",
       "4           7      58     D9     S5       209211.0           14   \n",
       "\n",
       "   dad_value_numeric  dad_first_place  dad_second_place  dad_third_place  \\\n",
       "0           156410.0              9.0               1.0              0.0   \n",
       "1          1749869.0             43.0               8.0              5.0   \n",
       "2           580806.0             14.0               2.0              2.0   \n",
       "3           580806.0             14.0               2.0              2.0   \n",
       "4          1176781.0             21.0               7.0              3.0   \n",
       "\n",
       "   dad_num_of_starts  value_numeric_rescale  dad_value_numeric_rescale  \n",
       "0               10.0               0.132570                   0.156410  \n",
       "1               66.0               0.631605                   1.749869  \n",
       "2               18.0               0.008963                   0.580806  \n",
       "3               18.0               0.004799                   0.580806  \n",
       "4               32.0               0.209211                   1.176781  "
      ]
     },
     "execution_count": 4,
     "metadata": {},
     "output_type": "execute_result"
    }
   ],
   "source": [
    "# rescaling values\n",
    "for column in ['value_numeric', 'dad_value_numeric']:\n",
    "    new_col = column + '_rescale'\n",
    "    df[new_col] = df[column]/10**6\n",
    "df.head()"
   ]
  },
  {
   "attachments": {},
   "cell_type": "markdown",
   "metadata": {},
   "source": [
    "# histogram of data we want to predict"
   ]
  },
  {
   "cell_type": "code",
   "execution_count": 5,
   "metadata": {},
   "outputs": [
    {
     "data": {
      "image/png": "[encoded data removed]",
      "text/plain": [
       "<Figure size 720x360 with 1 Axes>"
      ]
     },
     "metadata": {
      "needs_background": "light"
     },
     "output_type": "display_data"
    }
   ],
   "source": [
    "# analysis of value: what we want to to predict\n",
    "fig, axs = plt.subplots(1,1, figsize=(10,5))\n",
    "graph = sns.histplot(data=df, x='value_numeric_rescale', bins=15, ax=axs, label='Observed', stat='density')\n",
    "graph.axvline(df.value_numeric_rescale.mean(), color='red', label='Mean')\n",
    "graph.legend()\n",
    "plt.show()"
   ]
  },
  {
   "attachments": {},
   "cell_type": "markdown",
   "metadata": {},
   "source": [
    "# histograms of data we want to predict from\n"
   ]
  },
  {
   "cell_type": "code",
   "execution_count": 6,
   "metadata": {},
   "outputs": [
    {
     "data": {
      "image/png": "[encoded data removed]",
      "text/plain": [
       "<Figure size 432x288 with 1 Axes>"
      ]
     },
     "metadata": {
      "needs_background": "light"
     },
     "output_type": "display_data"
    }
   ],
   "source": [
    "# histograms of data we want to predict from\n",
    "graph = sns.histplot(data=df_dads, x='dad_value_numeric_rescale', label='Observed', stat='density')\n",
    "graph.axvline(df_dads.dad_value_numeric_rescale.mean(), color='red', label='Mean')\n",
    "graph.legend()\n",
    "plt.show()"
   ]
  },
  {
   "cell_type": "code",
   "execution_count": 7,
   "metadata": {},
   "outputs": [
    {
     "data": {
      "image/png": "[encoded data removed]",
      "text/plain": [
       "<Figure size 1296x360 with 3 Axes>"
      ]
     },
     "metadata": {
      "needs_background": "light"
     },
     "output_type": "display_data"
    }
   ],
   "source": [
    "# places of dad\n",
    "fig, axs = plt.subplots(1,3, figsize=(18,5))\n",
    "graph = sns.histplot(data=df_dads, x='dad_first_place', label='Observed 1st place', ax=axs[0], stat='density')\n",
    "graph.axvline(df_dads.dad_first_place.mean(), color='red', label='Mean')\n",
    "graph.legend()\n",
    "\n",
    "graph = sns.histplot(data=df_dads, x='dad_second_place', label='Observed 2nd place', ax=axs[1], stat='density')\n",
    "graph.axvline(df_dads.dad_second_place.mean(), label='Mean', color='red')\n",
    "graph.legend()\n",
    "\n",
    "graph = sns.histplot(data=df_dads, x='dad_third_place', label='Observed 3rd place', ax=axs[2], stat='density')\n",
    "graph.axvline(df_dads.dad_third_place.mean(), label='Mean', color='red')\n",
    "graph.legend()\n",
    "plt.show()"
   ]
  },
  {
   "cell_type": "code",
   "execution_count": 8,
   "metadata": {},
   "outputs": [
    {
     "data": {
      "image/png": "[encoded data removed]",
      "text/plain": [
       "<Figure size 720x360 with 1 Axes>"
      ]
     },
     "metadata": {
      "needs_background": "light"
     },
     "output_type": "display_data"
    }
   ],
   "source": [
    "# nums of starts\n",
    "fig, axs = plt.subplots(1,1, figsize=(10,5))\n",
    "graph = sns.histplot(data=df_dads, x='dad_num_of_starts', label='Observed dad starts', ax=axs, bins=10, stat='density')\n",
    "graph.axvline(df_dads.dad_first_place.mean(), color='red', label='Mean')\n",
    "graph.legend()\n",
    "plt.show()\n"
   ]
  },
  {
   "attachments": {},
   "cell_type": "markdown",
   "metadata": {},
   "source": [
    "Assumed prior distributions:\n",
    "- `dad_num_of_starts` : lognormal\n",
    "- `dad_value_numeric_rescale` : exponential\n",
    "- `dad_first_place` : lognormal\n",
    "- `dad_second_place` : exponential\n",
    "- `dad_third_place` : expnoential"
   ]
  },
  {
   "cell_type": "code",
   "execution_count": 84,
   "metadata": {},
   "outputs": [],
   "source": [
    "def log_maker(mu,sigma):\n",
    "    log_mu = np.log((mu**2)/np.sqrt(mu**2 + sigma**2))    \n",
    "    log_sigma = np.sqrt(np.log(1+(sigma**2 )/(mu**2)))\n",
    "    return log_mu,log_sigma\n",
    "\n",
    "# calculating needed parameters for prior distributions\n",
    "# to use in stan models in a bit\n",
    "\n",
    "# dad_num_of_starts\n",
    "mu_dad_num_of_starts, sigma_dad_num_of_starts = log_maker(df_dads.dad_num_of_starts.mean(),df_dads.dad_num_of_starts.std())\n",
    "# mu_dad_num_of_starts = df_dads.dad_num_of_starts.mean()\n",
    "# sigma_dad_num_of_starts = df_dads.dad_num_of_starts.std()\n",
    "\n",
    "# dad_value_numeric_rescale\n",
    "lambda_dad_value_numeric_rescale = 1/df_dads.dad_value_numeric_rescale.mean()\n",
    "\n",
    "# dad_first_place\n",
    "mu_dad_first_place, sigma_dad_first_place = log_maker(df_dads.dad_first_place.mean(),df_dads.dad_first_place.std())\n",
    "# mu_dad_first_place = df_dads.dad_first_place.mean()\n",
    "# sigma_dad_first_place = df_dads.dad_first_place.std()\n",
    "\n",
    "# dad_second_place\n",
    "lambda_dad_second_place = 1/df_dads.dad_second_place.mean()\n",
    "\n",
    "# dad_third_place\n",
    "lambda_dad_third_place = 1/df_dads.dad_third_place.mean()\n",
    "\n"
   ]
  },
  {
   "attachments": {
    "image.png": {
     "image/png": "[encoded data removed]"
    }
   },
   "cell_type": "markdown",
   "metadata": {},
   "source": [
    "![image.png](attachment:image.png)"
   ]
  },
  {
   "cell_type": "code",
   "execution_count": 83,
   "metadata": {},
   "outputs": [],
   "source": [
    "def log_maker(mu,sigma):\n",
    "    log_mu = np.log((mu**2)/np.sqrt(mu**2 + sigma**2))    \n",
    "    log_sigma = np.sqrt(np.log(1+(sigma**2 )/(mu**2)))\n",
    "    return log_mu,log_sigma"
   ]
  },
  {
   "cell_type": "code",
   "execution_count": 13,
   "metadata": {},
   "outputs": [
    {
     "name": "stdout",
     "output_type": "stream",
     "text": [
      "data {\n",
      "    real mu_dad_num_of_starts;\n",
      "    real sigma_dad_num_of_starts;\n",
      "    real mu_dad_first_place;\n",
      "    real sigma_dad_first_place;\n",
      "    real lambda_dad_value_numeric_rescale;\n",
      "    real lambda_dad_second_place;\n",
      "    real lambda_dad_third_place;\n",
      "}\n",
      "\n",
      "generated quantities {\n",
      "    real<lower=0> first_place = lognormal_rng(mu_dad_first_place, sigma_dad_first_place); \n",
      "    real<lower=0> num_of_start= lognormal_rng(mu_dad_num_of_starts, sigma_dad_num_of_starts);\n",
      "    real<lower=0> value_numeric= exponential_rng(lambda_dad_value_numeric_rescale);\n",
      "    real<lower=0> second_place = exponential_rng(lambda_dad_second_place);\n",
      "    real<lower=0> third_place = exponential_rng(lambda_dad_third_place);\n",
      "    \n",
      "    real life_expectancy = exponential_rng(1/num_of_start);\n",
      "}\n"
     ]
    }
   ],
   "source": [
    "with open('models/distribution_check.stan') as file:\n",
    "    print(file.read())\n",
    "    file.close()"
   ]
  },
  {
   "cell_type": "code",
   "execution_count": 90,
   "metadata": {},
   "outputs": [
    {
     "name": "stderr",
     "output_type": "stream",
     "text": [
      "INFO:cmdstanpy:compiling stan file /home/racehorse_bayes_git/models/distribution_check.stan to exe file /home/racehorse_bayes_git/models/distribution_check\n",
      "INFO:cmdstanpy:compiled model executable: /home/racehorse_bayes_git/models/distribution_check\n"
     ]
    }
   ],
   "source": [
    "m_distribution_check=CmdStanModel(stan_file='models/distribution_check.stan')"
   ]
  },
  {
   "cell_type": "code",
   "execution_count": 91,
   "metadata": {},
   "outputs": [
    {
     "name": "stderr",
     "output_type": "stream",
     "text": [
      "INFO:cmdstanpy:CmdStan start processing\n",
      "chain 1 |\u001b[33m          \u001b[0m| 00:00 Status\n",
      "\u001b[A\n",
      "\n",
      "\u001b[A\u001b[A"
     ]
    },
    {
     "name": "stderr",
     "output_type": "stream",
     "text": [
      "\n",
      "chain 1 |\u001b[34m██████████\u001b[0m| 00:00 Sampling completed\n",
      "chain 2 |\u001b[34m██████████\u001b[0m| 00:00 Sampling completed\n",
      "chain 3 |\u001b[34m██████████\u001b[0m| 00:00 Sampling completed\n",
      "\n",
      "\n",
      "chain 4 |\u001b[33m██████████\u001b[0m| 00:00 Sampling completed"
     ]
    },
    {
     "name": "stdout",
     "output_type": "stream",
     "text": [
      "                                                                                                                                                                                                                                                                                                                                "
     ]
    },
    {
     "name": "stderr",
     "output_type": "stream",
     "text": [
      "\n",
      "INFO:cmdstanpy:CmdStan done processing.\n"
     ]
    },
    {
     "name": "stdout",
     "output_type": "stream",
     "text": [
      "\n"
     ]
    }
   ],
   "source": [
    "data = {\n",
    "        'mu_dad_num_of_starts': mu_dad_num_of_starts,\n",
    "        'sigma_dad_num_of_starts': sigma_dad_num_of_starts,\n",
    "        'mu_dad_first_place': mu_dad_first_place,\n",
    "        \n",
    "        \"sigma_dad_first_place\": sigma_dad_first_place,\n",
    "        \"lambda_dad_value_numeric_rescale\": lambda_dad_value_numeric_rescale,\n",
    "        \"lambda_dad_second_place\": lambda_dad_second_place,\n",
    "        \"lambda_dad_third_place\": lambda_dad_third_place,\n",
    "        \n",
    "}\n",
    "\n",
    "\n",
    "sim1_distribution_check=m_distribution_check.sample(data=data, seed=26062023)"
   ]
  },
  {
   "cell_type": "code",
   "execution_count": 96,
   "metadata": {},
   "outputs": [
    {
     "data": {
      "text/html": [
       "<div>\n",
       "<style scoped>\n",
       "    .dataframe tbody tr th:only-of-type {\n",
       "        vertical-align: middle;\n",
       "    }\n",
       "\n",
       "    .dataframe tbody tr th {\n",
       "        vertical-align: top;\n",
       "    }\n",
       "\n",
       "    .dataframe thead th {\n",
       "        text-align: right;\n",
       "    }\n",
       "</style>\n",
       "<table border=\"1\" class=\"dataframe\">\n",
       "  <thead>\n",
       "    <tr style=\"text-align: right;\">\n",
       "      <th></th>\n",
       "      <th>lp__</th>\n",
       "      <th>accept_stat__</th>\n",
       "      <th>first_place</th>\n",
       "      <th>num_of_start</th>\n",
       "      <th>value_numeric</th>\n",
       "      <th>second_place</th>\n",
       "      <th>third_place</th>\n",
       "      <th>kid_value</th>\n",
       "    </tr>\n",
       "  </thead>\n",
       "  <tbody>\n",
       "    <tr>\n",
       "      <th>0</th>\n",
       "      <td>0.0</td>\n",
       "      <td>0.0</td>\n",
       "      <td>10.68090</td>\n",
       "      <td>11.44380</td>\n",
       "      <td>0.098246</td>\n",
       "      <td>6.576850</td>\n",
       "      <td>2.449920</td>\n",
       "      <td>6.52996</td>\n",
       "    </tr>\n",
       "    <tr>\n",
       "      <th>1</th>\n",
       "      <td>0.0</td>\n",
       "      <td>0.0</td>\n",
       "      <td>10.45340</td>\n",
       "      <td>7.72026</td>\n",
       "      <td>0.522891</td>\n",
       "      <td>7.804130</td>\n",
       "      <td>5.788230</td>\n",
       "      <td>7.52794</td>\n",
       "    </tr>\n",
       "    <tr>\n",
       "      <th>2</th>\n",
       "      <td>0.0</td>\n",
       "      <td>0.0</td>\n",
       "      <td>10.79360</td>\n",
       "      <td>5.80172</td>\n",
       "      <td>0.216147</td>\n",
       "      <td>11.636500</td>\n",
       "      <td>7.014390</td>\n",
       "      <td>1.05798</td>\n",
       "    </tr>\n",
       "    <tr>\n",
       "      <th>3</th>\n",
       "      <td>0.0</td>\n",
       "      <td>0.0</td>\n",
       "      <td>5.20312</td>\n",
       "      <td>18.68280</td>\n",
       "      <td>0.616947</td>\n",
       "      <td>3.635910</td>\n",
       "      <td>4.872110</td>\n",
       "      <td>11.37120</td>\n",
       "    </tr>\n",
       "    <tr>\n",
       "      <th>4</th>\n",
       "      <td>0.0</td>\n",
       "      <td>0.0</td>\n",
       "      <td>5.92817</td>\n",
       "      <td>68.54260</td>\n",
       "      <td>0.175233</td>\n",
       "      <td>0.998682</td>\n",
       "      <td>0.527363</td>\n",
       "      <td>164.92900</td>\n",
       "    </tr>\n",
       "  </tbody>\n",
       "</table>\n",
       "</div>"
      ],
      "text/plain": [
       "   lp__  accept_stat__  first_place  num_of_start  value_numeric  \\\n",
       "0   0.0            0.0     10.68090      11.44380       0.098246   \n",
       "1   0.0            0.0     10.45340       7.72026       0.522891   \n",
       "2   0.0            0.0     10.79360       5.80172       0.216147   \n",
       "3   0.0            0.0      5.20312      18.68280       0.616947   \n",
       "4   0.0            0.0      5.92817      68.54260       0.175233   \n",
       "\n",
       "   second_place  third_place  kid_value  \n",
       "0      6.576850     2.449920    6.52996  \n",
       "1      7.804130     5.788230    7.52794  \n",
       "2     11.636500     7.014390    1.05798  \n",
       "3      3.635910     4.872110   11.37120  \n",
       "4      0.998682     0.527363  164.92900  "
      ]
     },
     "execution_count": 96,
     "metadata": {},
     "output_type": "execute_result"
    }
   ],
   "source": [
    "ppc_distribution_chceck = sim1_distribution_check.draws_pd()\n",
    "ppc_distribution_chceck.head()"
   ]
  },
  {
   "attachments": {
    "image.png": {
     "image/png": "[encoded data removed]"
    }
   },
   "cell_type": "markdown",
   "metadata": {},
   "source": [
    "![image.png](attachment:image.png)"
   ]
  },
  {
   "attachments": {},
   "cell_type": "markdown",
   "metadata": {},
   "source": []
  },
  {
   "cell_type": "code",
   "execution_count": 97,
   "metadata": {},
   "outputs": [
    {
     "data": {
      "image/png": "[encoded data removed]",
      "text/plain": [
       "<Figure size 1800x360 with 5 Axes>"
      ]
     },
     "metadata": {
      "needs_background": "light"
     },
     "output_type": "display_data"
    }
   ],
   "source": [
    "fig, axs = plt.subplots(1,5, figsize=(25,5))\n",
    "graph = sns.histplot(data=ppc_distribution_chceck[ppc_distribution_chceck['first_place']<100], x='first_place', label='Observed starts', ax=axs[0],bins=20,stat='density')\n",
    "\n",
    "# graph.axvline(df_dads.dad_first_place.mean(), color='red', label='Mean')\n",
    "\n",
    "graph = sns.histplot(data=ppc_distribution_chceck[ppc_distribution_chceck['num_of_start']<100], x='num_of_start', label='Observed starts', ax=axs[1],bins=10,stat='density')\n",
    "graph = sns.histplot(data=ppc_distribution_chceck[ppc_distribution_chceck['value_numeric']<100], x='value_numeric', label='value_numeric', ax=axs[2],bins=10,stat='density')\n",
    "graph = sns.histplot(data=ppc_distribution_chceck[ppc_distribution_chceck['second_place']<100], x='second_place', label='2nd', ax=axs[3],bins=10,stat='density')\n",
    "graph = sns.histplot(data=ppc_distribution_chceck[ppc_distribution_chceck['third_place']<100], x='third_place', label='3rd', ax=axs[4],bins=10,stat='density')\n",
    "\n",
    "graph.legend()\n",
    "plt.show()"
   ]
  },
  {
   "cell_type": "code",
   "execution_count": 99,
   "metadata": {},
   "outputs": [
    {
     "data": {
      "image/png": "[encoded data removed]",
      "text/plain": [
       "<Figure size 432x288 with 1 Axes>"
      ]
     },
     "metadata": {
      "needs_background": "light"
     },
     "output_type": "display_data"
    }
   ],
   "source": [
    "\n",
    "graph = sns.histplot(data=ppc_distribution_chceck, x='kid_value', label='Kid_value' ,bins=20,stat='density')"
   ]
  }
 ],
 "metadata": {
  "kernelspec": {
   "display_name": "michalmotyl",
   "language": "python",
   "name": "python3"
  },
  "language_info": {
   "codemirror_mode": {
    "name": "ipython",
    "version": 3
   },
   "file_extension": ".py",
   "mimetype": "text/x-python",
   "name": "python",
   "nbconvert_exporter": "python",
   "pygments_lexer": "ipython3",
   "version": "3.9.11"
  },
  "orig_nbformat": 4
 },
 "nbformat": 4,
 "nbformat_minor": 2
}
