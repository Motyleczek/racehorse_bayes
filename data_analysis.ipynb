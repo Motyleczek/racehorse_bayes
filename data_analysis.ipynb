{
 "cells": [
  {
   "cell_type": "markdown",
   "metadata": {},
   "source": [
    "# Data Analytics \n",
    "\n",
    "## Prediction of fullblooded horses' value basing on parent matching\n",
    "\n",
    "Authors: \n",
    "\n",
    "Michał Motyl\n",
    "Kamil Pieprzycki\n",
    "\n",
    "### Problem describtion\n",
    "cos tam cos tam\n",
    "\n"
   ]
  },
  {
   "cell_type": "code",
   "execution_count": 308,
   "metadata": {},
   "outputs": [
    {
     "data": {
      "image/png": "[encoded data removed]",
      "text/plain": [
       "<PIL.PngImagePlugin.PngImageFile image mode=RGBA size=721x561>"
      ]
     },
     "metadata": {},
     "output_type": "display_data"
    }
   ],
   "source": [
    "from PIL import Image\n",
    "image = Image.open(\"offspring.png\")\n",
    "display(image)"
   ]
  },
  {
   "cell_type": "code",
   "execution_count": 198,
   "metadata": {},
   "outputs": [
    {
     "name": "stdout",
     "output_type": "stream",
     "text": [
      "Installing CmdStan version: 2.32.2\n",
      "Install directory: /root/.cmdstan\n",
      "CmdStan version 2.32.2 already installed\n"
     ]
    },
    {
     "data": {
      "text/plain": [
       "True"
      ]
     },
     "execution_count": 198,
     "metadata": {},
     "output_type": "execute_result"
    }
   ],
   "source": [
    "import numpy as np\n",
    "import pandas as pd\n",
    "import seaborn as sns\n",
    "import matplotlib.pyplot as plt\n",
    "import scipy\n",
    "from cmdstanpy import CmdStanModel\n",
    "from cmdstanpy import install_cmdstan\n",
    " \n",
    "install_cmdstan()"
   ]
  },
  {
   "cell_type": "markdown",
   "metadata": {},
   "source": [
    "## Data preparation"
   ]
  },
  {
   "cell_type": "code",
   "execution_count": 199,
   "metadata": {},
   "outputs": [
    {
     "data": {
      "text/html": [
       "<div>\n",
       "<style scoped>\n",
       "    .dataframe tbody tr th:only-of-type {\n",
       "        vertical-align: middle;\n",
       "    }\n",
       "\n",
       "    .dataframe tbody tr th {\n",
       "        vertical-align: top;\n",
       "    }\n",
       "\n",
       "    .dataframe thead th {\n",
       "        text-align: right;\n",
       "    }\n",
       "</style>\n",
       "<table border=\"1\" class=\"dataframe\">\n",
       "  <thead>\n",
       "    <tr style=\"text-align: right;\">\n",
       "      <th></th>\n",
       "      <th>Unnamed: 0</th>\n",
       "      <th>kid_id</th>\n",
       "      <th>mum_id</th>\n",
       "      <th>dad_id</th>\n",
       "      <th>value_numeric</th>\n",
       "      <th>first_place</th>\n",
       "      <th>dad_value_numeric</th>\n",
       "      <th>dad_first_place</th>\n",
       "      <th>dad_second_place</th>\n",
       "      <th>dad_third_place</th>\n",
       "      <th>dad_num_of_starts</th>\n",
       "    </tr>\n",
       "  </thead>\n",
       "  <tbody>\n",
       "    <tr>\n",
       "      <th>0</th>\n",
       "      <td>0</td>\n",
       "      <td>1</td>\n",
       "      <td>D1</td>\n",
       "      <td>S2</td>\n",
       "      <td>132570.0</td>\n",
       "      <td>8</td>\n",
       "      <td>156410.0</td>\n",
       "      <td>9.0</td>\n",
       "      <td>1.0</td>\n",
       "      <td>0.0</td>\n",
       "      <td>10.0</td>\n",
       "    </tr>\n",
       "    <tr>\n",
       "      <th>1</th>\n",
       "      <td>2</td>\n",
       "      <td>3</td>\n",
       "      <td>D1</td>\n",
       "      <td>S3</td>\n",
       "      <td>631605.0</td>\n",
       "      <td>11</td>\n",
       "      <td>1749869.0</td>\n",
       "      <td>43.0</td>\n",
       "      <td>8.0</td>\n",
       "      <td>5.0</td>\n",
       "      <td>66.0</td>\n",
       "    </tr>\n",
       "    <tr>\n",
       "      <th>2</th>\n",
       "      <td>3</td>\n",
       "      <td>4</td>\n",
       "      <td>D1</td>\n",
       "      <td>S4</td>\n",
       "      <td>8963.0</td>\n",
       "      <td>1</td>\n",
       "      <td>580806.0</td>\n",
       "      <td>14.0</td>\n",
       "      <td>2.0</td>\n",
       "      <td>2.0</td>\n",
       "      <td>18.0</td>\n",
       "    </tr>\n",
       "    <tr>\n",
       "      <th>3</th>\n",
       "      <td>4</td>\n",
       "      <td>5</td>\n",
       "      <td>D1</td>\n",
       "      <td>S4</td>\n",
       "      <td>4799.0</td>\n",
       "      <td>1</td>\n",
       "      <td>580806.0</td>\n",
       "      <td>14.0</td>\n",
       "      <td>2.0</td>\n",
       "      <td>2.0</td>\n",
       "      <td>18.0</td>\n",
       "    </tr>\n",
       "    <tr>\n",
       "      <th>4</th>\n",
       "      <td>7</td>\n",
       "      <td>58</td>\n",
       "      <td>D9</td>\n",
       "      <td>S5</td>\n",
       "      <td>209211.0</td>\n",
       "      <td>14</td>\n",
       "      <td>1176781.0</td>\n",
       "      <td>21.0</td>\n",
       "      <td>7.0</td>\n",
       "      <td>3.0</td>\n",
       "      <td>32.0</td>\n",
       "    </tr>\n",
       "  </tbody>\n",
       "</table>\n",
       "</div>"
      ],
      "text/plain": [
       "   Unnamed: 0  kid_id mum_id dad_id  value_numeric  first_place  \\\n",
       "0           0       1     D1     S2       132570.0            8   \n",
       "1           2       3     D1     S3       631605.0           11   \n",
       "2           3       4     D1     S4         8963.0            1   \n",
       "3           4       5     D1     S4         4799.0            1   \n",
       "4           7      58     D9     S5       209211.0           14   \n",
       "\n",
       "   dad_value_numeric  dad_first_place  dad_second_place  dad_third_place  \\\n",
       "0           156410.0              9.0               1.0              0.0   \n",
       "1          1749869.0             43.0               8.0              5.0   \n",
       "2           580806.0             14.0               2.0              2.0   \n",
       "3           580806.0             14.0               2.0              2.0   \n",
       "4          1176781.0             21.0               7.0              3.0   \n",
       "\n",
       "   dad_num_of_starts  \n",
       "0               10.0  \n",
       "1               66.0  \n",
       "2               18.0  \n",
       "3               18.0  \n",
       "4               32.0  "
      ]
     },
     "execution_count": 199,
     "metadata": {},
     "output_type": "execute_result"
    }
   ],
   "source": [
    "# imports\n",
    "path_to_prep_mum = 'data/data_prepared/mums_prep.csv'\n",
    "path_to_prep_dad = 'data/data_prepared/dads_prep.csv'\n",
    "df_dads = pd.read_csv(path_to_prep_dad)\n",
    "df_dads['dad_value_numeric_rescale'] = df_dads.dad_value_numeric /10**6\n",
    "\n",
    "\n",
    "path_to_prepared_data = 'data/data_prepared/only_stalions_prepared.csv'\n",
    "df = pd.read_csv(path_to_prepared_data)\n",
    "df.head()"
   ]
  },
  {
   "cell_type": "code",
   "execution_count": 200,
   "metadata": {},
   "outputs": [
    {
     "name": "stdout",
     "output_type": "stream",
     "text": [
      "<class 'pandas.core.frame.DataFrame'>\n",
      "RangeIndex: 40 entries, 0 to 39\n",
      "Data columns (total 11 columns):\n",
      " #   Column             Non-Null Count  Dtype  \n",
      "---  ------             --------------  -----  \n",
      " 0   Unnamed: 0         40 non-null     int64  \n",
      " 1   kid_id             40 non-null     int64  \n",
      " 2   mum_id             40 non-null     object \n",
      " 3   dad_id             40 non-null     object \n",
      " 4   value_numeric      40 non-null     float64\n",
      " 5   first_place        40 non-null     int64  \n",
      " 6   dad_value_numeric  40 non-null     float64\n",
      " 7   dad_first_place    40 non-null     float64\n",
      " 8   dad_second_place   40 non-null     float64\n",
      " 9   dad_third_place    40 non-null     float64\n",
      " 10  dad_num_of_starts  40 non-null     float64\n",
      "dtypes: float64(6), int64(3), object(2)\n",
      "memory usage: 3.6+ KB\n"
     ]
    }
   ],
   "source": [
    "df.info()"
   ]
  },
  {
   "cell_type": "code",
   "execution_count": 201,
   "metadata": {},
   "outputs": [
    {
     "data": {
      "text/html": [
       "<div>\n",
       "<style scoped>\n",
       "    .dataframe tbody tr th:only-of-type {\n",
       "        vertical-align: middle;\n",
       "    }\n",
       "\n",
       "    .dataframe tbody tr th {\n",
       "        vertical-align: top;\n",
       "    }\n",
       "\n",
       "    .dataframe thead th {\n",
       "        text-align: right;\n",
       "    }\n",
       "</style>\n",
       "<table border=\"1\" class=\"dataframe\">\n",
       "  <thead>\n",
       "    <tr style=\"text-align: right;\">\n",
       "      <th></th>\n",
       "      <th>Unnamed: 0</th>\n",
       "      <th>kid_id</th>\n",
       "      <th>mum_id</th>\n",
       "      <th>dad_id</th>\n",
       "      <th>value_numeric</th>\n",
       "      <th>first_place</th>\n",
       "      <th>dad_value_numeric</th>\n",
       "      <th>dad_first_place</th>\n",
       "      <th>dad_second_place</th>\n",
       "      <th>dad_third_place</th>\n",
       "      <th>dad_num_of_starts</th>\n",
       "    </tr>\n",
       "  </thead>\n",
       "  <tbody>\n",
       "    <tr>\n",
       "      <th>0</th>\n",
       "      <td>0</td>\n",
       "      <td>1</td>\n",
       "      <td>D1</td>\n",
       "      <td>S2</td>\n",
       "      <td>0.097268</td>\n",
       "      <td>0.5000</td>\n",
       "      <td>0.089384</td>\n",
       "      <td>0.209302</td>\n",
       "      <td>0.111111</td>\n",
       "      <td>0.0</td>\n",
       "      <td>0.151515</td>\n",
       "    </tr>\n",
       "    <tr>\n",
       "      <th>1</th>\n",
       "      <td>2</td>\n",
       "      <td>3</td>\n",
       "      <td>D1</td>\n",
       "      <td>S3</td>\n",
       "      <td>0.469653</td>\n",
       "      <td>0.6875</td>\n",
       "      <td>1.000000</td>\n",
       "      <td>1.000000</td>\n",
       "      <td>0.888889</td>\n",
       "      <td>1.0</td>\n",
       "      <td>1.000000</td>\n",
       "    </tr>\n",
       "    <tr>\n",
       "      <th>2</th>\n",
       "      <td>3</td>\n",
       "      <td>4</td>\n",
       "      <td>D1</td>\n",
       "      <td>S4</td>\n",
       "      <td>0.005032</td>\n",
       "      <td>0.0625</td>\n",
       "      <td>0.331914</td>\n",
       "      <td>0.325581</td>\n",
       "      <td>0.222222</td>\n",
       "      <td>0.4</td>\n",
       "      <td>0.272727</td>\n",
       "    </tr>\n",
       "    <tr>\n",
       "      <th>3</th>\n",
       "      <td>4</td>\n",
       "      <td>5</td>\n",
       "      <td>D1</td>\n",
       "      <td>S4</td>\n",
       "      <td>0.001924</td>\n",
       "      <td>0.0625</td>\n",
       "      <td>0.331914</td>\n",
       "      <td>0.325581</td>\n",
       "      <td>0.222222</td>\n",
       "      <td>0.4</td>\n",
       "      <td>0.272727</td>\n",
       "    </tr>\n",
       "    <tr>\n",
       "      <th>4</th>\n",
       "      <td>7</td>\n",
       "      <td>58</td>\n",
       "      <td>D9</td>\n",
       "      <td>S5</td>\n",
       "      <td>0.154459</td>\n",
       "      <td>0.8750</td>\n",
       "      <td>0.672497</td>\n",
       "      <td>0.488372</td>\n",
       "      <td>0.777778</td>\n",
       "      <td>0.6</td>\n",
       "      <td>0.484848</td>\n",
       "    </tr>\n",
       "  </tbody>\n",
       "</table>\n",
       "</div>"
      ],
      "text/plain": [
       "   Unnamed: 0  kid_id mum_id dad_id  value_numeric  first_place  \\\n",
       "0           0       1     D1     S2       0.097268       0.5000   \n",
       "1           2       3     D1     S3       0.469653       0.6875   \n",
       "2           3       4     D1     S4       0.005032       0.0625   \n",
       "3           4       5     D1     S4       0.001924       0.0625   \n",
       "4           7      58     D9     S5       0.154459       0.8750   \n",
       "\n",
       "   dad_value_numeric  dad_first_place  dad_second_place  dad_third_place  \\\n",
       "0           0.089384         0.209302          0.111111              0.0   \n",
       "1           1.000000         1.000000          0.888889              1.0   \n",
       "2           0.331914         0.325581          0.222222              0.4   \n",
       "3           0.331914         0.325581          0.222222              0.4   \n",
       "4           0.672497         0.488372          0.777778              0.6   \n",
       "\n",
       "   dad_num_of_starts  \n",
       "0           0.151515  \n",
       "1           1.000000  \n",
       "2           0.272727  \n",
       "3           0.272727  \n",
       "4           0.484848  "
      ]
     },
     "execution_count": 201,
     "metadata": {},
     "output_type": "execute_result"
    }
   ],
   "source": [
    "# rescaling values\n",
    "df_copy = df.copy()\n",
    "# for column in ['value_numeric', 'dad_value_numeric']:\n",
    "#     new_col = column + '_rescale'\n",
    "#     df_copy[new_col] = df[column]/10**6\n",
    "\n",
    "columns_to_rescale = ['first_place', 'dad_first_place', 'dad_second_place', 'dad_third_place', 'value_numeric', 'dad_value_numeric', 'dad_num_of_starts']\n",
    "df_copy[columns_to_rescale] -= df[columns_to_rescale].min()\n",
    "df_copy[columns_to_rescale] /= df[columns_to_rescale].max()\n",
    "df_copy.head()"
   ]
  },
  {
   "cell_type": "code",
   "execution_count": null,
   "metadata": {},
   "outputs": [],
   "source": []
  },
  {
   "attachments": {},
   "cell_type": "markdown",
   "metadata": {},
   "source": [
    "## histogram of data we want to predict"
   ]
  },
  {
   "cell_type": "code",
   "execution_count": 202,
   "metadata": {},
   "outputs": [
    {
     "data": {
      "image/png": "[encoded data removed]",
      "text/plain": [
       "<Figure size 720x360 with 1 Axes>"
      ]
     },
     "metadata": {
      "needs_background": "light"
     },
     "output_type": "display_data"
    },
    {
     "name": "stdout",
     "output_type": "stream",
     "text": [
      "0.19465777732673586\n",
      "0.2612924559240941\n"
     ]
    }
   ],
   "source": [
    "# analysis of value: what we want to to predict\n",
    "fig, axs = plt.subplots(1,1, figsize=(10,5))\n",
    "graph = sns.histplot(data=df_copy, x='value_numeric', bins=25, ax=axs, label='Observed',stat='density')\n",
    "graph.axvline(df_copy.value_numeric.mean(), color='red', label='Mean')\n",
    "graph.legend()\n",
    "plt.show()\n",
    "print(df_copy.value_numeric.mean())\n",
    "print(df_copy.value_numeric.std())"
   ]
  },
  {
   "cell_type": "markdown",
   "metadata": {},
   "source": [
    "Calculting values for later basic ppc stan model"
   ]
  },
  {
   "cell_type": "code",
   "execution_count": 203,
   "metadata": {},
   "outputs": [],
   "source": [
    "# mu_basic = log_maker(df_copy.value_numeric.mean(),df_copy.value_numeric.std())\n",
    "# print(mu_basic)"
   ]
  },
  {
   "attachments": {},
   "cell_type": "markdown",
   "metadata": {},
   "source": [
    "## histograms of data we want to predict from\n"
   ]
  },
  {
   "cell_type": "code",
   "execution_count": 204,
   "metadata": {},
   "outputs": [
    {
     "data": {
      "image/png": "[encoded data removed]",
      "text/plain": [
       "<Figure size 432x288 with 1 Axes>"
      ]
     },
     "metadata": {
      "needs_background": "light"
     },
     "output_type": "display_data"
    }
   ],
   "source": [
    "# histograms of data we want to predict from\n",
    "graph = sns.histplot(data=df_dads, x='dad_value_numeric', label='Observed', stat='density')\n",
    "graph.axvline(df_dads.dad_value_numeric.mean(), color='red', label='Mean')\n",
    "graph.legend()\n",
    "plt.show()"
   ]
  },
  {
   "cell_type": "code",
   "execution_count": 205,
   "metadata": {},
   "outputs": [
    {
     "data": {
      "image/png": "[encoded data removed]",
      "text/plain": [
       "<Figure size 1296x360 with 3 Axes>"
      ]
     },
     "metadata": {
      "needs_background": "light"
     },
     "output_type": "display_data"
    }
   ],
   "source": [
    "# places of dad\n",
    "fig, axs = plt.subplots(1,3, figsize=(18,5))\n",
    "graph = sns.histplot(data=df_dads, x='dad_first_place', label='Observed 1st place', ax=axs[0], stat='density')\n",
    "graph.axvline(df_dads.dad_first_place.mean(), color='red', label='Mean')\n",
    "graph.legend()\n",
    "\n",
    "graph = sns.histplot(data=df_dads, x='dad_second_place', label='Observed 2nd place', ax=axs[1], stat='density')\n",
    "graph.axvline(df_dads.dad_second_place.mean(), label='Mean', color='red')\n",
    "graph.legend()\n",
    "\n",
    "graph = sns.histplot(data=df_dads, x='dad_third_place', label='Observed 3rd place', ax=axs[2], stat='density')\n",
    "graph.axvline(df_dads.dad_third_place.mean(), label='Mean', color='red')\n",
    "graph.legend()\n",
    "plt.show()"
   ]
  },
  {
   "cell_type": "code",
   "execution_count": 206,
   "metadata": {},
   "outputs": [
    {
     "data": {
      "image/png": "[encoded data removed]",
      "text/plain": [
       "<Figure size 720x360 with 1 Axes>"
      ]
     },
     "metadata": {
      "needs_background": "light"
     },
     "output_type": "display_data"
    }
   ],
   "source": [
    "# nums of starts\n",
    "fig, axs = plt.subplots(1,1, figsize=(10,5))\n",
    "graph = sns.histplot(data=df_dads, x='dad_num_of_starts', label='Observed dad starts', ax=axs, bins=10, stat='density')\n",
    "graph.axvline(df_dads.dad_first_place.mean(), color='red', label='Mean')\n",
    "graph.legend()\n",
    "plt.show()\n"
   ]
  },
  {
   "attachments": {},
   "cell_type": "markdown",
   "metadata": {},
   "source": [
    "Assumed prior distributions:\n",
    "- `dad_num_of_starts` : lognormal\n",
    "- `dad_value_numeric_rescale` : exponential\n",
    "- `dad_first_place` : lognormal\n",
    "- `dad_second_place` : exponential\n",
    "- `dad_third_place` : expnoential"
   ]
  },
  {
   "cell_type": "code",
   "execution_count": 207,
   "metadata": {},
   "outputs": [
    {
     "name": "stdout",
     "output_type": "stream",
     "text": [
      "{'mu_dad_num_of_starts': -1.481740170128063, 'sigma_dad_num_of_starts': 0.7122777747804101, 'mu_dad_first_place': -1.4063011487708954, 'sigma_dad_first_place': 0.5909855553824085, 'lambda_dad_value_numeric_rescale': 2.370540413791375, 'lambda_dad_second_place': 3.5999999999999996, 'lambda_dad_third_place': 6.102564102564102}\n"
     ]
    }
   ],
   "source": [
    "def log_maker(mu,sigma):\n",
    "    log_mu = np.log((mu**2)/np.sqrt(mu**2 + sigma**2))    \n",
    "    log_sigma = np.sqrt(np.log(1+(sigma**2 )/(mu**2)))\n",
    "    return log_mu,log_sigma\n",
    "\n",
    "# calculating needed parameters for prior distributions\n",
    "# to use in stan models in a bit\n",
    "\n",
    "# rescaling df_dads before calculations\n",
    "columns_to_rescale = ['dad_first_place', 'dad_second_place', 'dad_third_place', 'dad_value_numeric', 'dad_num_of_starts']\n",
    "df_dads_copy = df_dads.copy()\n",
    "df_dads_copy[columns_to_rescale] -= df_dads_copy[columns_to_rescale].min()\n",
    "df_dads_copy[columns_to_rescale] /= df_dads_copy[columns_to_rescale].max()\n",
    "\n",
    "# dad_num_of_starts\n",
    "mu_dad_num_of_starts, sigma_dad_num_of_starts = log_maker(df_dads_copy.dad_num_of_starts.mean(),df_dads_copy.dad_num_of_starts.std())\n",
    "# mu_dad_num_of_starts = df_dads.dad_num_of_starts.mean()\n",
    "# sigma_dad_num_of_starts = df_dads.dad_num_of_starts.std()\n",
    "\n",
    "# dad_value_numeric_rescale\n",
    "lambda_dad_value_numeric_rescale = 1/df_dads_copy.dad_value_numeric_rescale.mean()\n",
    "\n",
    "# dad_first_place\n",
    "mu_dad_first_place, sigma_dad_first_place = log_maker(df_dads_copy.dad_first_place.mean(),df_dads_copy.dad_first_place.std())\n",
    "# mu_dad_first_place = df_dads.dad_first_place.mean()\n",
    "# sigma_dad_first_place = df_dads.dad_first_place.std()\n",
    "\n",
    "# dad_second_place\n",
    "lambda_dad_second_place = 1/df_dads_copy.dad_second_place.mean()\n",
    "\n",
    "# dad_third_place\n",
    "lambda_dad_third_place = 1/df_dads_copy.dad_third_place.mean()\n",
    "\n",
    "data = {\n",
    "        'mu_dad_num_of_starts': mu_dad_num_of_starts,\n",
    "        'sigma_dad_num_of_starts': sigma_dad_num_of_starts,\n",
    "        'mu_dad_first_place': mu_dad_first_place,\n",
    "        \"sigma_dad_first_place\": sigma_dad_first_place,\n",
    "        \"lambda_dad_value_numeric_rescale\": lambda_dad_value_numeric_rescale,\n",
    "        \"lambda_dad_second_place\": lambda_dad_second_place,\n",
    "        \"lambda_dad_third_place\": lambda_dad_third_place,        \n",
    "}\n",
    "\n",
    "print(data)\n"
   ]
  },
  {
   "attachments": {
    "image.png": {
     "image/png": "[encoded data removed]"
    }
   },
   "cell_type": "markdown",
   "metadata": {},
   "source": [
    "![image.png](attachment:image.png)"
   ]
  },
  {
   "cell_type": "code",
   "execution_count": 209,
   "metadata": {},
   "outputs": [
    {
     "name": "stdout",
     "output_type": "stream",
     "text": [
      "data {\n",
      "    real mu_dad_num_of_starts;\n",
      "    real sigma_dad_num_of_starts;\n",
      "    real mu_dad_first_place;\n",
      "    real sigma_dad_first_place;\n",
      "    real lambda_dad_value_numeric_rescale;\n",
      "    real lambda_dad_second_place;\n",
      "    real lambda_dad_third_place;\n",
      "}\n",
      "\n",
      "generated quantities {\n",
      "    real<lower=0> first_place = lognormal_rng(mu_dad_first_place, sigma_dad_first_place); \n",
      "    real<lower=0> num_of_start= lognormal_rng(mu_dad_num_of_starts, sigma_dad_num_of_starts);\n",
      "    real<lower=0> value_numeric= exponential_rng(lambda_dad_value_numeric_rescale);\n",
      "    real<lower=0> second_place = exponential_rng(lambda_dad_second_place);\n",
      "    real<lower=0> third_place = exponential_rng(lambda_dad_third_place);\n",
      "    \n",
      "    real kid_value = exponential_rng(1/num_of_start);\n",
      "}\n",
      "\n",
      "// data {\n",
      "//     real mu_dad_num_of_starts;\n",
      "//     real sigma_dad_num_of_starts;\n",
      "//     real mu_dad_first_place;\n",
      "//     real sigma_dad_first_place;\n",
      "//     real lambda_dad_value_numeric_rescale;\n",
      "//     real lambda_dad_second_place;\n",
      "//     real lambda_dad_third_place;\n",
      "// }\n",
      "\n",
      "// generated quantities {\n",
      "//     real<lower=0> first_place = fmin(100, lognormal_rng(mu_dad_first_place, sigma_dad_first_place)); \n",
      "//     real<lower=0> num_of_start = fmin(100, lognormal_rng(mu_dad_num_of_starts, sigma_dad_num_of_starts));\n",
      "//     real<lower=0> value_numeric = fmin(100, exponential_rng(lambda_dad_value_numeric_rescale));\n",
      "//     real<lower=0> second_place = fmin(100, exponential_rng(lambda_dad_second_place));\n",
      "//     real<lower=0> third_place = fmin(100, exponential_rng(lambda_dad_third_place));\n",
      "    \n",
      "//     real life_expectancy = exponential_rng(1 / num_of_start);\n",
      "// }\n"
     ]
    }
   ],
   "source": [
    "with open('models/distribution_check.stan') as file:\n",
    "    print(file.read())\n",
    "    file.close()"
   ]
  },
  {
   "cell_type": "markdown",
   "metadata": {},
   "source": [
    "## Checking distribution model for data simulation"
   ]
  },
  {
   "cell_type": "code",
   "execution_count": 210,
   "metadata": {},
   "outputs": [
    {
     "name": "stderr",
     "output_type": "stream",
     "text": [
      "INFO:cmdstanpy:found newer exe file, not recompiling\n"
     ]
    }
   ],
   "source": [
    "m_distribution_check=CmdStanModel(stan_file='models/distribution_check.stan')"
   ]
  },
  {
   "cell_type": "code",
   "execution_count": 211,
   "metadata": {},
   "outputs": [
    {
     "name": "stderr",
     "output_type": "stream",
     "text": [
      "INFO:cmdstanpy:CmdStan start processing\n",
      "chain 1 |\u001b[33m          \u001b[0m| 00:00 Status\n",
      "\u001b[A\n",
      "\n",
      "\u001b[A\u001b[A"
     ]
    },
    {
     "name": "stderr",
     "output_type": "stream",
     "text": [
      "\n",
      "\n",
      "chain 1 |\u001b[33m██████████\u001b[0m| 00:00 Sampling completed\n",
      "chain 2 |\u001b[34m██████████\u001b[0m| 00:00 Sampling completed\n",
      "\n",
      "chain 3 |\u001b[33m██████████\u001b[0m| 00:00 Sampling completed\n",
      "chain 4 |\u001b[34m██████████\u001b[0m| 00:00 Sampling completed\n"
     ]
    },
    {
     "name": "stdout",
     "output_type": "stream",
     "text": [
      "                                                                                                                                                                                                                                                                                                                                "
     ]
    },
    {
     "name": "stderr",
     "output_type": "stream",
     "text": [
      "INFO:cmdstanpy:CmdStan done processing.\n"
     ]
    },
    {
     "name": "stdout",
     "output_type": "stream",
     "text": [
      "\n"
     ]
    }
   ],
   "source": [
    "data = {\n",
    "        'mu_dad_num_of_starts': mu_dad_num_of_starts,\n",
    "        'sigma_dad_num_of_starts': sigma_dad_num_of_starts,\n",
    "        'mu_dad_first_place': mu_dad_first_place,\n",
    "        \n",
    "        \"sigma_dad_first_place\": sigma_dad_first_place,\n",
    "        \"lambda_dad_value_numeric_rescale\": lambda_dad_value_numeric_rescale,\n",
    "        \"lambda_dad_second_place\": lambda_dad_second_place,\n",
    "        \"lambda_dad_third_place\": lambda_dad_third_place,\n",
    "        \n",
    "}\n",
    "\n",
    "\n",
    "sim1_distribution_check=m_distribution_check.sample(data=data, seed=26062023)"
   ]
  },
  {
   "cell_type": "code",
   "execution_count": 212,
   "metadata": {},
   "outputs": [
    {
     "data": {
      "text/html": [
       "<div>\n",
       "<style scoped>\n",
       "    .dataframe tbody tr th:only-of-type {\n",
       "        vertical-align: middle;\n",
       "    }\n",
       "\n",
       "    .dataframe tbody tr th {\n",
       "        vertical-align: top;\n",
       "    }\n",
       "\n",
       "    .dataframe thead th {\n",
       "        text-align: right;\n",
       "    }\n",
       "</style>\n",
       "<table border=\"1\" class=\"dataframe\">\n",
       "  <thead>\n",
       "    <tr style=\"text-align: right;\">\n",
       "      <th></th>\n",
       "      <th>lp__</th>\n",
       "      <th>accept_stat__</th>\n",
       "      <th>first_place</th>\n",
       "      <th>num_of_start</th>\n",
       "      <th>value_numeric</th>\n",
       "      <th>second_place</th>\n",
       "      <th>third_place</th>\n",
       "      <th>kid_value</th>\n",
       "    </tr>\n",
       "  </thead>\n",
       "  <tbody>\n",
       "    <tr>\n",
       "      <th>0</th>\n",
       "      <td>0.0</td>\n",
       "      <td>0.0</td>\n",
       "      <td>0.248393</td>\n",
       "      <td>0.114438</td>\n",
       "      <td>0.098246</td>\n",
       "      <td>0.365381</td>\n",
       "      <td>0.144113</td>\n",
       "      <td>0.065300</td>\n",
       "    </tr>\n",
       "    <tr>\n",
       "      <th>1</th>\n",
       "      <td>0.0</td>\n",
       "      <td>0.0</td>\n",
       "      <td>0.243103</td>\n",
       "      <td>0.077203</td>\n",
       "      <td>0.522891</td>\n",
       "      <td>0.433563</td>\n",
       "      <td>0.340484</td>\n",
       "      <td>0.075279</td>\n",
       "    </tr>\n",
       "    <tr>\n",
       "      <th>2</th>\n",
       "      <td>0.0</td>\n",
       "      <td>0.0</td>\n",
       "      <td>0.251015</td>\n",
       "      <td>0.058017</td>\n",
       "      <td>0.216147</td>\n",
       "      <td>0.646471</td>\n",
       "      <td>0.412611</td>\n",
       "      <td>0.010580</td>\n",
       "    </tr>\n",
       "    <tr>\n",
       "      <th>3</th>\n",
       "      <td>0.0</td>\n",
       "      <td>0.0</td>\n",
       "      <td>0.121003</td>\n",
       "      <td>0.186828</td>\n",
       "      <td>0.616947</td>\n",
       "      <td>0.201995</td>\n",
       "      <td>0.286595</td>\n",
       "      <td>0.113712</td>\n",
       "    </tr>\n",
       "    <tr>\n",
       "      <th>4</th>\n",
       "      <td>0.0</td>\n",
       "      <td>0.0</td>\n",
       "      <td>0.137864</td>\n",
       "      <td>0.685426</td>\n",
       "      <td>0.175233</td>\n",
       "      <td>0.055482</td>\n",
       "      <td>0.031021</td>\n",
       "      <td>1.649290</td>\n",
       "    </tr>\n",
       "  </tbody>\n",
       "</table>\n",
       "</div>"
      ],
      "text/plain": [
       "   lp__  accept_stat__  first_place  num_of_start  value_numeric  \\\n",
       "0   0.0            0.0     0.248393      0.114438       0.098246   \n",
       "1   0.0            0.0     0.243103      0.077203       0.522891   \n",
       "2   0.0            0.0     0.251015      0.058017       0.216147   \n",
       "3   0.0            0.0     0.121003      0.186828       0.616947   \n",
       "4   0.0            0.0     0.137864      0.685426       0.175233   \n",
       "\n",
       "   second_place  third_place  kid_value  \n",
       "0      0.365381     0.144113   0.065300  \n",
       "1      0.433563     0.340484   0.075279  \n",
       "2      0.646471     0.412611   0.010580  \n",
       "3      0.201995     0.286595   0.113712  \n",
       "4      0.055482     0.031021   1.649290  "
      ]
     },
     "execution_count": 212,
     "metadata": {},
     "output_type": "execute_result"
    }
   ],
   "source": [
    "ppc_distribution_chceck = sim1_distribution_check.draws_pd()\n",
    "ppc_distribution_chceck.head()\n"
   ]
  },
  {
   "attachments": {
    "image.png": {
     "image/png": "[encoded data removed]"
    }
   },
   "cell_type": "markdown",
   "metadata": {},
   "source": [
    "![image.png](attachment:image.png)"
   ]
  },
  {
   "attachments": {},
   "cell_type": "markdown",
   "metadata": {},
   "source": []
  },
  {
   "cell_type": "code",
   "execution_count": 213,
   "metadata": {},
   "outputs": [
    {
     "data": {
      "image/png": "[encoded data removed]",
      "text/plain": [
       "<Figure size 1800x360 with 5 Axes>"
      ]
     },
     "metadata": {
      "needs_background": "light"
     },
     "output_type": "display_data"
    }
   ],
   "source": [
    "fig, axs = plt.subplots(1,5, figsize=(25,5))\n",
    "graph = sns.histplot(data=ppc_distribution_chceck[ppc_distribution_chceck['first_place']<100], x='first_place', label='Observed starts', ax=axs[0],bins=20,stat='density')\n",
    "\n",
    "# graph.axvline(df_dads.dad_first_place.mean(), color='red', label='Mean')\n",
    "\n",
    "graph = sns.histplot(data=ppc_distribution_chceck[ppc_distribution_chceck['num_of_start']<100], x='num_of_start', label='Observed starts', ax=axs[1],bins=20,stat='density')\n",
    "graph = sns.histplot(data=ppc_distribution_chceck[ppc_distribution_chceck['value_numeric']<100], x='value_numeric', label='value_numeric', ax=axs[2],bins=20,stat='density')\n",
    "graph = sns.histplot(data=ppc_distribution_chceck[ppc_distribution_chceck['second_place']<100], x='second_place', label='2nd', ax=axs[3],bins=20,stat='density')\n",
    "graph = sns.histplot(data=ppc_distribution_chceck[ppc_distribution_chceck['third_place']<100], x='third_place', label='3rd', ax=axs[4],bins=20,stat='density')\n",
    "\n",
    "graph.legend()\n",
    "plt.show()"
   ]
  },
  {
   "cell_type": "code",
   "execution_count": 214,
   "metadata": {},
   "outputs": [
    {
     "data": {
      "image/png": "[encoded data removed]",
      "text/plain": [
       "<Figure size 432x288 with 1 Axes>"
      ]
     },
     "metadata": {
      "needs_background": "light"
     },
     "output_type": "display_data"
    }
   ],
   "source": [
    "\n",
    "graph = sns.histplot(data=ppc_distribution_chceck, x='kid_value', label='Kid_value' ,bins=20 ,stat='density')"
   ]
  },
  {
   "cell_type": "markdown",
   "metadata": {},
   "source": [
    "# Model 1 describtion \n",
    "1. The exponential distribution was chosen as the first model for predicting offspring values, as it was deemed the most suitable for our case.\n",
    "2. The chosen distribution is suitable because the majority of horses being sold are priced lower, as it is an auction market and we do not assume any upper limits. Moreover, it should be noted that cases of expensive horses are very rare.\n",
    "3. spośród wszystkich zmiennych poprzez eksplorację danych zawężono zbiór danych wejściowych do 5 zmiennych:\n",
    "    - `dad_num_of_starts` - opisy\n",
    "    - `dad_value_numeric_rescale`\n",
    "    - `dad_first_place`\n",
    "    - `dad_second_place`\n",
    "    - `dad_third_place`\n",
    "\n",
    "wzorki \n",
    "$$ output_{value} \\sim Exponetial(\\lambda) $$\n",
    "\n",
    "$$ \\lambda = predictor_i \\cdot \\beta + \\alpha_0$$\n",
    "\n",
    "Where: \n",
    "\n",
    "- delta cos tam - \n",
    "- lambda cos tam - \n",
    "- beta - \n",
    "\n"
   ]
  },
  {
   "cell_type": "markdown",
   "metadata": {},
   "source": [
    "# Pior Predictive check - Model 1"
   ]
  },
  {
   "cell_type": "code",
   "execution_count": 257,
   "metadata": {},
   "outputs": [
    {
     "name": "stderr",
     "output_type": "stream",
     "text": [
      "INFO:cmdstanpy:compiling stan file /home/racehorse_bayes/models/model_basic.stan to exe file /home/racehorse_bayes/models/model_basic\n"
     ]
    },
    {
     "name": "stderr",
     "output_type": "stream",
     "text": [
      "INFO:cmdstanpy:compiled model executable: /home/racehorse_bayes/models/model_basic\n"
     ]
    }
   ],
   "source": [
    "model_basic=CmdStanModel(stan_file='models/model_basic.stan')"
   ]
  },
  {
   "cell_type": "code",
   "execution_count": 258,
   "metadata": {},
   "outputs": [
    {
     "name": "stderr",
     "output_type": "stream",
     "text": [
      "INFO:cmdstanpy:CmdStan start processing\n",
      "chain 1 |\u001b[33m          \u001b[0m| 00:00 Status"
     ]
    },
    {
     "name": "stderr",
     "output_type": "stream",
     "text": [
      "chain 1 |\u001b[34m██████████\u001b[0m| 00:00 Sampling completed"
     ]
    },
    {
     "name": "stdout",
     "output_type": "stream",
     "text": [
      "                                                                                "
     ]
    },
    {
     "name": "stderr",
     "output_type": "stream",
     "text": [
      "\n",
      "INFO:cmdstanpy:CmdStan done processing.\n"
     ]
    },
    {
     "name": "stdout",
     "output_type": "stream",
     "text": [
      "\n"
     ]
    }
   ],
   "source": [
    "R = 1000\n",
    "sim_model_basic=model_basic.sample(iter_sampling=R,\n",
    "                     iter_warmup=50,\n",
    "                     chains=1,\n",
    "                     fixed_param=True,\n",
    "                     refresh=R)"
   ]
  },
  {
   "cell_type": "code",
   "execution_count": 259,
   "metadata": {},
   "outputs": [
    {
     "data": {
      "text/html": [
       "<div>\n",
       "<style scoped>\n",
       "    .dataframe tbody tr th:only-of-type {\n",
       "        vertical-align: middle;\n",
       "    }\n",
       "\n",
       "    .dataframe tbody tr th {\n",
       "        vertical-align: top;\n",
       "    }\n",
       "\n",
       "    .dataframe thead th {\n",
       "        text-align: right;\n",
       "    }\n",
       "</style>\n",
       "<table border=\"1\" class=\"dataframe\">\n",
       "  <thead>\n",
       "    <tr style=\"text-align: right;\">\n",
       "      <th></th>\n",
       "      <th>lp__</th>\n",
       "      <th>accept_stat__</th>\n",
       "      <th>value</th>\n",
       "      <th>num_of_starts</th>\n",
       "      <th>first_place</th>\n",
       "      <th>second_place</th>\n",
       "      <th>third_place</th>\n",
       "      <th>a0</th>\n",
       "      <th>a1</th>\n",
       "      <th>value_coeff</th>\n",
       "      <th>num_of_starts_coeff</th>\n",
       "      <th>first_place_coeff</th>\n",
       "      <th>second_place_coeff</th>\n",
       "      <th>third_place_coeff</th>\n",
       "      <th>mu</th>\n",
       "      <th>kid_value</th>\n",
       "    </tr>\n",
       "  </thead>\n",
       "  <tbody>\n",
       "    <tr>\n",
       "      <th>0</th>\n",
       "      <td>0.0</td>\n",
       "      <td>0.0</td>\n",
       "      <td>0.307023</td>\n",
       "      <td>0.263037</td>\n",
       "      <td>0.151405</td>\n",
       "      <td>0.032521</td>\n",
       "      <td>0.252687</td>\n",
       "      <td>0.188055</td>\n",
       "      <td>0.122240</td>\n",
       "      <td>0.188538</td>\n",
       "      <td>0.370619</td>\n",
       "      <td>0.297014</td>\n",
       "      <td>0.304611</td>\n",
       "      <td>0.310140</td>\n",
       "      <td>0.177221</td>\n",
       "      <td>0.077850</td>\n",
       "    </tr>\n",
       "    <tr>\n",
       "      <th>1</th>\n",
       "      <td>0.0</td>\n",
       "      <td>0.0</td>\n",
       "      <td>0.747699</td>\n",
       "      <td>0.105538</td>\n",
       "      <td>0.203142</td>\n",
       "      <td>0.462405</td>\n",
       "      <td>0.000384</td>\n",
       "      <td>0.179139</td>\n",
       "      <td>0.556429</td>\n",
       "      <td>0.183213</td>\n",
       "      <td>0.417643</td>\n",
       "      <td>0.299526</td>\n",
       "      <td>0.300714</td>\n",
       "      <td>0.298474</td>\n",
       "      <td>0.001899</td>\n",
       "      <td>0.004002</td>\n",
       "    </tr>\n",
       "    <tr>\n",
       "      <th>2</th>\n",
       "      <td>0.0</td>\n",
       "      <td>0.0</td>\n",
       "      <td>0.127989</td>\n",
       "      <td>0.147718</td>\n",
       "      <td>0.630938</td>\n",
       "      <td>0.124006</td>\n",
       "      <td>0.170623</td>\n",
       "      <td>0.155534</td>\n",
       "      <td>0.504470</td>\n",
       "      <td>0.200646</td>\n",
       "      <td>0.410766</td>\n",
       "      <td>0.304463</td>\n",
       "      <td>0.303523</td>\n",
       "      <td>0.300226</td>\n",
       "      <td>0.009197</td>\n",
       "      <td>0.019272</td>\n",
       "    </tr>\n",
       "    <tr>\n",
       "      <th>3</th>\n",
       "      <td>0.0</td>\n",
       "      <td>0.0</td>\n",
       "      <td>0.305705</td>\n",
       "      <td>0.210601</td>\n",
       "      <td>0.065424</td>\n",
       "      <td>0.457069</td>\n",
       "      <td>0.033712</td>\n",
       "      <td>0.097977</td>\n",
       "      <td>0.283625</td>\n",
       "      <td>0.208070</td>\n",
       "      <td>0.387878</td>\n",
       "      <td>0.304113</td>\n",
       "      <td>0.293847</td>\n",
       "      <td>0.305026</td>\n",
       "      <td>0.062073</td>\n",
       "      <td>0.002074</td>\n",
       "    </tr>\n",
       "    <tr>\n",
       "      <th>4</th>\n",
       "      <td>0.0</td>\n",
       "      <td>0.0</td>\n",
       "      <td>0.287080</td>\n",
       "      <td>0.281398</td>\n",
       "      <td>0.150766</td>\n",
       "      <td>0.395480</td>\n",
       "      <td>0.339505</td>\n",
       "      <td>0.267896</td>\n",
       "      <td>0.183689</td>\n",
       "      <td>0.179052</td>\n",
       "      <td>0.410339</td>\n",
       "      <td>0.299525</td>\n",
       "      <td>0.303334</td>\n",
       "      <td>0.269091</td>\n",
       "      <td>0.253783</td>\n",
       "      <td>0.264989</td>\n",
       "    </tr>\n",
       "  </tbody>\n",
       "</table>\n",
       "</div>"
      ],
      "text/plain": [
       "   lp__  accept_stat__     value  num_of_starts  first_place  second_place  \\\n",
       "0   0.0            0.0  0.307023       0.263037     0.151405      0.032521   \n",
       "1   0.0            0.0  0.747699       0.105538     0.203142      0.462405   \n",
       "2   0.0            0.0  0.127989       0.147718     0.630938      0.124006   \n",
       "3   0.0            0.0  0.305705       0.210601     0.065424      0.457069   \n",
       "4   0.0            0.0  0.287080       0.281398     0.150766      0.395480   \n",
       "\n",
       "   third_place        a0        a1  value_coeff  num_of_starts_coeff  \\\n",
       "0     0.252687  0.188055  0.122240     0.188538             0.370619   \n",
       "1     0.000384  0.179139  0.556429     0.183213             0.417643   \n",
       "2     0.170623  0.155534  0.504470     0.200646             0.410766   \n",
       "3     0.033712  0.097977  0.283625     0.208070             0.387878   \n",
       "4     0.339505  0.267896  0.183689     0.179052             0.410339   \n",
       "\n",
       "   first_place_coeff  second_place_coeff  third_place_coeff        mu  \\\n",
       "0           0.297014            0.304611           0.310140  0.177221   \n",
       "1           0.299526            0.300714           0.298474  0.001899   \n",
       "2           0.304463            0.303523           0.300226  0.009197   \n",
       "3           0.304113            0.293847           0.305026  0.062073   \n",
       "4           0.299525            0.303334           0.269091  0.253783   \n",
       "\n",
       "   kid_value  \n",
       "0   0.077850  \n",
       "1   0.004002  \n",
       "2   0.019272  \n",
       "3   0.002074  \n",
       "4   0.264989  "
      ]
     },
     "execution_count": 259,
     "metadata": {},
     "output_type": "execute_result"
    }
   ],
   "source": [
    "basic_model_df = sim_model_basic.draws_pd()\n",
    "basic_model_df.head()"
   ]
  },
  {
   "cell_type": "code",
   "execution_count": 262,
   "metadata": {},
   "outputs": [
    {
     "data": {
      "text/plain": [
       "<matplotlib.legend.Legend at 0x7fc49fe89f70>"
      ]
     },
     "execution_count": 262,
     "metadata": {},
     "output_type": "execute_result"
    },
    {
     "data": {
      "image/png": "[encoded data removed]",
      "text/plain": [
       "<Figure size 1296x360 with 1 Axes>"
      ]
     },
     "metadata": {
      "needs_background": "light"
     },
     "output_type": "display_data"
    }
   ],
   "source": [
    "fig,axs= plt.subplots(1,1, figsize=(18,5))\n",
    "graph = sns.histplot(data=basic_model_df, x='kid_value',ax=axs,bins=20, label='Kid_value' ,stat='density')\n",
    "graph.axvline(basic_model_df.kid_value.mean(), color='red', label='Mean_generated')\n",
    "graph = sns.histplot(data=df_copy, x='value_numeric',ax=axs, color='green', label='value_numeric' ,bins=20 ,stat='density')\n",
    "graph.axvline(df_copy.value_numeric.mean(), color='yellow', label='Mean_observed')\n",
    "graph.legend()\n"
   ]
  },
  {
   "cell_type": "markdown",
   "metadata": {},
   "source": [
    "The very basic model ma sens xD\n",
    "mozna go rozwinąć \n",
    "popraw potem Kamil\n"
   ]
  },
  {
   "cell_type": "markdown",
   "metadata": {},
   "source": [
    "# Posterior Check - MODEL 1 "
   ]
  },
  {
   "cell_type": "code",
   "execution_count": 281,
   "metadata": {},
   "outputs": [],
   "source": [
    "import arviz as az\n"
   ]
  },
  {
   "cell_type": "code",
   "execution_count": 301,
   "metadata": {},
   "outputs": [
    {
     "name": "stderr",
     "output_type": "stream",
     "text": [
      "INFO:cmdstanpy:compiling stan file /home/racehorse_bayes/models/model_ppc_ver2.stan to exe file /home/racehorse_bayes/models/model_ppc_ver2\n"
     ]
    },
    {
     "name": "stderr",
     "output_type": "stream",
     "text": [
      "INFO:cmdstanpy:compiled model executable: /home/racehorse_bayes/models/model_ppc_ver2\n",
      "WARNING:cmdstanpy:Stan compiler has produced 2 warnings:\n",
      "WARNING:cmdstanpy:\n",
      "--- Translating Stan model to C++ code ---\n",
      "bin/stanc  --o=/home/racehorse_bayes/models/model_ppc_ver2.hpp /home/racehorse_bayes/models/model_ppc_ver2.stan\n",
      "Warning in '/home/racehorse_bayes/models/model_ppc_ver2.stan', line 25, column 4: Declaration\n",
      "    of arrays by placing brackets after a variable name is deprecated and\n",
      "    will be removed in Stan 2.32.0. Instead use the array keyword before the\n",
      "    type. This can be changed automatically using the auto-format flag to\n",
      "    stanc\n",
      "Warning in '/home/racehorse_bayes/models/model_ppc_ver2.stan', line 67, column 4: Declaration\n",
      "    of arrays by placing brackets after a variable name is deprecated and\n",
      "    will be removed in Stan 2.32.0. Instead use the array keyword before the\n",
      "    type. This can be changed automatically using the auto-format flag to\n",
      "    stanc\n",
      "\n",
      "--- Compiling, linking C++ code ---\n",
      "g++ -std=c++1y -pthread -D_REENTRANT -Wno-sign-compare -Wno-ignored-attributes      -I stan/lib/stan_math/lib/tbb_2020.3/include    -O3 -I src -I stan/src -I lib/rapidjson_1.1.0/ -I lib/CLI11-1.9.1/ -I stan/lib/stan_math/ -I stan/lib/stan_math/lib/eigen_3.3.9 -I stan/lib/stan_math/lib/boost_1.75.0 -I stan/lib/stan_math/lib/sundials_6.0.0/include -I stan/lib/stan_math/lib/sundials_6.0.0/src/sundials    -DBOOST_DISABLE_ASSERTS          -c -Wno-ignored-attributes   -x c++ -o /home/racehorse_bayes/models/model_ppc_ver2.o /home/racehorse_bayes/models/model_ppc_ver2.hpp\n",
      "g++ -std=c++1y -pthread -D_REENTRANT -Wno-sign-compare -Wno-ignored-attributes      -I stan/lib/stan_math/lib/tbb_2020.3/include    -O3 -I src -I stan/src -I lib/rapidjson_1.1.0/ -I lib/CLI11-1.9.1/ -I stan/lib/stan_math/ -I stan/lib/stan_math/lib/eigen_3.3.9 -I stan/lib/stan_math/lib/boost_1.75.0 -I stan/lib/stan_math/lib/sundials_6.0.0/include -I stan/lib/stan_math/lib/sundials_6.0.0/src/sundials    -DBOOST_DISABLE_ASSERTS                -Wl,-L,\"/opt/cmdstan-2.29.0/stan/lib/stan_math/lib/tbb\" -Wl,-rpath,\"/opt/cmdstan-2.29.0/stan/lib/stan_math/lib/tbb\"      /home/racehorse_bayes/models/model_ppc_ver2.o src/cmdstan/main.o        -Wl,-L,\"/opt/cmdstan-2.29.0/stan/lib/stan_math/lib/tbb\" -Wl,-rpath,\"/opt/cmdstan-2.29.0/stan/lib/stan_math/lib/tbb\"   stan/lib/stan_math/lib/sundials_6.0.0/lib/libsundials_nvecserial.a stan/lib/stan_math/lib/sundials_6.0.0/lib/libsundials_cvodes.a stan/lib/stan_math/lib/sundials_6.0.0/lib/libsundials_idas.a stan/lib/stan_math/lib/sundials_6.0.0/lib/libsundials_kinsol.a  stan/lib/stan_math/lib/tbb/libtbb.so.2 -o /home/racehorse_bayes/models/model_ppc_ver2\n",
      "rm -f /home/racehorse_bayes/models/model_ppc_ver2.o\n",
      "\n"
     ]
    }
   ],
   "source": [
    "fit_model_1=CmdStanModel(stan_file='models/model_ppc_ver2.stan')"
   ]
  },
  {
   "cell_type": "code",
   "execution_count": 302,
   "metadata": {},
   "outputs": [
    {
     "name": "stderr",
     "output_type": "stream",
     "text": [
      "INFO:cmdstanpy:CmdStan start processing\n",
      "chain 1 |\u001b[33m          \u001b[0m| 00:00 Status\n",
      "\u001b[A\n",
      "\n",
      "\u001b[A\u001b[A\n",
      "chain 1 |\u001b[33m▍         \u001b[0m| 00:00 Status\n",
      "\n",
      "\u001b[A\u001b[A"
     ]
    },
    {
     "name": "stderr",
     "output_type": "stream",
     "text": [
      "\n",
      "chain 1 |\u001b[33m██▋       \u001b[0m| 00:00 Iteration:  400 / 2000 [ 20%]  (Warmup)\n",
      "\n",
      "\u001b[A\u001b[A\n",
      "chain 1 |\u001b[33m█████     \u001b[0m| 00:00 Iteration:  900 / 2000 [ 45%]  (Warmup)\n",
      "\n",
      "\u001b[A\u001b[A\n",
      "chain 1 |\u001b[34m██████▊   \u001b[0m| 00:00 Iteration: 1200 / 2000 [ 60%]  (Sampling)\n",
      "\n",
      "\u001b[A\u001b[A\n",
      "chain 1 |\u001b[34m█████████ \u001b[0m| 00:00 Iteration: 1700 / 2000 [ 85%]  (Sampling)\n",
      "\n",
      "\u001b[A\u001b[A\n",
      "chain 1 |\u001b[34m██████████\u001b[0m| 00:00 Sampling completed                       \n",
      "chain 2 |\u001b[34m██████████\u001b[0m| 00:00 Sampling completed                       \n",
      "chain 3 |\u001b[34m██████████\u001b[0m| 00:00 Sampling completed                       \n",
      "chain 4 |\u001b[34m██████████\u001b[0m| 00:00 Sampling completed                       "
     ]
    },
    {
     "name": "stdout",
     "output_type": "stream",
     "text": [
      "                                                                                                                                                                                                                                                                                                                                "
     ]
    },
    {
     "name": "stderr",
     "output_type": "stream",
     "text": [
      "\n",
      "INFO:cmdstanpy:CmdStan done processing.\n"
     ]
    },
    {
     "name": "stdout",
     "output_type": "stream",
     "text": [
      "\n"
     ]
    }
   ],
   "source": [
    "data = { 'N': len(df_copy),\n",
    "        'dad_value_numeric': df_copy['dad_value_numeric'].values,\n",
    "        'dad_num_of_starts': df_copy.dad_num_of_starts,\n",
    "        'dad_first_place': df_copy.dad_first_place,\n",
    "        'dad_second_place': df_copy.dad_second_place,\n",
    "        'dad_third_place': df_copy.dad_third_place,\n",
    "        'kid_value': df_copy.value_numeric.values }\n",
    "\n",
    "fit1=fit_model_1.sample(data=data, seed=69420)\n",
    "\n"
   ]
  },
  {
   "cell_type": "code",
   "execution_count": 303,
   "metadata": {},
   "outputs": [
    {
     "data": {
      "text/html": [
       "<div>\n",
       "<style scoped>\n",
       "    .dataframe tbody tr th:only-of-type {\n",
       "        vertical-align: middle;\n",
       "    }\n",
       "\n",
       "    .dataframe tbody tr th {\n",
       "        vertical-align: top;\n",
       "    }\n",
       "\n",
       "    .dataframe thead th {\n",
       "        text-align: right;\n",
       "    }\n",
       "</style>\n",
       "<table border=\"1\" class=\"dataframe\">\n",
       "  <thead>\n",
       "    <tr style=\"text-align: right;\">\n",
       "      <th></th>\n",
       "      <th>mean</th>\n",
       "      <th>sd</th>\n",
       "      <th>hdi_3%</th>\n",
       "      <th>hdi_97%</th>\n",
       "    </tr>\n",
       "  </thead>\n",
       "  <tbody>\n",
       "    <tr>\n",
       "      <th>mu[0]</th>\n",
       "      <td>0.16</td>\n",
       "      <td>0.03</td>\n",
       "      <td>0.11</td>\n",
       "      <td>0.21</td>\n",
       "    </tr>\n",
       "    <tr>\n",
       "      <th>mu[1]</th>\n",
       "      <td>0.48</td>\n",
       "      <td>0.03</td>\n",
       "      <td>0.43</td>\n",
       "      <td>0.53</td>\n",
       "    </tr>\n",
       "    <tr>\n",
       "      <th>mu[2]</th>\n",
       "      <td>0.23</td>\n",
       "      <td>0.03</td>\n",
       "      <td>0.18</td>\n",
       "      <td>0.28</td>\n",
       "    </tr>\n",
       "    <tr>\n",
       "      <th>mu[3]</th>\n",
       "      <td>0.23</td>\n",
       "      <td>0.03</td>\n",
       "      <td>0.18</td>\n",
       "      <td>0.28</td>\n",
       "    </tr>\n",
       "    <tr>\n",
       "      <th>mu[4]</th>\n",
       "      <td>0.33</td>\n",
       "      <td>0.03</td>\n",
       "      <td>0.29</td>\n",
       "      <td>0.39</td>\n",
       "    </tr>\n",
       "    <tr>\n",
       "      <th>mu[5]</th>\n",
       "      <td>0.31</td>\n",
       "      <td>0.03</td>\n",
       "      <td>0.26</td>\n",
       "      <td>0.35</td>\n",
       "    </tr>\n",
       "    <tr>\n",
       "      <th>mu[6]</th>\n",
       "      <td>0.13</td>\n",
       "      <td>0.03</td>\n",
       "      <td>0.09</td>\n",
       "      <td>0.18</td>\n",
       "    </tr>\n",
       "    <tr>\n",
       "      <th>mu[7]</th>\n",
       "      <td>0.13</td>\n",
       "      <td>0.03</td>\n",
       "      <td>0.09</td>\n",
       "      <td>0.18</td>\n",
       "    </tr>\n",
       "    <tr>\n",
       "      <th>mu[8]</th>\n",
       "      <td>0.13</td>\n",
       "      <td>0.03</td>\n",
       "      <td>0.09</td>\n",
       "      <td>0.18</td>\n",
       "    </tr>\n",
       "    <tr>\n",
       "      <th>mu[9]</th>\n",
       "      <td>0.13</td>\n",
       "      <td>0.03</td>\n",
       "      <td>0.09</td>\n",
       "      <td>0.18</td>\n",
       "    </tr>\n",
       "    <tr>\n",
       "      <th>mu[10]</th>\n",
       "      <td>0.13</td>\n",
       "      <td>0.03</td>\n",
       "      <td>0.09</td>\n",
       "      <td>0.18</td>\n",
       "    </tr>\n",
       "    <tr>\n",
       "      <th>mu[11]</th>\n",
       "      <td>0.21</td>\n",
       "      <td>0.03</td>\n",
       "      <td>0.17</td>\n",
       "      <td>0.27</td>\n",
       "    </tr>\n",
       "    <tr>\n",
       "      <th>mu[12]</th>\n",
       "      <td>0.21</td>\n",
       "      <td>0.03</td>\n",
       "      <td>0.17</td>\n",
       "      <td>0.27</td>\n",
       "    </tr>\n",
       "    <tr>\n",
       "      <th>mu[13]</th>\n",
       "      <td>0.29</td>\n",
       "      <td>0.03</td>\n",
       "      <td>0.24</td>\n",
       "      <td>0.34</td>\n",
       "    </tr>\n",
       "    <tr>\n",
       "      <th>mu[14]</th>\n",
       "      <td>0.29</td>\n",
       "      <td>0.03</td>\n",
       "      <td>0.24</td>\n",
       "      <td>0.34</td>\n",
       "    </tr>\n",
       "    <tr>\n",
       "      <th>mu[15]</th>\n",
       "      <td>0.29</td>\n",
       "      <td>0.03</td>\n",
       "      <td>0.24</td>\n",
       "      <td>0.34</td>\n",
       "    </tr>\n",
       "    <tr>\n",
       "      <th>mu[16]</th>\n",
       "      <td>0.29</td>\n",
       "      <td>0.03</td>\n",
       "      <td>0.24</td>\n",
       "      <td>0.34</td>\n",
       "    </tr>\n",
       "    <tr>\n",
       "      <th>mu[17]</th>\n",
       "      <td>0.29</td>\n",
       "      <td>0.03</td>\n",
       "      <td>0.24</td>\n",
       "      <td>0.34</td>\n",
       "    </tr>\n",
       "    <tr>\n",
       "      <th>mu[18]</th>\n",
       "      <td>0.29</td>\n",
       "      <td>0.03</td>\n",
       "      <td>0.24</td>\n",
       "      <td>0.34</td>\n",
       "    </tr>\n",
       "    <tr>\n",
       "      <th>mu[19]</th>\n",
       "      <td>0.29</td>\n",
       "      <td>0.03</td>\n",
       "      <td>0.24</td>\n",
       "      <td>0.34</td>\n",
       "    </tr>\n",
       "    <tr>\n",
       "      <th>mu[20]</th>\n",
       "      <td>0.29</td>\n",
       "      <td>0.03</td>\n",
       "      <td>0.24</td>\n",
       "      <td>0.34</td>\n",
       "    </tr>\n",
       "    <tr>\n",
       "      <th>mu[21]</th>\n",
       "      <td>0.30</td>\n",
       "      <td>0.03</td>\n",
       "      <td>0.25</td>\n",
       "      <td>0.35</td>\n",
       "    </tr>\n",
       "    <tr>\n",
       "      <th>mu[22]</th>\n",
       "      <td>0.21</td>\n",
       "      <td>0.03</td>\n",
       "      <td>0.17</td>\n",
       "      <td>0.27</td>\n",
       "    </tr>\n",
       "    <tr>\n",
       "      <th>mu[23]</th>\n",
       "      <td>0.28</td>\n",
       "      <td>0.03</td>\n",
       "      <td>0.24</td>\n",
       "      <td>0.33</td>\n",
       "    </tr>\n",
       "    <tr>\n",
       "      <th>mu[24]</th>\n",
       "      <td>0.24</td>\n",
       "      <td>0.03</td>\n",
       "      <td>0.19</td>\n",
       "      <td>0.29</td>\n",
       "    </tr>\n",
       "    <tr>\n",
       "      <th>mu[25]</th>\n",
       "      <td>0.28</td>\n",
       "      <td>0.03</td>\n",
       "      <td>0.23</td>\n",
       "      <td>0.32</td>\n",
       "    </tr>\n",
       "    <tr>\n",
       "      <th>mu[26]</th>\n",
       "      <td>0.17</td>\n",
       "      <td>0.03</td>\n",
       "      <td>0.12</td>\n",
       "      <td>0.22</td>\n",
       "    </tr>\n",
       "    <tr>\n",
       "      <th>mu[27]</th>\n",
       "      <td>0.17</td>\n",
       "      <td>0.03</td>\n",
       "      <td>0.12</td>\n",
       "      <td>0.22</td>\n",
       "    </tr>\n",
       "    <tr>\n",
       "      <th>mu[28]</th>\n",
       "      <td>0.11</td>\n",
       "      <td>0.03</td>\n",
       "      <td>0.07</td>\n",
       "      <td>0.16</td>\n",
       "    </tr>\n",
       "    <tr>\n",
       "      <th>mu[29]</th>\n",
       "      <td>0.11</td>\n",
       "      <td>0.03</td>\n",
       "      <td>0.07</td>\n",
       "      <td>0.16</td>\n",
       "    </tr>\n",
       "    <tr>\n",
       "      <th>mu[30]</th>\n",
       "      <td>0.33</td>\n",
       "      <td>0.03</td>\n",
       "      <td>0.28</td>\n",
       "      <td>0.38</td>\n",
       "    </tr>\n",
       "    <tr>\n",
       "      <th>mu[31]</th>\n",
       "      <td>0.33</td>\n",
       "      <td>0.03</td>\n",
       "      <td>0.28</td>\n",
       "      <td>0.38</td>\n",
       "    </tr>\n",
       "    <tr>\n",
       "      <th>mu[32]</th>\n",
       "      <td>0.17</td>\n",
       "      <td>0.03</td>\n",
       "      <td>0.12</td>\n",
       "      <td>0.22</td>\n",
       "    </tr>\n",
       "    <tr>\n",
       "      <th>mu[33]</th>\n",
       "      <td>0.15</td>\n",
       "      <td>0.03</td>\n",
       "      <td>0.10</td>\n",
       "      <td>0.20</td>\n",
       "    </tr>\n",
       "    <tr>\n",
       "      <th>mu[34]</th>\n",
       "      <td>0.23</td>\n",
       "      <td>0.03</td>\n",
       "      <td>0.18</td>\n",
       "      <td>0.28</td>\n",
       "    </tr>\n",
       "    <tr>\n",
       "      <th>mu[35]</th>\n",
       "      <td>0.31</td>\n",
       "      <td>0.03</td>\n",
       "      <td>0.26</td>\n",
       "      <td>0.36</td>\n",
       "    </tr>\n",
       "    <tr>\n",
       "      <th>mu[36]</th>\n",
       "      <td>0.21</td>\n",
       "      <td>0.03</td>\n",
       "      <td>0.17</td>\n",
       "      <td>0.26</td>\n",
       "    </tr>\n",
       "    <tr>\n",
       "      <th>mu[37]</th>\n",
       "      <td>0.29</td>\n",
       "      <td>0.03</td>\n",
       "      <td>0.25</td>\n",
       "      <td>0.34</td>\n",
       "    </tr>\n",
       "    <tr>\n",
       "      <th>mu[38]</th>\n",
       "      <td>0.26</td>\n",
       "      <td>0.03</td>\n",
       "      <td>0.21</td>\n",
       "      <td>0.31</td>\n",
       "    </tr>\n",
       "    <tr>\n",
       "      <th>mu[39]</th>\n",
       "      <td>0.26</td>\n",
       "      <td>0.03</td>\n",
       "      <td>0.21</td>\n",
       "      <td>0.31</td>\n",
       "    </tr>\n",
       "  </tbody>\n",
       "</table>\n",
       "</div>"
      ],
      "text/plain": [
       "        mean    sd  hdi_3%  hdi_97%\n",
       "mu[0]   0.16  0.03    0.11     0.21\n",
       "mu[1]   0.48  0.03    0.43     0.53\n",
       "mu[2]   0.23  0.03    0.18     0.28\n",
       "mu[3]   0.23  0.03    0.18     0.28\n",
       "mu[4]   0.33  0.03    0.29     0.39\n",
       "mu[5]   0.31  0.03    0.26     0.35\n",
       "mu[6]   0.13  0.03    0.09     0.18\n",
       "mu[7]   0.13  0.03    0.09     0.18\n",
       "mu[8]   0.13  0.03    0.09     0.18\n",
       "mu[9]   0.13  0.03    0.09     0.18\n",
       "mu[10]  0.13  0.03    0.09     0.18\n",
       "mu[11]  0.21  0.03    0.17     0.27\n",
       "mu[12]  0.21  0.03    0.17     0.27\n",
       "mu[13]  0.29  0.03    0.24     0.34\n",
       "mu[14]  0.29  0.03    0.24     0.34\n",
       "mu[15]  0.29  0.03    0.24     0.34\n",
       "mu[16]  0.29  0.03    0.24     0.34\n",
       "mu[17]  0.29  0.03    0.24     0.34\n",
       "mu[18]  0.29  0.03    0.24     0.34\n",
       "mu[19]  0.29  0.03    0.24     0.34\n",
       "mu[20]  0.29  0.03    0.24     0.34\n",
       "mu[21]  0.30  0.03    0.25     0.35\n",
       "mu[22]  0.21  0.03    0.17     0.27\n",
       "mu[23]  0.28  0.03    0.24     0.33\n",
       "mu[24]  0.24  0.03    0.19     0.29\n",
       "mu[25]  0.28  0.03    0.23     0.32\n",
       "mu[26]  0.17  0.03    0.12     0.22\n",
       "mu[27]  0.17  0.03    0.12     0.22\n",
       "mu[28]  0.11  0.03    0.07     0.16\n",
       "mu[29]  0.11  0.03    0.07     0.16\n",
       "mu[30]  0.33  0.03    0.28     0.38\n",
       "mu[31]  0.33  0.03    0.28     0.38\n",
       "mu[32]  0.17  0.03    0.12     0.22\n",
       "mu[33]  0.15  0.03    0.10     0.20\n",
       "mu[34]  0.23  0.03    0.18     0.28\n",
       "mu[35]  0.31  0.03    0.26     0.36\n",
       "mu[36]  0.21  0.03    0.17     0.26\n",
       "mu[37]  0.29  0.03    0.25     0.34\n",
       "mu[38]  0.26  0.03    0.21     0.31\n",
       "mu[39]  0.26  0.03    0.21     0.31"
      ]
     },
     "execution_count": 303,
     "metadata": {},
     "output_type": "execute_result"
    }
   ],
   "source": [
    "az.summary(fit1, var_names=['mu'], round_to=2, kind='stats')"
   ]
  },
  {
   "cell_type": "code",
   "execution_count": 304,
   "metadata": {},
   "outputs": [
    {
     "data": {
      "text/html": [
       "<div>\n",
       "<style scoped>\n",
       "    .dataframe tbody tr th:only-of-type {\n",
       "        vertical-align: middle;\n",
       "    }\n",
       "\n",
       "    .dataframe tbody tr th {\n",
       "        vertical-align: top;\n",
       "    }\n",
       "\n",
       "    .dataframe thead th {\n",
       "        text-align: right;\n",
       "    }\n",
       "</style>\n",
       "<table border=\"1\" class=\"dataframe\">\n",
       "  <thead>\n",
       "    <tr style=\"text-align: right;\">\n",
       "      <th></th>\n",
       "      <th>lp__</th>\n",
       "      <th>accept_stat__</th>\n",
       "      <th>stepsize__</th>\n",
       "      <th>treedepth__</th>\n",
       "      <th>n_leapfrog__</th>\n",
       "      <th>divergent__</th>\n",
       "      <th>energy__</th>\n",
       "      <th>a0</th>\n",
       "      <th>a1</th>\n",
       "      <th>value_coeff</th>\n",
       "      <th>...</th>\n",
       "      <th>log_likelihood[31]</th>\n",
       "      <th>log_likelihood[32]</th>\n",
       "      <th>log_likelihood[33]</th>\n",
       "      <th>log_likelihood[34]</th>\n",
       "      <th>log_likelihood[35]</th>\n",
       "      <th>log_likelihood[36]</th>\n",
       "      <th>log_likelihood[37]</th>\n",
       "      <th>log_likelihood[38]</th>\n",
       "      <th>log_likelihood[39]</th>\n",
       "      <th>log_likelihood[40]</th>\n",
       "    </tr>\n",
       "  </thead>\n",
       "  <tbody>\n",
       "    <tr>\n",
       "      <th>0</th>\n",
       "      <td>10.57940</td>\n",
       "      <td>0.992370</td>\n",
       "      <td>0.499184</td>\n",
       "      <td>3.0</td>\n",
       "      <td>7.0</td>\n",
       "      <td>0.0</td>\n",
       "      <td>-7.31875</td>\n",
       "      <td>0.399715</td>\n",
       "      <td>0.074425</td>\n",
       "      <td>0.212102</td>\n",
       "      <td>...</td>\n",
       "      <td>0.732767</td>\n",
       "      <td>1.11894</td>\n",
       "      <td>1.94787</td>\n",
       "      <td>0.872006</td>\n",
       "      <td>-2.93940</td>\n",
       "      <td>0.588783</td>\n",
       "      <td>1.64879</td>\n",
       "      <td>0.681142</td>\n",
       "      <td>1.35408</td>\n",
       "      <td>1.23028</td>\n",
       "    </tr>\n",
       "    <tr>\n",
       "      <th>1</th>\n",
       "      <td>10.79430</td>\n",
       "      <td>1.000000</td>\n",
       "      <td>0.499184</td>\n",
       "      <td>3.0</td>\n",
       "      <td>7.0</td>\n",
       "      <td>0.0</td>\n",
       "      <td>-9.49587</td>\n",
       "      <td>0.612129</td>\n",
       "      <td>0.083533</td>\n",
       "      <td>0.186869</td>\n",
       "      <td>...</td>\n",
       "      <td>0.667415</td>\n",
       "      <td>1.01179</td>\n",
       "      <td>1.65789</td>\n",
       "      <td>0.901232</td>\n",
       "      <td>-2.31538</td>\n",
       "      <td>0.538257</td>\n",
       "      <td>1.43786</td>\n",
       "      <td>0.625751</td>\n",
       "      <td>1.20203</td>\n",
       "      <td>1.09731</td>\n",
       "    </tr>\n",
       "    <tr>\n",
       "      <th>2</th>\n",
       "      <td>9.62536</td>\n",
       "      <td>0.988976</td>\n",
       "      <td>0.499184</td>\n",
       "      <td>3.0</td>\n",
       "      <td>7.0</td>\n",
       "      <td>0.0</td>\n",
       "      <td>-8.04074</td>\n",
       "      <td>0.653310</td>\n",
       "      <td>0.221403</td>\n",
       "      <td>0.206748</td>\n",
       "      <td>...</td>\n",
       "      <td>0.682678</td>\n",
       "      <td>1.03609</td>\n",
       "      <td>1.77778</td>\n",
       "      <td>0.905191</td>\n",
       "      <td>-2.50814</td>\n",
       "      <td>0.554795</td>\n",
       "      <td>1.51899</td>\n",
       "      <td>0.644458</td>\n",
       "      <td>1.25232</td>\n",
       "      <td>1.14167</td>\n",
       "    </tr>\n",
       "    <tr>\n",
       "      <th>3</th>\n",
       "      <td>7.63775</td>\n",
       "      <td>0.920969</td>\n",
       "      <td>0.499184</td>\n",
       "      <td>3.0</td>\n",
       "      <td>7.0</td>\n",
       "      <td>0.0</td>\n",
       "      <td>-5.04265</td>\n",
       "      <td>0.356421</td>\n",
       "      <td>0.023027</td>\n",
       "      <td>0.200492</td>\n",
       "      <td>...</td>\n",
       "      <td>0.755246</td>\n",
       "      <td>1.15797</td>\n",
       "      <td>1.95760</td>\n",
       "      <td>0.872945</td>\n",
       "      <td>-3.03268</td>\n",
       "      <td>0.598624</td>\n",
       "      <td>1.66681</td>\n",
       "      <td>0.692929</td>\n",
       "      <td>1.38046</td>\n",
       "      <td>1.25297</td>\n",
       "    </tr>\n",
       "    <tr>\n",
       "      <th>4</th>\n",
       "      <td>10.75550</td>\n",
       "      <td>0.942771</td>\n",
       "      <td>0.499184</td>\n",
       "      <td>3.0</td>\n",
       "      <td>7.0</td>\n",
       "      <td>0.0</td>\n",
       "      <td>-5.24533</td>\n",
       "      <td>0.514859</td>\n",
       "      <td>0.055696</td>\n",
       "      <td>0.191806</td>\n",
       "      <td>...</td>\n",
       "      <td>0.693513</td>\n",
       "      <td>1.05359</td>\n",
       "      <td>1.74641</td>\n",
       "      <td>0.906261</td>\n",
       "      <td>-2.52054</td>\n",
       "      <td>0.558103</td>\n",
       "      <td>1.50732</td>\n",
       "      <td>0.646268</td>\n",
       "      <td>1.25640</td>\n",
       "      <td>1.14525</td>\n",
       "    </tr>\n",
       "  </tbody>\n",
       "</table>\n",
       "<p>5 rows × 134 columns</p>\n",
       "</div>"
      ],
      "text/plain": [
       "       lp__  accept_stat__  stepsize__  treedepth__  n_leapfrog__  \\\n",
       "0  10.57940       0.992370    0.499184          3.0           7.0   \n",
       "1  10.79430       1.000000    0.499184          3.0           7.0   \n",
       "2   9.62536       0.988976    0.499184          3.0           7.0   \n",
       "3   7.63775       0.920969    0.499184          3.0           7.0   \n",
       "4  10.75550       0.942771    0.499184          3.0           7.0   \n",
       "\n",
       "   divergent__  energy__        a0        a1  value_coeff  ...  \\\n",
       "0          0.0  -7.31875  0.399715  0.074425     0.212102  ...   \n",
       "1          0.0  -9.49587  0.612129  0.083533     0.186869  ...   \n",
       "2          0.0  -8.04074  0.653310  0.221403     0.206748  ...   \n",
       "3          0.0  -5.04265  0.356421  0.023027     0.200492  ...   \n",
       "4          0.0  -5.24533  0.514859  0.055696     0.191806  ...   \n",
       "\n",
       "   log_likelihood[31]  log_likelihood[32]  log_likelihood[33]  \\\n",
       "0            0.732767             1.11894             1.94787   \n",
       "1            0.667415             1.01179             1.65789   \n",
       "2            0.682678             1.03609             1.77778   \n",
       "3            0.755246             1.15797             1.95760   \n",
       "4            0.693513             1.05359             1.74641   \n",
       "\n",
       "   log_likelihood[34]  log_likelihood[35]  log_likelihood[36]  \\\n",
       "0            0.872006            -2.93940            0.588783   \n",
       "1            0.901232            -2.31538            0.538257   \n",
       "2            0.905191            -2.50814            0.554795   \n",
       "3            0.872945            -3.03268            0.598624   \n",
       "4            0.906261            -2.52054            0.558103   \n",
       "\n",
       "   log_likelihood[37]  log_likelihood[38]  log_likelihood[39]  \\\n",
       "0             1.64879            0.681142             1.35408   \n",
       "1             1.43786            0.625751             1.20203   \n",
       "2             1.51899            0.644458             1.25232   \n",
       "3             1.66681            0.692929             1.38046   \n",
       "4             1.50732            0.646268             1.25640   \n",
       "\n",
       "   log_likelihood[40]  \n",
       "0             1.23028  \n",
       "1             1.09731  \n",
       "2             1.14167  \n",
       "3             1.25297  \n",
       "4             1.14525  \n",
       "\n",
       "[5 rows x 134 columns]"
      ]
     },
     "execution_count": 304,
     "metadata": {},
     "output_type": "execute_result"
    }
   ],
   "source": [
    "predicted_df = fit1.draws_pd()\n",
    "predicted_df.head()"
   ]
  },
  {
   "cell_type": "code",
   "execution_count": 305,
   "metadata": {},
   "outputs": [],
   "source": [
    "predicted_df['mean_kid_value_pred'] =predicted_df.loc[:, \"kid_value_p[1]\":f\"kid_value_p[{len(df_copy)}]\"].mean(axis=1)\n",
    "predicted_df['mean_mu'] = predicted_df.loc[:, \"mu[1]\":f\"mu[{len(df_copy)}]\"].mean(axis=1)"
   ]
  },
  {
   "cell_type": "code",
   "execution_count": 306,
   "metadata": {},
   "outputs": [
    {
     "data": {
      "image/png": "[encoded data removed]",
      "text/plain": [
       "<Figure size 720x360 with 1 Axes>"
      ]
     },
     "metadata": {
      "needs_background": "light"
     },
     "output_type": "display_data"
    }
   ],
   "source": [
    "plt.figure(figsize=(10, 5))\n",
    "predicted = predicted_df.loc[:, \"kid_value_p[1]\":f\"kid_value_p[{len(df_copy)}]\"].values.reshape(-1)\n",
    "#predicted = ppc_df1[\"life_expectancy[1]\"]\n",
    "plt.hist([df_copy[\"value_numeric\"], predicted], bins=30, density=True)\n",
    "plt.xlabel(\"Value\")\n",
    "plt.title(\"Posterior predictive check\")\n",
    "plt.legend([\"Observed\", \"Predicted\"])\n",
    "plt.show()"
   ]
  },
  {
   "cell_type": "code",
   "execution_count": 307,
   "metadata": {},
   "outputs": [
    {
     "data": {
      "text/plain": [
       "<matplotlib.legend.Legend at 0x7fc46adde7c0>"
      ]
     },
     "execution_count": 307,
     "metadata": {},
     "output_type": "execute_result"
    },
    {
     "data": {
      "image/png": "[encoded data removed]",
      "text/plain": [
       "<Figure size 1296x360 with 1 Axes>"
      ]
     },
     "metadata": {
      "needs_background": "light"
     },
     "output_type": "display_data"
    }
   ],
   "source": [
    "fig,axs= plt.subplots(1,1, figsize=(18,5))\n",
    "predicted = predicted_df.loc[:, \"kid_value_p[1]\":f\"kid_value_p[{len(df_copy)}]\"].values.reshape(-1)\n",
    "graph = sns.histplot(data=predicted,ax=axs,bins=100, label='kid_value_pred',stat='density')\n",
    "graph.axvline(predicted.mean(), color='red', label='Mean_predicted')\n",
    "graph = sns.histplot(data=df_copy, x='value_numeric',ax=axs, color='green', label='value_numeric' ,bins=20 ,stat='density')\n",
    "graph.axvline(df_copy.value_numeric.mean(), color='orange', label='Mean_observed')\n",
    "graph.legend()\n",
    "# graph.set(xlim=(0,1))"
   ]
  },
  {
   "cell_type": "markdown",
   "metadata": {},
   "source": [
    "jest sensownie mozna sie pokusic o zmiane prarametrow zeby średnia była blizej \n",
    "dlugi ogon to je chujnia \n",
    "powinno si eucinac bardziej z tylu\n",
    "powiinno byc bardziej do gory\n",
    "rozlozona metryka\n",
    "\n",
    "\n",
    "\n",
    "poszukac modelu ktory schodzi jak exp ale wyplaszczaq sie wolniej"
   ]
  },
  {
   "cell_type": "code",
   "execution_count": null,
   "metadata": {},
   "outputs": [
    {
     "data": {
      "text/plain": [
       "(-1.956011502714073, 0.8325546111576977)"
      ]
     },
     "execution_count": 146,
     "metadata": {},
     "output_type": "execute_result"
    }
   ],
   "source": [
    "log_maker(0.2,0.2)"
   ]
  }
 ],
 "metadata": {
  "kernelspec": {
   "display_name": "michalmotyl",
   "language": "python",
   "name": "python3"
  },
  "language_info": {
   "codemirror_mode": {
    "name": "ipython",
    "version": 3
   },
   "file_extension": ".py",
   "mimetype": "text/x-python",
   "name": "python",
   "nbconvert_exporter": "python",
   "pygments_lexer": "ipython3",
   "version": "3.9.11"
  },
  "orig_nbformat": 4
 },
 "nbformat": 4,
 "nbformat_minor": 2
}
